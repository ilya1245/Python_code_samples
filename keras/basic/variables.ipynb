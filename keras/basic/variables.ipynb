{
 "cells": [
  {
   "cell_type": "code",
   "execution_count": 1,
   "metadata": {
    "collapsed": true
   },
   "outputs": [],
   "source": [
    "import numpy as np\n",
    "import tensorflow as tf\n",
    "from pprint import pprint"
   ]
  },
  {
   "cell_type": "code",
   "execution_count": 2,
   "metadata": {},
   "outputs": [],
   "source": [
    "x = tf.random.uniform((3, 2))"
   ]
  },
  {
   "cell_type": "code",
   "execution_count": 3,
   "metadata": {},
   "outputs": [
    {
     "name": "stdout",
     "output_type": "stream",
     "text": [
      "<tf.Variable 'Variable:0' shape=(3, 2) dtype=float32, numpy=\narray([[0.3483125 , 0.2046386 ],\n       [0.7643287 , 0.69860435],\n       [0.4458078 , 0.6048821 ]], dtype=float32)>\n"
     ]
    }
   ],
   "source": [
    "v = tf.Variable(x)\n",
    "pprint(v)"
   ]
  },
  {
   "cell_type": "code",
   "execution_count": 4,
   "metadata": {},
   "outputs": [
    {
     "name": "stdout",
     "output_type": "stream",
     "text": [
      "<tf.Tensor: shape=(3, 2), dtype=float32, numpy=\narray([[0.1213216 , 0.04187696],\n       [0.5841984 , 0.48804802],\n       [0.19874461, 0.36588237]], dtype=float32)>\n<tf.Tensor: shape=(3, 2), dtype=float32, numpy=\narray([[0.1213216 , 0.04187696],\n       [0.5841984 , 0.48804802],\n       [0.19874461, 0.36588237]], dtype=float32)>\n"
     ]
    }
   ],
   "source": [
    "pprint(tf.square(x))\n",
    "pprint(tf.square(v))"
   ]
  },
  {
   "cell_type": "code",
   "execution_count": 15,
   "metadata": {},
   "outputs": [
    {
     "name": "stdout",
     "output_type": "stream",
     "text": [
      "<tf.Variable 'Variable:0' shape=(3, 2) dtype=float32, numpy=\narray([[1.2789769e-13, 0.0000000e+00],\n       [8.8257352e-03, 5.8383652e-04],\n       [3.7756820e-10, 6.3601415e-06]], dtype=float32)>\n"
     ]
    }
   ],
   "source": [
    "v.assign(tf.square(v))\n",
    "pprint(v)"
   ]
  },
  {
   "cell_type": "code",
   "execution_count": 16,
   "metadata": {},
   "outputs": [
    {
     "name": "stdout",
     "output_type": "stream",
     "text": [
      "<tf.Variable 'Variable:0' shape=(3, 2) dtype=float32, numpy=\narray([[-1.       , -1.       ],\n       [-0.9911743, -0.9994162],\n       [-1.       , -0.9999936]], dtype=float32)>\n"
     ]
    }
   ],
   "source": [
    "v.assign_sub(1 * tf.ones_like(v, dtype=v.dtype))\n",
    "pprint(v)"
   ]
  },
  {
   "cell_type": "code",
   "execution_count": 11,
   "metadata": {},
   "outputs": [],
   "source": []
  },
  {
   "cell_type": "code",
   "execution_count": 11,
   "metadata": {},
   "outputs": [],
   "source": []
  },
  {
   "cell_type": "code",
   "execution_count": null,
   "metadata": {},
   "outputs": [],
   "source": []
  }
 ],
 "metadata": {
  "kernelspec": {
   "display_name": "Python 2",
   "language": "python",
   "name": "python2"
  },
  "language_info": {
   "codemirror_mode": {
    "name": "ipython",
    "version": 2
   },
   "file_extension": ".py",
   "mimetype": "text/x-python",
   "name": "python",
   "nbconvert_exporter": "python",
   "pygments_lexer": "ipython2",
   "version": "2.7.6"
  }
 },
 "nbformat": 4,
 "nbformat_minor": 0
}
