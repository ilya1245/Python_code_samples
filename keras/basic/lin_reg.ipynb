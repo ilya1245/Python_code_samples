{
 "cells": [
  {
   "cell_type": "code",
   "execution_count": 1,
   "metadata": {},
   "outputs": [],
   "source": [
    "import numpy as np\n",
    "import tensorflow as tf\n",
    "from pprint import pprint"
   ]
  },
  {
   "cell_type": "code",
   "execution_count": 2,
   "metadata": {},
   "outputs": [
    {
     "data": {
      "text/plain": [
       "<tf.Tensor: shape=(5, 1), dtype=float32, numpy=\narray([[0.],\n       [1.],\n       [2.],\n       [3.],\n       [4.]], dtype=float32)>"
      ]
     },
     "execution_count": 2,
     "metadata": {},
     "output_type": "execute_result"
    }
   ],
   "source": [
    "# ground truth\n",
    "true_weights = tf.constant(list(range(5)), dtype=tf.float32)[:, tf.newaxis]\n",
    "true_weights"
   ]
  },
  {
   "cell_type": "code",
   "execution_count": 3,
   "metadata": {},
   "outputs": [
    {
     "name": "stdout",
     "output_type": "stream",
     "text": [
      "<tf.Tensor: shape=(32, 5), dtype=float32, numpy=\narray([[0.50827897, 0.68472016, 0.663056  , 0.35499907, 0.9935324 ],\n       [0.4008205 , 0.21873057, 0.63302207, 0.5512996 , 0.43582392],\n       [0.26583052, 0.38076222, 0.07814848, 0.88594973, 0.6069381 ],\n       [0.9746609 , 0.47897816, 0.2755072 , 0.6729342 , 0.7206811 ],\n       [0.22948503, 0.41642725, 0.15160847, 0.6733655 , 0.5963161 ],\n       [0.10002267, 0.33886755, 0.7351037 , 0.2793635 , 0.9117718 ],\n       [0.6929182 , 0.21131074, 0.5820744 , 0.7700647 , 0.2142787 ],\n       [0.21243012, 0.6621958 , 0.01394904, 0.7591262 , 0.21653199],\n       [0.54789996, 0.13434839, 0.20061994, 0.66866565, 0.08818734],\n       [0.6378305 , 0.22295201, 0.17221606, 0.6294701 , 0.32779562],\n       [0.92749953, 0.44916463, 0.99735594, 0.3138337 , 0.7281059 ],\n       [0.67789495, 0.42812932, 0.04376686, 0.8314651 , 0.01854885],\n       [0.15297997, 0.92780066, 0.51139987, 0.9148418 , 0.27252507],\n       [0.83436775, 0.25798488, 0.30214775, 0.9247707 , 0.10505319],\n       [0.18132448, 0.16118479, 0.7146486 , 0.43265355, 0.8453709 ],\n       [0.19126284, 0.66739976, 0.77210236, 0.5200542 , 0.48594725],\n       [0.64508474, 0.7464582 , 0.06150401, 0.39542854, 0.7700738 ],\n       [0.38053787, 0.79537964, 0.55505145, 0.7078159 , 0.48463988],\n       [0.65278757, 0.3234713 , 0.7356812 , 0.12225294, 0.545401  ],\n       [0.04302585, 0.9207827 , 0.6749618 , 0.31299865, 0.39792895],\n       [0.7116616 , 0.7909961 , 0.12689245, 0.12031913, 0.8250432 ],\n       [0.7310375 , 0.11595082, 0.32812488, 0.01977944, 0.3307147 ],\n       [0.862651  , 0.18913448, 0.58094025, 0.92875504, 0.10842693],\n       [0.16941619, 0.9290829 , 0.72077155, 0.38906932, 0.87487805],\n       [0.8223976 , 0.5186845 , 0.8887743 , 0.06752276, 0.7102438 ],\n       [0.71387684, 0.0416137 , 0.6148521 , 0.5776441 , 0.50535035],\n       [0.03940725, 0.22089064, 0.30344903, 0.41518116, 0.4456278 ],\n       [0.37091088, 0.6831037 , 0.27516234, 0.83725   , 0.92974806],\n       [0.77375305, 0.74584544, 0.76640856, 0.57297695, 0.7287003 ],\n       [0.36859202, 0.17748272, 0.84208405, 0.8219346 , 0.876192  ],\n       [0.7914572 , 0.66512096, 0.95057404, 0.3882221 , 0.54794466],\n       [0.21515667, 0.44395173, 0.10594022, 0.06791973, 0.36091328]],\n      dtype=float32)>\n<tf.Tensor: shape=(32, 1), dtype=float32, numpy=\narray([[7.049959 ],\n       [4.881969 ],\n       [5.622661 ],\n       [5.9315195],\n       [5.125005 ],\n       [6.2942524],\n       [4.5427685],\n       [3.8336005],\n       [2.8943346],\n       [3.7669768],\n       [6.297801 ],\n       [3.0842538],\n       [5.785226 ],\n       [4.056805 ],\n       [6.269926 ],\n       [5.715556 ],\n       [5.136047 ],\n       [5.9674897],\n       [4.3431964],\n       [4.801418 ],\n       [4.705911 ],\n       [2.1543977],\n       [4.5709877],\n       [7.037346 ],\n       [5.339777 ],\n       [5.0256515],\n       [3.8558435],\n       [7.4641705],\n       [6.9123945],\n       [7.8322225],\n       [5.9227138],\n       [2.3032446]], dtype=float32)>\n"
     ]
    }
   ],
   "source": [
    "# some random training data\n",
    "x = tf.constant(tf.random.uniform((32, 5)), dtype=tf.float32)\n",
    "y = tf.constant(x @ true_weights, dtype=tf.float32)\n",
    "pprint(x)\n",
    "pprint(y)"
   ]
  },
  {
   "cell_type": "code",
   "execution_count": 4,
   "metadata": {},
   "outputs": [
    {
     "name": "stdout",
     "output_type": "stream",
     "text": [
      "<tf.Tensor: shape=(32, 1), dtype=float32, numpy=\narray([[7.049959 ],\n       [4.881969 ],\n       [5.622661 ],\n       [5.9315195],\n       [5.125005 ],\n       [6.2942524],\n       [4.5427685],\n       [3.8336005],\n       [2.8943346],\n       [3.7669768],\n       [6.297801 ],\n       [3.0842538],\n       [5.785226 ],\n       [4.056805 ],\n       [6.269926 ],\n       [5.715556 ],\n       [5.136047 ],\n       [5.9674897],\n       [4.3431964],\n       [4.801418 ],\n       [4.705911 ],\n       [2.1543977],\n       [4.5709877],\n       [7.037346 ],\n       [5.339777 ],\n       [5.0256515],\n       [3.8558435],\n       [7.4641705],\n       [6.9123945],\n       [7.8322225],\n       [5.9227138],\n       [2.3032446]], dtype=float32)>\n"
     ]
    }
   ],
   "source": [
    "# z = tf.linalg.matmul(x, true_weights)\n",
    "z = x @ true_weights\n",
    "pprint(z)"
   ]
  },
  {
   "cell_type": "code",
   "execution_count": 5,
   "metadata": {},
   "outputs": [
    {
     "name": "stdout",
     "output_type": "stream",
     "text": [
      "<tf.Variable 'Variable:0' shape=(5, 1) dtype=float32, numpy=\narray([[0.88392293],\n       [0.8370509 ],\n       [0.6732271 ],\n       [0.6723341 ],\n       [0.8484428 ]], dtype=float32)>\n"
     ]
    }
   ],
   "source": [
    "# model parameters\n",
    "weights = tf.Variable(tf.random.uniform((5, 1)), dtype=tf.float32)\n",
    "pprint(weights)"
   ]
  },
  {
   "cell_type": "code",
   "execution_count": 7,
   "metadata": {},
   "outputs": [
    {
     "name": "stdout",
     "output_type": "stream",
     "text": [
      "mean squared loss at iteration    0 is 0.0000\nmean squared loss at iteration  100 is 0.0000\nmean squared loss at iteration  200 is 0.0000\nmean squared loss at iteration  300 is 0.0000"
     ]
    },
    {
     "name": "stdout",
     "output_type": "stream",
     "text": [
      "\nmean squared loss at iteration  400 is 0.0000\nmean squared loss at iteration  500 is 0.0000\nmean squared loss at iteration  600 is 0.0000\n"
     ]
    },
    {
     "name": "stdout",
     "output_type": "stream",
     "text": [
      "mean squared loss at iteration  700 is 0.0000\nmean squared loss at iteration  800 is 0.0000\nmean squared loss at iteration  900 is 0.0000\nmean squared loss at iteration 1000 is 0.0000\n<tf.Variable 'Variable:0' shape=(5, 1) dtype=float32, numpy=\narray([[2.3329414e-07],\n       [1.0000010e+00],\n       [2.0000005e+00],\n       [2.9999995e+00],\n       [3.9999988e+00]], dtype=float32)>\n"
     ]
    }
   ],
   "source": [
    "# calculate true weights using gradient of loss function\n",
    "for iteration in range(1001):\n",
    "    with tf.GradientTape() as tape:\n",
    "        y_hat = tf.linalg.matmul(x, weights)\n",
    "        loss = tf.reduce_mean(tf.square(y - y_hat))\n",
    "    if not (iteration % 100):\n",
    "        print('mean squared loss at iteration {:4d} is {:5.4f}'.format\n",
    "              (iteration, loss))\n",
    "    gradients = tape.gradient(loss, weights)\n",
    "    weights.assign_add(-0.5 * gradients)\n",
    "pprint(weights)"
   ]
  },
  {
   "cell_type": "code",
   "execution_count": null,
   "metadata": {},
   "outputs": [],
   "source": []
  }
 ],
 "metadata": {
  "kernelspec": {
   "display_name": "Python 3",
   "language": "python",
   "name": "python3"
  },
  "language_info": {
   "codemirror_mode": {
    "name": "ipython",
    "version": 3
   },
   "file_extension": ".py",
   "mimetype": "text/x-python",
   "name": "python",
   "nbconvert_exporter": "python",
   "pygments_lexer": "ipython3",
   "version": "3.7.7"
  }
 },
 "nbformat": 4,
 "nbformat_minor": 1
}
