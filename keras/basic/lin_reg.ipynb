{
 "cells": [
  {
   "cell_type": "code",
   "execution_count": 1,
   "metadata": {},
   "outputs": [],
   "source": [
    "import numpy as np\n",
    "import tensorflow as tf\n",
    "from pprint import pprint"
   ]
  },
  {
   "cell_type": "code",
   "execution_count": 2,
   "metadata": {},
   "outputs": [
    {
     "data": {
      "text/plain": [
       "<tf.Tensor: shape=(5, 1), dtype=float32, numpy=\n",
       "array([[0.],\n",
       "       [1.],\n",
       "       [2.],\n",
       "       [3.],\n",
       "       [4.]], dtype=float32)>"
      ]
     },
     "execution_count": 2,
     "metadata": {},
     "output_type": "execute_result"
    }
   ],
   "source": [
    "# ground truth\n",
    "true_weights = tf.constant(list(range(5)), dtype=tf.float32)[:, tf.newaxis]\n",
    "true_weights"
   ]
  },
  {
   "cell_type": "code",
   "execution_count": 3,
   "metadata": {},
   "outputs": [
    {
     "name": "stdout",
     "output_type": "stream",
     "text": [
      "<tf.Tensor: shape=(32, 5), dtype=float32, numpy=\n",
      "array([[0.7002722 , 0.24240613, 0.36603093, 0.7869246 , 0.32483244],\n",
      "       [0.13621354, 0.92264414, 0.04672873, 0.8722913 , 0.83894837],\n",
      "       [0.6610607 , 0.30045998, 0.7715732 , 0.8334985 , 0.5688288 ],\n",
      "       [0.28000474, 0.12908816, 0.714069  , 0.5418378 , 0.79063475],\n",
      "       [0.6224332 , 0.6061647 , 0.27062547, 0.12274373, 0.5862247 ],\n",
      "       [0.6680366 , 0.7745929 , 0.46733868, 0.45637977, 0.6191393 ],\n",
      "       [0.3426783 , 0.05436754, 0.716414  , 0.7566786 , 0.23408353],\n",
      "       [0.03379881, 0.39573884, 0.77124786, 0.01030278, 0.13139725],\n",
      "       [0.9226649 , 0.63663065, 0.46112335, 0.35627687, 0.8740721 ],\n",
      "       [0.87078273, 0.21959078, 0.7450887 , 0.343997  , 0.70119035],\n",
      "       [0.79227734, 0.9510634 , 0.04753792, 0.8286134 , 0.7942163 ],\n",
      "       [0.39978492, 0.17558384, 0.24328423, 0.49246502, 0.456977  ],\n",
      "       [0.665903  , 0.36734152, 0.13458002, 0.69761145, 0.26371193],\n",
      "       [0.31050205, 0.16827965, 0.8386116 , 0.38141954, 0.04070985],\n",
      "       [0.20166254, 0.06311107, 0.64446735, 0.31630826, 0.256366  ],\n",
      "       [0.17419088, 0.9057722 , 0.8601215 , 0.127586  , 0.88703716],\n",
      "       [0.7709496 , 0.9256723 , 0.07735336, 0.77921486, 0.44789076],\n",
      "       [0.83888674, 0.19932187, 0.27335286, 0.11992311, 0.2655989 ],\n",
      "       [0.9284518 , 0.29451418, 0.7724955 , 0.5700271 , 0.67295706],\n",
      "       [0.17357457, 0.31701744, 0.526453  , 0.47965658, 0.5246016 ],\n",
      "       [0.09960496, 0.4060825 , 0.7469181 , 0.9024569 , 0.52184105],\n",
      "       [0.68884563, 0.43209505, 0.9338405 , 0.6130738 , 0.4916085 ],\n",
      "       [0.12616634, 0.92876184, 0.38802564, 0.10049319, 0.47192323],\n",
      "       [0.64414775, 0.95642436, 0.17907786, 0.27511883, 0.27400053],\n",
      "       [0.42582154, 0.5776799 , 0.6047709 , 0.51975024, 0.7498555 ],\n",
      "       [0.9145205 , 0.4252231 , 0.100106  , 0.8250419 , 0.8581364 ],\n",
      "       [0.4679203 , 0.7065767 , 0.8899566 , 0.34562838, 0.44091272],\n",
      "       [0.8207476 , 0.20660722, 0.71628416, 0.512846  , 0.981969  ],\n",
      "       [0.87619007, 0.13525164, 0.18067503, 0.887792  , 0.48439705],\n",
      "       [0.5683465 , 0.95289564, 0.26831114, 0.32754052, 0.0056814 ],\n",
      "       [0.8927281 , 0.9612552 , 0.49773085, 0.01891887, 0.9813422 ],\n",
      "       [0.03157139, 0.3706063 , 0.53919876, 0.04212511, 0.5777743 ]],\n",
      "      dtype=float32)>\n",
      "<tf.Tensor: shape=(32, 1), dtype=float32, numpy=\n",
      "array([[4.6345716],\n",
      "       [6.988769 ],\n",
      "       [6.619417 ],\n",
      "       [6.3452787],\n",
      "       [3.8605456],\n",
      "       [5.554967 ],\n",
      "       [4.6935654],\n",
      "       [2.494732 ],\n",
      "       [6.1239963],\n",
      "       [5.5465207],\n",
      "       [6.7088447],\n",
      "       [3.9674554],\n",
      "       [3.7841837],\n",
      "       [3.1526008],\n",
      "       [3.3264346],\n",
      "       [6.556922 ],\n",
      "       [5.2095866],\n",
      "       [2.1681924],\n",
      "       [6.241415 ],\n",
      "       [4.9072995],\n",
      "       [6.6946535],\n",
      "       [6.1054316],\n",
      "       [3.8939857],\n",
      "       [3.2359385],\n",
      "       [6.3458943],\n",
      "       [6.533107 ],\n",
      "       [5.287026 ],\n",
      "       [7.1055894],\n",
      "       [5.0975657],\n",
      "       [2.494865 ],\n",
      "       [5.9388423],\n",
      "       [3.8864763]], dtype=float32)>\n"
     ]
    }
   ],
   "source": [
    "# some random training data\n",
    "x = tf.constant(tf.random.uniform((32, 5)), dtype=tf.float32)\n",
    "y = tf.constant(x @ true_weights, dtype=tf.float32)\n",
    "pprint(x)\n",
    "pprint(y)"
   ]
  },
  {
   "cell_type": "code",
   "execution_count": 4,
   "metadata": {},
   "outputs": [
    {
     "name": "stdout",
     "output_type": "stream",
     "text": [
      "<tf.Tensor: shape=(32, 1), dtype=float32, numpy=\n",
      "array([[4.6345716],\n",
      "       [6.988769 ],\n",
      "       [6.619417 ],\n",
      "       [6.3452787],\n",
      "       [3.8605456],\n",
      "       [5.554967 ],\n",
      "       [4.6935654],\n",
      "       [2.494732 ],\n",
      "       [6.1239963],\n",
      "       [5.5465207],\n",
      "       [6.7088447],\n",
      "       [3.9674554],\n",
      "       [3.7841837],\n",
      "       [3.1526008],\n",
      "       [3.3264346],\n",
      "       [6.556922 ],\n",
      "       [5.2095866],\n",
      "       [2.1681924],\n",
      "       [6.241415 ],\n",
      "       [4.9072995],\n",
      "       [6.6946535],\n",
      "       [6.1054316],\n",
      "       [3.8939857],\n",
      "       [3.2359385],\n",
      "       [6.3458943],\n",
      "       [6.533107 ],\n",
      "       [5.287026 ],\n",
      "       [7.1055894],\n",
      "       [5.0975657],\n",
      "       [2.494865 ],\n",
      "       [5.9388423],\n",
      "       [3.8864763]], dtype=float32)>\n"
     ]
    }
   ],
   "source": [
    "# z = tf.linalg.matmul(x, true_weights)\n",
    "z = x @ true_weights\n",
    "pprint(z)"
   ]
  },
  {
   "cell_type": "code",
   "execution_count": 5,
   "metadata": {},
   "outputs": [
    {
     "name": "stdout",
     "output_type": "stream",
     "text": [
      "<tf.Variable 'Variable:0' shape=(5, 1) dtype=float32, numpy=\n",
      "array([[0.6779481 ],\n",
      "       [0.6463821 ],\n",
      "       [0.5372791 ],\n",
      "       [0.25257266],\n",
      "       [0.03718925]], dtype=float32)>\n"
     ]
    }
   ],
   "source": [
    "# model parameters\n",
    "weights = tf.Variable(tf.random.uniform((5, 1)), dtype=tf.float32)\n",
    "pprint(weights)"
   ]
  },
  {
   "cell_type": "code",
   "execution_count": 6,
   "metadata": {},
   "outputs": [
    {
     "name": "stdout",
     "output_type": "stream",
     "text": [
      "mean squared loss at iteration    0 is 17.4714\n",
      "mean squared loss at iteration  100 is 0.0834\n",
      "mean squared loss at iteration  200 is 0.0121\n",
      "mean squared loss at iteration  300 is 0.0019\n",
      "mean squared loss at iteration  400 is 0.0003\n",
      "mean squared loss at iteration  500 is 0.0001\n",
      "mean squared loss at iteration  600 is 0.0000\n",
      "mean squared loss at iteration  700 is 0.0000\n",
      "mean squared loss at iteration  800 is 0.0000\n",
      "mean squared loss at iteration  900 is 0.0000\n",
      "mean squared loss at iteration 1000 is 0.0000\n",
      "<tf.Variable 'Variable:0' shape=(5, 1) dtype=float32, numpy=\n",
      "array([[1.1309592e-04],\n",
      "       [1.0001228e+00],\n",
      "       [2.0001121e+00],\n",
      "       [3.0000324e+00],\n",
      "       [3.9996564e+00]], dtype=float32)>\n"
     ]
    }
   ],
   "source": [
    "# calculate true weights using gradient of loss function\n",
    "for iteration in range(1001):\n",
    "    with tf.GradientTape() as tape:\n",
    "        y_hat = tf.linalg.matmul(x, weights)\n",
    "        loss = tf.reduce_mean(tf.square(y - y_hat))\n",
    "    if not (iteration % 100):\n",
    "        print('mean squared loss at iteration {:4d} is {:5.4f}'.format\n",
    "              (iteration, loss))\n",
    "    gradients = tape.gradient(loss, weights)\n",
    "    weights.assign_add(-0.1 * gradients)\n",
    "pprint(weights)"
   ]
  },
  {
   "cell_type": "code",
   "execution_count": null,
   "metadata": {},
   "outputs": [],
   "source": []
  }
 ],
 "metadata": {
  "kernelspec": {
   "display_name": "Python 3",
   "language": "python",
   "name": "python3"
  },
  "language_info": {
   "codemirror_mode": {
    "name": "ipython",
    "version": 3
   },
   "file_extension": ".py",
   "mimetype": "text/x-python",
   "name": "python",
   "nbconvert_exporter": "python",
   "pygments_lexer": "ipython3",
   "version": "3.7.7"
  }
 },
 "nbformat": 4,
 "nbformat_minor": 1
}
