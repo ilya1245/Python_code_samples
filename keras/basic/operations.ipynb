{
 "cells": [
  {
   "cell_type": "code",
   "execution_count": 14,
   "metadata": {
    "collapsed": true
   },
   "outputs": [],
   "source": [
    "import numpy as np\n",
    "import tensorflow as tf\n",
    "from pprint import pprint"
   ]
  },
  {
   "cell_type": "code",
   "execution_count": 15,
   "metadata": {},
   "outputs": [
    {
     "name": "stdout",
     "output_type": "stream",
     "text": [
      "<tf.Tensor: shape=(3, 2), dtype=float32, numpy=\narray([[0.6887747 , 0.5543525 ],\n       [0.31465697, 0.34848368],\n       [0.1494317 , 0.42190182]], dtype=float32)>\n<tf.Tensor: shape=(3, 2), dtype=float32, numpy=\narray([[0.7059096 , 0.90384674],\n       [0.7696272 , 0.59107554],\n       [0.00255585, 0.8723327 ]], dtype=float32)>\n"
     ]
    }
   ],
   "source": [
    "x = tf.random.uniform((3, 2))\n",
    "e = tf.random.uniform((3, 2), dtype=x.dtype)\n",
    "pprint(x)\n",
    "pprint(e)"
   ]
  },
  {
   "cell_type": "code",
   "execution_count": 16,
   "metadata": {},
   "outputs": [
    {
     "name": "stdout",
     "output_type": "stream",
     "text": [
      "<tf.Tensor: shape=(), dtype=bool, numpy=True>\n"
     ]
    },
    {
     "data": {
      "text/plain": [
       "<tf.Tensor: shape=(3, 2), dtype=float32, numpy=\narray([[1.3946843 , 1.4581993 ],\n       [1.0842842 , 0.9395592 ],\n       [0.15198755, 1.2942345 ]], dtype=float32)>"
      ]
     },
     "execution_count": 16,
     "metadata": {},
     "output_type": "execute_result"
    }
   ],
   "source": [
    "\n",
    "pprint(tf.math.reduce_all(x.__add__(e) == tf.add(x, e)))\n",
    "tf.add(x, e)"
   ]
  },
  {
   "cell_type": "code",
   "execution_count": 17,
   "metadata": {},
   "outputs": [
    {
     "name": "stdout",
     "output_type": "stream",
     "text": [
      "<class 'numpy.ndarray'>\narray([[0.6887747 , 0.5543525 ],\n       [0.31465697, 0.34848368],\n       [0.1494317 , 0.42190182]], dtype=float32)\n"
     ]
    },
    {
     "data": {
      "text/plain": [
       "array([[0.6887747 , 0.5543525 ],\n       [0.31465697, 0.34848368],\n       [0.1494317 , 0.42190182]], dtype=float32)"
      ]
     },
     "execution_count": 17,
     "metadata": {},
     "output_type": "execute_result"
    }
   ],
   "source": [
    "x_numpy = x.numpy()\n",
    "print(type(x_numpy))\n",
    "pprint(x_numpy)\n",
    "x_numpy"
   ]
  },
  {
   "cell_type": "code",
   "execution_count": 18,
   "metadata": {},
   "outputs": [
    {
     "name": "stdout",
     "output_type": "stream",
     "text": [
      "/job:localhost/replica:0/task:0/device:CPU:0\n/job:localhost/replica:0/task:0/device:CPU:0\n"
     ]
    }
   ],
   "source": [
    "with tf.device('/cpu:0'):\n",
    "    x_cpu = tf.identity(x)\n",
    "with tf.device('/gpu:0'):\n",
    "    x_gpu = tf.identity(x)\n",
    "print(x_cpu.device)\n",
    "print(x_gpu.device)"
   ]
  },
  {
   "cell_type": "code",
   "execution_count": 19,
   "metadata": {},
   "outputs": [
    {
     "name": "stdout",
     "output_type": "stream",
     "text": [
      "<tf.Tensor: shape=(), dtype=bool, numpy=True>\n"
     ]
    },
    {
     "data": {
      "text/plain": [
       "<tf.Tensor: shape=(3, 2), dtype=float32, numpy=\narray([[1.5547906 , 1.0875286 ],\n       [0.94117725, 0.8026298 ],\n       [0.99945843, 1.2125037 ]], dtype=float32)>"
      ]
     },
     "execution_count": 19,
     "metadata": {},
     "output_type": "execute_result"
    }
   ],
   "source": [
    "e = tf.random.uniform((3, 2), dtype=x.dtype)\n",
    "pprint(tf.math.reduce_all(x.__add__(e) == tf.add(x, e)))\n",
    "tf.add(x, e)"
   ]
  },
  {
   "cell_type": "code",
   "execution_count": 20,
   "metadata": {},
   "outputs": [
    {
     "name": "stdout",
     "output_type": "stream",
     "text": [
      "<tf.Tensor: shape=(), dtype=bool, numpy=True>\n"
     ]
    },
    {
     "data": {
      "text/plain": [
       "<tf.Tensor: shape=(3, 2), dtype=bool, numpy=\narray([[ True,  True],\n       [ True,  True],\n       [ True,  True]])>"
      ]
     },
     "execution_count": 20,
     "metadata": {},
     "output_type": "execute_result"
    }
   ],
   "source": [
    "pprint(tf.math.reduce_all(x.__mul__(e) == tf.multiply(x, e)))\n",
    "x.__mul__(e) == tf.multiply(x, e)"
   ]
  },
  {
   "cell_type": "code",
   "execution_count": 21,
   "metadata": {},
   "outputs": [
    {
     "name": "stdout",
     "output_type": "stream",
     "text": [
      "<tf.Tensor: shape=(), dtype=bool, numpy=True>\n"
     ]
    },
    {
     "data": {
      "text/plain": [
       "<tf.Tensor: shape=(3, 3), dtype=bool, numpy=\narray([[ True,  True,  True],\n       [ True,  True,  True],\n       [ True,  True,  True]])>"
      ]
     },
     "execution_count": 21,
     "metadata": {},
     "output_type": "execute_result"
    }
   ],
   "source": [
    "pprint(tf.math.reduce_all(x.__matmul__(tf.transpose(e)) == tf.linalg.matmul(x, e, transpose_b=True)))\n",
    "x.__matmul__(tf.transpose(e)) == tf.linalg.matmul(x, e, transpose_b=True)"
   ]
  },
  {
   "cell_type": "code",
   "execution_count": 24,
   "metadata": {},
   "outputs": [
    {
     "name": "stdout",
     "output_type": "stream",
     "text": [
      "<tf.Tensor: shape=(), dtype=float32, numpy=2.0>\n<tf.Tensor: shape=(2,), dtype=float32, numpy=array([3., 4.], dtype=float32)>\n<tf.Tensor: shape=(1, 2), dtype=float32, numpy=array([[3., 4.]], dtype=float32)>\n"
     ]
    }
   ],
   "source": [
    "matrix = tf.constant(np.array([[1, 2], [3, 4]]), dtype=tf.float32)\n",
    "pprint(matrix[0, 1])\n",
    "pprint(matrix[1, :2])\n",
    "pprint(matrix[tf.newaxis, 1, :2])"
   ]
  },
  {
   "cell_type": "code",
   "execution_count": null,
   "metadata": {},
   "outputs": [],
   "source": [
    ""
   ]
  }
 ],
 "metadata": {
  "kernelspec": {
   "display_name": "Python 2",
   "language": "python",
   "name": "python2"
  },
  "language_info": {
   "codemirror_mode": {
    "name": "ipython",
    "version": 2
   },
   "file_extension": ".py",
   "mimetype": "text/x-python",
   "name": "python",
   "nbconvert_exporter": "python",
   "pygments_lexer": "ipython2",
   "version": "2.7.6"
  }
 },
 "nbformat": 4,
 "nbformat_minor": 0
}
