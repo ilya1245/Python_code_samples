{
 "cells": [
  {
   "cell_type": "code",
   "execution_count": 53,
   "metadata": {
    "collapsed": true
   },
   "outputs": [
    {
     "name": "stdout",
     "output_type": "stream",
     "text": [
      "2.2.0\n"
     ]
    }
   ],
   "source": [
    "import numpy as np\n",
    "import tensorflow as tf\n",
    "from pprint import pprint\n",
    "print(tf.__version__)\n",
    "tf.random.set_seed(42)"
   ]
  },
  {
   "cell_type": "code",
   "execution_count": 54,
   "metadata": {},
   "outputs": [
    {
     "name": "stdout",
     "output_type": "stream",
     "text": [
      "[<tf.Tensor: shape=(), dtype=int8, numpy=1>, <tf.Tensor: shape=(3,), dtype=float32, numpy=array([1., 2., 3.], dtype=float32)>, <tf.Tensor: shape=(2, 2), dtype=float32, numpy=\narray([[1., 2.],\n       [3., 4.]], dtype=float32)>]\n"
     ]
    }
   ],
   "source": [
    "scalar = tf.constant(1, dtype=tf.int8)\n",
    "vector = tf.constant([1, 2, 3], dtype=tf.float32)\n",
    "matrix = tf.constant(np.array([[1, 2], [3, 4]]), dtype=tf.float32)\n",
    "print([scalar, vector, matrix])"
   ]
  },
  {
   "cell_type": "code",
   "execution_count": 55,
   "metadata": {},
   "outputs": [
    {
     "name": "stdout",
     "output_type": "stream",
     "text": [
      "[<tf.Tensor: shape=(), dtype=int8, numpy=1>,\n <tf.Tensor: shape=(3,), dtype=float32, numpy=array([1., 2., 3.], dtype=float32)>,\n <tf.Tensor: shape=(2, 2), dtype=float32, numpy=\narray([[1., 2.],\n       [3., 4.]], dtype=float32)>]\n"
     ]
    }
   ],
   "source": [
    "pprint([scalar, vector, matrix])"
   ]
  },
  {
   "cell_type": "code",
   "execution_count": 56,
   "metadata": {
    "collapsed": true
   },
   "outputs": [
    {
     "name": "stdout",
     "output_type": "stream",
     "text": [
      "(2, 2)\n<tf.Tensor: shape=(2,), dtype=int32, numpy=array([2, 2])>\n2272035442360\n"
     ]
    }
   ],
   "source": [
    "print(matrix.shape)\n",
    "pprint(tf.shape(matrix))\n",
    "print(id(matrix))"
   ]
  },
  {
   "cell_type": "code",
   "execution_count": 57,
   "metadata": {},
   "outputs": [
    {
     "name": "stdout",
     "output_type": "stream",
     "text": [
      "<tf.Tensor: shape=(2, 2), dtype=int8, numpy=\narray([[1, 2],\n       [3, 4]], dtype=int8)>\n"
     ]
    }
   ],
   "source": [
    "matrix = tf.cast(matrix, dtype=tf.int8)\n",
    "pprint(matrix)"
   ]
  },
  {
   "cell_type": "code",
   "execution_count": 58,
   "metadata": {},
   "outputs": [
    {
     "name": "stdout",
     "output_type": "stream",
     "text": [
      "<tf.Tensor: shape=(2, 2), dtype=float32, numpy=\narray([[0., 0.],\n       [0., 0.]], dtype=float32)>\n<tf.Tensor: shape=(3, 2), dtype=float32, numpy=\narray([[0.6645621 , 0.44100678],\n       [0.3528825 , 0.46448255],\n       [0.03366041, 0.68467236]], dtype=float32)>\n"
     ]
    },
    {
     "data": {
      "text/plain": [
       "<tf.Tensor: shape=(2, 2), dtype=float32, numpy=\narray([[1., 1.],\n       [1., 1.]], dtype=float32)>"
      ]
     },
     "execution_count": 58,
     "metadata": {},
     "output_type": "execute_result"
    }
   ],
   "source": [
    "o = tf.zeros((2, 2))\n",
    "x = tf.random.uniform((3, 2))\n",
    "pprint(o)\n",
    "pprint(x)\n",
    "tf.ones_like(o)"
   ]
  },
  {
   "cell_type": "code",
   "execution_count": 59,
   "metadata": {},
   "outputs": [
    {
     "name": "stdout",
     "output_type": "stream",
     "text": [
      "<class 'numpy.ndarray'>\narray([[0.6645621 , 0.44100678],\n       [0.3528825 , 0.46448255],\n       [0.03366041, 0.68467236]], dtype=float32)\n"
     ]
    },
    {
     "data": {
      "text/plain": [
       "array([[0.6645621 , 0.44100678],\n       [0.3528825 , 0.46448255],\n       [0.03366041, 0.68467236]], dtype=float32)"
      ]
     },
     "execution_count": 59,
     "metadata": {},
     "output_type": "execute_result"
    }
   ],
   "source": [
    "x_numpy = x.numpy()\n",
    "print(type(x_numpy))\n",
    "pprint(x_numpy)\n",
    "x_numpy"
   ]
  },
  {
   "cell_type": "code",
   "execution_count": 60,
   "metadata": {},
   "outputs": [
    {
     "name": "stdout",
     "output_type": "stream",
     "text": [
      "/job:localhost/replica:0/task:0/device:CPU:0\n/job:localhost/replica:0/task:0/device:CPU:0\n"
     ]
    }
   ],
   "source": [
    "with tf.device('/cpu:0'):\n",
    "    x_cpu = tf.identity(x)\n",
    "with tf.device('/gpu:0'):\n",
    "    x_gpu = tf.identity(x)\n",
    "print(x_cpu.device)\n",
    "print(x_gpu.device)"
   ]
  },
  {
   "cell_type": "code",
   "execution_count": 61,
   "metadata": {},
   "outputs": [],
   "source": [
    ""
   ]
  },
  {
   "cell_type": "code",
   "execution_count": null,
   "metadata": {},
   "outputs": [],
   "source": []
  }
 ],
 "metadata": {
  "kernelspec": {
   "display_name": "Python 2",
   "language": "python",
   "name": "python2"
  },
  "language_info": {
   "codemirror_mode": {
    "name": "ipython",
    "version": 2
   },
   "file_extension": ".py",
   "mimetype": "text/x-python",
   "name": "python",
   "nbconvert_exporter": "python",
   "pygments_lexer": "ipython2",
   "version": "2.7.6"
  }
 },
 "nbformat": 4,
 "nbformat_minor": 0
}
