{
 "cells": [
  {
   "cell_type": "code",
   "execution_count": 3,
   "metadata": {
    "collapsed": true
   },
   "outputs": [
    {
     "name": "stdout",
     "output_type": "stream",
     "text": [
      "2.2.0\n"
     ]
    }
   ],
   "source": [
    "import inspect\n",
    "import time\n",
    "import numpy as np\n",
    "import tensorflow as tf\n",
    "from pprint import pprint\n",
    "print(tf.__version__)\n",
    "tf.random.set_seed(42)\n",
    "np.random.seed(42)\n",
    "true_weights = tf.constant(list(range(5)), dtype=tf.float32)[:, tf.newaxis]\n",
    "x = tf.constant(tf.random.uniform((32, 5)), dtype=tf.float32)\n",
    "y = tf.constant(x @ true_weights, dtype=tf.float32)"
   ]
  },
  {
   "cell_type": "code",
   "execution_count": 4,
   "metadata": {},
   "outputs": [
    {
     "name": "stdout",
     "output_type": "stream",
     "text": [
      "        def tf__f(a, b, power=None, d=None):\n            do_return = False\n            retval_ = ag__.UndefinedReturnValue()\n            with ag__.FunctionScope('f', 'fscope', ag__.ConversionOptions(recursive=True, user_requested=True, optional_features=(), internal_convert_user_code=True)) as fscope:\n                try:\n                    do_return = True\n                    retval_ = fscope.mark_return_value((ag__.converted_call(tf.pow, (a, power), None, fscope) + (d * b)))\n                except:\n                    do_return = False\n                    raise\n            (do_return,)\n            return ag__.retval(retval_)\n\n"
     ]
    }
   ],
   "source": [
    "def f(a, b, power=2, d=3):\n",
    "    return tf.pow(a, power) + d * b\n",
    "converted_f = tf.autograph.to_graph(f)\n",
    "print(inspect.getsource(converted_f))"
   ]
  },
  {
   "cell_type": "code",
   "execution_count": 6,
   "metadata": {},
   "outputs": [
    {
     "name": "stdout",
     "output_type": "stream",
     "text": [
      "        def tf__cube(x):\n            do_return = False\n            retval_ = ag__.UndefinedReturnValue()\n            with ag__.FunctionScope('cube', 'fscope', ag__.ConversionOptions(recursive=True, user_requested=True, optional_features=(), internal_convert_user_code=True)) as fscope:\n                o = x\n\n                def get_state():\n                    return (o,)\n\n                def set_state(loop_vars):\n                    nonlocal o\n                    (o,) = loop_vars\n\n                def loop_body(itr):\n                    nonlocal o\n                    _ = itr\n                    o *= x\n                ag__.for_stmt(ag__.converted_call(range, (2,), None, fscope), None, loop_body, get_state, set_state, ('o',), {})\n                try:\n                    do_return = True\n                    retval_ = fscope.mark_return_value(o)\n                except:\n                    do_return = False\n                    raise\n            (do_return,)\n            return ag__.retval(retval_)\n\n"
     ]
    }
   ],
   "source": [
    "def cube(x):\n",
    "    o = x\n",
    "    for _ in range(2):\n",
    "        o *= x\n",
    "    return o\n",
    "\n",
    "converted_cube = tf.autograph.to_graph(cube)\n",
    "print(inspect.getsource(converted_cube))"
   ]
  },
  {
   "cell_type": "code",
   "execution_count": 8,
   "metadata": {},
   "outputs": [
    {
     "name": "stdout",
     "output_type": "stream",
     "text": [
      "        def tf__g(x):\n            do_return = False\n            retval_ = ag__.UndefinedReturnValue()\n            with ag__.FunctionScope('g', 'fscope', ag__.ConversionOptions(recursive=True, user_requested=True, optional_features=(), internal_convert_user_code=True)) as fscope:\n\n                def get_state():\n                    return ()\n\n                def set_state(loop_vars):\n                    pass\n\n                def if_true():\n                    try:\n                        do_return = True\n                        retval_ = fscope.mark_return_value(ag__.converted_call(tf.square, (x,), None, fscope))\n                    except:\n                        do_return = False\n                        raise\n                    return (do_return, retval_)\n\n                def if_false():\n                    try:\n                        do_return = True\n                        retval_ = fscope.mark_return_value(x)\n                    except:\n                        do_return = False\n                        raise\n                    return (do_return, retval_)\n                cond = ag__.converted_call(tf.reduce_any, ((x < 0),), None, fscope)\n                (do_return, retval_) = ag__.if_stmt(cond, if_true, if_false, get_state, set_state, ('do_return', 'retval_'), ())\n            (do_return,)\n            return ag__.retval(retval_)\n\n"
     ]
    }
   ],
   "source": [
    "def g(x):\n",
    "    if tf.reduce_any(x < 0):\n",
    "        return tf.square(x)\n",
    "    return x\n",
    "converted_g = tf.autograph.to_graph(g)\n",
    "print(inspect.getsource(converted_g))"
   ]
  },
  {
   "cell_type": "code",
   "execution_count": 11,
   "metadata": {},
   "outputs": [
    {
     "name": "stdout",
     "output_type": "stream",
     "text": [
      "True\nTrue\nTrue\n"
     ]
    }
   ],
   "source": [
    "tf_func_f = tf.function(autograph=False)(f)\n",
    "tf_func_g = tf.function(autograph=False)(converted_g)\n",
    "tf_func_g2 = tf.function(autograph=True)(g)\n",
    "print(tf_func_f.python_function is f)\n",
    "print(tf_func_g.python_function is converted_g)\n",
    "print(tf_func_g2.python_function is g)"
   ]
  },
  {
   "cell_type": "code",
   "execution_count": 15,
   "metadata": {},
   "outputs": [
    {
     "name": "stdout",
     "output_type": "stream",
     "text": [
      "<tensorflow.python.eager.def_function.Function object at 0x0000022D26E1CB88>\n<tensorflow.python.eager.def_function.Function object at 0x0000022D26E1CEC8>\n"
     ]
    }
   ],
   "source": [
    "a = tf.function(autograph=False)(tf.autograph.to_graph(g))\n",
    "# is roughly equivlent to\n",
    "b = tf.function(autograph=True)(g)\n",
    "print(a)\n",
    "print(b)"
   ]
  },
  {
   "cell_type": "code",
   "execution_count": 16,
   "metadata": {},
   "outputs": [
    {
     "name": "stdout",
     "output_type": "stream",
     "text": [
      "<tensorflow.python.eager.function.ConcreteFunction object at 0x0000022D01F7EE48>\n"
     ]
    }
   ],
   "source": [
    "concrete_g = tf_func_g.get_concrete_function(x=tf.TensorSpec(shape=[3], dtype=tf.float32))\n",
    "print(concrete_g)"
   ]
  },
  {
   "cell_type": "code",
   "execution_count": 17,
   "metadata": {},
   "outputs": [
    {
     "name": "stdout",
     "output_type": "stream",
     "text": [
      "<tf.Tensor: shape=(3,), dtype=float32, numpy=array([1., 1., 4.], dtype=float32)>\n<tf.Tensor: shape=(3,), dtype=float32, numpy=array([1., 1., 4.], dtype=float32)>"
     ]
    },
    {
     "name": "stdout",
     "output_type": "stream",
     "text": [
      "\n"
     ]
    }
   ],
   "source": [
    "pprint(concrete_g(tf.constant([-1, 1, -2], dtype=tf.float32)))\n",
    "pprint(tf_func_g(tf.constant([-1, 1, -2], dtype=tf.float32)))"
   ]
  },
  {
   "cell_type": "code",
   "execution_count": 19,
   "metadata": {},
   "outputs": [
    {
     "name": "stdout",
     "output_type": "stream",
     "text": [
      "<tensorflow.python.eager.function.ConcreteFunction object at 0x0000022D17606B88>\n<tf.Tensor: shape=(), dtype=float32, numpy=7.0>\n<tf.Tensor: shape=(), dtype=float32, numpy=7.0>\n<tf.Tensor: shape=(), dtype=float32, numpy=7.0>\n<tf.Tensor: shape=(), dtype=float32, numpy=7.0>\n<tf.Tensor: shape=(), dtype=float32, numpy=7.0>\n4\n"
     ]
    }
   ],
   "source": [
    "concrete_f = tf_func_f.get_concrete_function(a=tf.TensorSpec(shape=[1], dtype=tf.float32), b=tf.TensorSpec(shape=[1], dtype=tf.float32))\n",
    "print(concrete_f)\n",
    "pprint(concrete_f(tf.constant(1.), tf.constant(2.)))\n",
    "pprint(tf_func_f(1., 2.))\n",
    "pprint(tf_func_f(a=tf.constant(1., dtype=tf.float32), b=2, power=2.))\n",
    "pprint(tf_func_f(a=tf.constant(1., dtype=tf.float32), b=2., d=3))\n",
    "pprint(tf_func_f(a=tf.constant(1., dtype=tf.float32), b=2., d=3., power=3.))\n",
    "print(tf_func_f._get_tracing_count())"
   ]
  },
  {
   "cell_type": "code",
   "execution_count": 20,
   "metadata": {},
   "outputs": [
    {
     "name": "stdout",
     "output_type": "stream",
     "text": [
      "0 ((TensorSpec(shape=(1,), dtype=tf.float32, name='a'), TensorSpec(shape=(1,), dtype=tf.float32, name='b'), 2, 3), {})\n1 ((TensorSpec(shape=(), dtype=tf.float32, name='a'), 2, 2.0, 3), {})\n2 ((1.0, 2.0, 2, 3), {})\n3 ((TensorSpec(shape=(), dtype=tf.float32, name='a'), 2.0, 3.0, 3.0), {})\n"
     ]
    }
   ],
   "source": [
    "for i, f in enumerate(tf_func_f._list_all_concrete_functions_for_serialization()):\n",
    "    print(i, f.structured_input_signature)"
   ]
  },
  {
   "cell_type": "code",
   "execution_count": 22,
   "metadata": {},
   "outputs": [],
   "source": [
    "# The following two are equivalent.\n",
    "@tf.function(autograph=False)\n",
    "def square(x):\n",
    "    return x * x\n",
    "\n",
    "def square(x):\n",
    "    return x * x\n",
    "square = tf.function(autograph=False)(square)"
   ]
  },
  {
   "cell_type": "code",
   "execution_count": null,
   "metadata": {},
   "outputs": [],
   "source": []
  }
 ],
 "metadata": {
  "kernelspec": {
   "display_name": "Python 2",
   "language": "python",
   "name": "python2"
  },
  "language_info": {
   "codemirror_mode": {
    "name": "ipython",
    "version": 2
   },
   "file_extension": ".py",
   "mimetype": "text/x-python",
   "name": "python",
   "nbconvert_exporter": "python",
   "pygments_lexer": "ipython2",
   "version": "2.7.6"
  }
 },
 "nbformat": 4,
 "nbformat_minor": 0
}
