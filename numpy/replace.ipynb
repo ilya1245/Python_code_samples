{
 "cells": [
  {
   "cell_type": "code",
   "execution_count": 4,
   "metadata": {
    "collapsed": true
   },
   "outputs": [],
   "source": [
    "import numpy as np"
   ]
  },
  {
   "cell_type": "code",
   "execution_count": 7,
   "metadata": {},
   "outputs": [
    {
     "name": "stdout",
     "output_type": "stream",
     "text": [
      "[[1 1 1 1]\n [1 1 1 1]\n [1 1 1 1]]\n[[2 3 4 5]\n [6 7 8 9]\n [0 2 3 4]]\n"
     ]
    }
   ],
   "source": [
    "a = np.array([[1, 1, 1, 1], [1, 1, 1, 1], [1, 1, 1, 1,]])\n",
    "b = np.array([[2, 3, 4, 5], [6, 7, 8, 9], [0, 2, 3, 4,]])\n",
    "print(a)\n",
    "print(b)"
   ]
  },
  {
   "cell_type": "code",
   "execution_count": 14,
   "metadata": {},
   "outputs": [
    {
     "name": "stdout",
     "output_type": "stream",
     "text": [
      "[[False False False False]\n [False False  True False]\n [ True False False False]]\n[[2 1 1 5]\n [6 7 8 1]\n [0 2 3 1]]\n[[2 3 4 5]\n [6 7 8 9]\n [0 2 3 4]]\n"
     ]
    }
   ],
   "source": [
    "i = np.random.rand(*a.shape) > 0.8\n",
    "a[i] = b[i]\n",
    "print(i)\n",
    "print(a)\n",
    "print(b)"
   ]
  },
  {
   "cell_type": "code",
   "execution_count": null,
   "metadata": {},
   "outputs": [],
   "source": []
  }
 ],
 "metadata": {
  "kernelspec": {
   "display_name": "Python 2",
   "language": "python",
   "name": "python2"
  },
  "language_info": {
   "codemirror_mode": {
    "name": "ipython",
    "version": 2
   },
   "file_extension": ".py",
   "mimetype": "text/x-python",
   "name": "python",
   "nbconvert_exporter": "python",
   "pygments_lexer": "ipython2",
   "version": "2.7.6"
  }
 },
 "nbformat": 4,
 "nbformat_minor": 0
}
