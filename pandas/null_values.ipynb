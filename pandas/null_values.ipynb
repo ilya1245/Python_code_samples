{
 "cells": [
  {
   "cell_type": "code",
   "execution_count": null,
   "metadata": {},
   "outputs": [],
   "source": [
    "try:\n",
    "    from google.colab import drive\n",
    "    drive.mount('/content/drive', force_remount=True)\n",
    "    COLAB = True\n",
    "    print(\"Note: using Google CoLab\")\n",
    "    %tensorflow_version 2.x\n",
    "except:\n",
    "    print(\"Note: not using Google CoLab\")\n",
    "    COLAB = False\n",
    "\n",
    "if COLAB:\n",
    "    DATA_PATH = \"/content/drive/My Drive/IT/ML_datasets/Many_coins/\"\n",
    "    LIB_PATH = \"/content/drive/My Drive/IT/custom_libs/\"\n",
    "else:\n",
    "    DATA_PATH = \"../../Datasets/\"\n",
    "    LIB_PATH = \"../../custom_libs/\""
   ]
  },
  {
   "cell_type": "code",
   "execution_count": null,
   "metadata": {},
   "outputs": [],
   "source": [
    "import numpy as np\n",
    "import pandas as pd\n",
    "from pandas import DataFrame\n",
    "from pandas.api.types import is_numeric_dtype\n",
    "pd.options.mode.chained_assignment = None\n",
    "\n",
    "import sys\n",
    "sys.path.append(LIB_PATH)\n",
    "\n",
    "import dataframe_info as dfi\n",
    "# import plot_util as pltu\n",
    "import dataframe_transformation as dftr\n",
    "import dataframe_refinement as dfr"
   ]
  },
  {
   "cell_type": "code",
   "execution_count": null,
   "metadata": {},
   "outputs": [],
   "source": [
    "folder = 'weather/'\n",
    "file_ext = '.csv'\n",
    "filename = '33345.01.03.2005.16.07.2022.1.0.0.en.utf8.00000000'\n",
    "df_w1 = pd.read_csv(DATA_PATH + folder + filename + file_ext, delimiter=';', index_col=False, comment='#')\n",
    "\n",
    "# df_w1.columns.values[0] = 'datetime'\n",
    "dfi.df_info(df_w1)\n",
    "dfi.freeze_header(df=df_w1[:200], num_rows=10)"
   ]
  },
  {
   "cell_type": "code",
   "execution_count": null,
   "metadata": {},
   "outputs": [],
   "source": [
    "# Find rows with nulls in specific column\n",
    "null_index = df_w1[df_w1['T'].isnull()].index\n",
    "null_index\n",
    "df_w1.loc[null_index]"
   ]
  },
  {
   "cell_type": "code",
   "execution_count": null,
   "metadata": {},
   "outputs": [],
   "source": []
  },
  {
   "cell_type": "code",
   "execution_count": null,
   "metadata": {},
   "outputs": [],
   "source": []
  }
 ],
 "metadata": {
  "kernelspec": {
   "display_name": "Python 3 (ipykernel)",
   "language": "python",
   "name": "python3"
  },
  "language_info": {
   "codemirror_mode": {
    "name": "ipython",
    "version": 3
   },
   "file_extension": ".py",
   "mimetype": "text/x-python",
   "name": "python",
   "nbconvert_exporter": "python",
   "pygments_lexer": "ipython3",
   "version": "3.7.12"
  }
 },
 "nbformat": 4,
 "nbformat_minor": 1
}
