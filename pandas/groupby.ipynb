{
 "cells": [
  {
   "cell_type": "code",
   "execution_count": null,
   "metadata": {},
   "outputs": [],
   "source": [
    "try:\n",
    "    from google.colab import drive\n",
    "    drive.mount('/content/drive', force_remount=True)\n",
    "    COLAB = True\n",
    "    print(\"Note: using Google CoLab\")\n",
    "    %tensorflow_version 2.x\n",
    "except:\n",
    "    print(\"Note: not using Google CoLab\")\n",
    "    COLAB = False\n",
    "\n",
    "if COLAB:\n",
    "    DATA_PATH = \"/content/drive/My Drive/IT/ML_datasets/Many_coins/\"\n",
    "    LIB_PATH = \"/content/drive/My Drive/IT/custom_libs/\"\n",
    "else:\n",
    "    DATA_PATH = \"../../Kaggle/input/\"\n",
    "    LIB_PATH = \"../../custom_libs/\""
   ]
  },
  {
   "cell_type": "code",
   "execution_count": null,
   "metadata": {},
   "outputs": [],
   "source": [
    "import numpy as np\n",
    "import pandas as pd\n",
    "from pandas import DataFrame\n",
    "from pandas.api.types import is_numeric_dtype\n",
    "pd.options.mode.chained_assignment = None\n",
    "\n",
    "import sys\n",
    "sys.path.append(LIB_PATH)\n",
    "\n",
    "import dataframe_info as dfi\n",
    "# import plot_util as pltu\n",
    "import dataframe_transformation as dftr\n",
    "import dataframe_refinement as dfr"
   ]
  },
  {
   "cell_type": "code",
   "execution_count": null,
   "metadata": {},
   "outputs": [],
   "source": [
    "train = pd.read_csv(DATA_PATH + 'titanic/train.csv')\n",
    "test = pd.read_csv(DATA_PATH + 'titanic/test.csv')\n",
    "\n",
    "df_all = pd.concat([train, test])\n",
    "dfi.df_info(df_all)\n",
    "dfi.freeze_header(df=df_all[:200], num_rows=10)"
   ]
  },
  {
   "cell_type": "code",
   "execution_count": null,
   "metadata": {},
   "outputs": [],
   "source": [
    "gr_by_ticket = df_all.groupby('Ticket')\n",
    "df_all['Persons_on_ticket'] = gr_by_ticket['Ticket'].transform('count')"
   ]
  },
  {
   "cell_type": "code",
   "execution_count": null,
   "metadata": {},
   "outputs": [],
   "source": [
    "# Group by 'Ticket', 'Pclass', 'Persons_on_ticket'\n",
    "gr_by_tppe = df_all.groupby(['Ticket', 'Pclass', 'Persons_on_ticket'])\n",
    "print(len(gr_by_tppe))"
   ]
  },
  {
   "cell_type": "code",
   "execution_count": null,
   "metadata": {},
   "outputs": [],
   "source": [
    "# Show all groups as lists\n",
    "gr_by_tppe.agg(list)"
   ]
  },
  {
   "cell_type": "code",
   "execution_count": null,
   "metadata": {},
   "outputs": [],
   "source": [
    "gr_by_tppe.all()"
   ]
  },
  {
   "cell_type": "code",
   "execution_count": null,
   "metadata": {
    "scrolled": true
   },
   "outputs": [],
   "source": [
    "# Filter groupsby Ticket\n",
    "gr_by_tppe.filter(lambda x: (x['Ticket'] == '110152').all())"
   ]
  },
  {
   "cell_type": "code",
   "execution_count": null,
   "metadata": {},
   "outputs": [],
   "source": [
    "# Validation brings the same result\n",
    "df_all.loc[df_all['Ticket'] == '110152']"
   ]
  },
  {
   "cell_type": "code",
   "execution_count": null,
   "metadata": {},
   "outputs": [],
   "source": []
  }
 ],
 "metadata": {
  "kernelspec": {
   "display_name": "Python 3 (ipykernel)",
   "language": "python",
   "name": "python3"
  },
  "language_info": {
   "codemirror_mode": {
    "name": "ipython",
    "version": 3
   },
   "file_extension": ".py",
   "mimetype": "text/x-python",
   "name": "python",
   "nbconvert_exporter": "python",
   "pygments_lexer": "ipython3",
   "version": "3.7.12"
  }
 },
 "nbformat": 4,
 "nbformat_minor": 1
}
