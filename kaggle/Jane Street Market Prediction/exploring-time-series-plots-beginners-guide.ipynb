{
 "cells": [
  {
   "cell_type": "markdown",
   "metadata": {
    "execution": {
     "iopub.execute_input": "2021-11-16T06:54:31.053777Z",
     "iopub.status.busy": "2021-11-16T06:54:31.05342Z",
     "iopub.status.idle": "2021-11-16T06:54:31.059578Z",
     "shell.execute_reply": "2021-11-16T06:54:31.058724Z",
     "shell.execute_reply.started": "2021-11-16T06:54:31.053737Z"
    },
    "papermill": {
     "duration": 0.023723,
     "end_time": "2021-11-18T01:16:42.242957",
     "exception": false,
     "start_time": "2021-11-18T01:16:42.219234",
     "status": "completed"
    },
    "tags": []
   },
   "source": [
    "**Created by Sanskar Hasija**\n",
    "\n",
    "**📈Exploring Time Series plots: Beginners Guide📈**\n",
    "\n",
    "**16 NOVEMBER 2021**\n"
   ]
  },
  {
   "cell_type": "markdown",
   "metadata": {
    "papermill": {
     "duration": 0.020483,
     "end_time": "2021-11-18T01:16:42.284430",
     "exception": false,
     "start_time": "2021-11-18T01:16:42.263947",
     "status": "completed"
    },
    "tags": []
   },
   "source": [
    "# <center>📈EXPLORING TIME SERIES PLOTS: BEGINNERS GUIDE📈 </center>\n",
    "## <center>If you find this notebook useful, support with an upvote👍</center>"
   ]
  },
  {
   "cell_type": "markdown",
   "metadata": {
    "papermill": {
     "duration": 0.020213,
     "end_time": "2021-11-18T01:16:42.324611",
     "exception": false,
     "start_time": "2021-11-18T01:16:42.304398",
     "status": "completed"
    },
    "tags": []
   },
   "source": [
    "### This notebook is an introductory notebook for visualizing and understanding different plots in time series data.\n",
    "### Various plots covered in this notebook are :\n",
    "\n",
    "### [1. Trend](#1) ###\n",
    "### [2. Seasonality](#2) ##\n",
    "### [3. Noise](#3) ###\n",
    "### [4. Autocorrelation](#4) ###\n",
    "### [5. Break Point](#5) ###\n",
    "    "
   ]
  },
  {
   "cell_type": "markdown",
   "metadata": {
    "papermill": {
     "duration": 0.018867,
     "end_time": "2021-11-18T01:16:42.364378",
     "exception": false,
     "start_time": "2021-11-18T01:16:42.345511",
     "status": "completed"
    },
    "tags": []
   },
   "source": [
    "## Imports"
   ]
  },
  {
   "cell_type": "code",
   "execution_count": null,
   "metadata": {
    "_cell_guid": "b1076dfc-b9ad-4769-8c92-a6c4dae69d19",
    "_uuid": "8f2839f25d086af736a60e9eeb907d3b93b6e0e5",
    "execution": {
     "iopub.execute_input": "2021-11-18T01:16:42.412352Z",
     "iopub.status.busy": "2021-11-18T01:16:42.411394Z",
     "iopub.status.idle": "2021-11-18T01:16:42.416075Z",
     "shell.execute_reply": "2021-11-18T01:16:42.415371Z",
     "shell.execute_reply.started": "2021-11-16T07:57:33.402327Z"
    },
    "papermill": {
     "duration": 0.03279,
     "end_time": "2021-11-18T01:16:42.416238",
     "exception": false,
     "start_time": "2021-11-18T01:16:42.383448",
     "status": "completed"
    },
    "tags": []
   },
   "outputs": [],
   "source": [
    "import numpy as np\n",
    "import matplotlib.pyplot as plt\n",
    "\n",
    "RANDOM_SEED = 12\n",
    "time = np.arange(5*365 + 1 ) # 5 years"
   ]
  },
  {
   "cell_type": "markdown",
   "metadata": {
    "papermill": {
     "duration": 0.019188,
     "end_time": "2021-11-18T01:16:42.454807",
     "exception": false,
     "start_time": "2021-11-18T01:16:42.435619",
     "status": "completed"
    },
    "tags": []
   },
   "source": [
    "<a id=\"1\"></a>\n",
    "# <center>Trend</center>"
   ]
  },
  {
   "cell_type": "code",
   "execution_count": null,
   "metadata": {
    "execution": {
     "iopub.execute_input": "2021-11-18T01:16:42.501289Z",
     "iopub.status.busy": "2021-11-18T01:16:42.500640Z",
     "iopub.status.idle": "2021-11-18T01:16:42.502308Z",
     "shell.execute_reply": "2021-11-18T01:16:42.502791Z",
     "shell.execute_reply.started": "2021-11-16T07:57:33.415415Z"
    },
    "papermill": {
     "duration": 0.028543,
     "end_time": "2021-11-18T01:16:42.502966",
     "exception": false,
     "start_time": "2021-11-18T01:16:42.474423",
     "status": "completed"
    },
    "tags": []
   },
   "outputs": [],
   "source": [
    "def plot_series(time , series , format = \"-\" , start = 0, end = None , label = None , color = None):\n",
    "    plt.plot(time[start:end] , series[start:end] , format , label = label , color = color)\n",
    "    plt.xlabel(\"Time\")\n",
    "    plt.ylabel(\"Value\")\n",
    "    if label:\n",
    "        plt.legend(fontsize = 14)\n",
    "    plt.grid(True)\n",
    "\n",
    "def trend(time , slope = 0 ):\n",
    "    return slope * time"
   ]
  },
  {
   "cell_type": "markdown",
   "metadata": {
    "papermill": {
     "duration": 0.019974,
     "end_time": "2021-11-18T01:16:42.543819",
     "exception": false,
     "start_time": "2021-11-18T01:16:42.523845",
     "status": "completed"
    },
    "tags": []
   },
   "source": [
    "### Trend Plot 1 "
   ]
  },
  {
   "cell_type": "code",
   "execution_count": null,
   "metadata": {
    "_kg_hide-input": true,
    "execution": {
     "iopub.execute_input": "2021-11-18T01:16:42.597149Z",
     "iopub.status.busy": "2021-11-18T01:16:42.596423Z",
     "iopub.status.idle": "2021-11-18T01:16:42.876972Z",
     "shell.execute_reply": "2021-11-18T01:16:42.877460Z",
     "shell.execute_reply.started": "2021-11-16T07:57:33.425566Z"
    },
    "papermill": {
     "duration": 0.306277,
     "end_time": "2021-11-18T01:16:42.877655",
     "exception": false,
     "start_time": "2021-11-18T01:16:42.571378",
     "status": "completed"
    },
    "tags": []
   },
   "outputs": [],
   "source": [
    "slope = 0.1\n",
    "series = trend(time , slope)\n",
    "plt.figure(figsize = (20,6))\n",
    "plot_series(time , series , color = \"purple\")\n",
    "plt.title(\" Trend Plot - 1\", fontdict = {'fontsize' : 20} )\n",
    "plt.show()"
   ]
  },
  {
   "cell_type": "markdown",
   "metadata": {
    "papermill": {
     "duration": 0.020559,
     "end_time": "2021-11-18T01:16:42.920719",
     "exception": false,
     "start_time": "2021-11-18T01:16:42.900160",
     "status": "completed"
    },
    "tags": []
   },
   "source": [
    "### Trend Plot 2 "
   ]
  },
  {
   "cell_type": "code",
   "execution_count": null,
   "metadata": {
    "_kg_hide-input": true,
    "execution": {
     "iopub.execute_input": "2021-11-18T01:16:42.965882Z",
     "iopub.status.busy": "2021-11-18T01:16:42.965205Z",
     "iopub.status.idle": "2021-11-18T01:16:43.217266Z",
     "shell.execute_reply": "2021-11-18T01:16:43.216640Z",
     "shell.execute_reply.started": "2021-11-16T07:57:36.468094Z"
    },
    "papermill": {
     "duration": 0.276371,
     "end_time": "2021-11-18T01:16:43.217412",
     "exception": false,
     "start_time": "2021-11-18T01:16:42.941041",
     "status": "completed"
    },
    "tags": []
   },
   "outputs": [],
   "source": [
    "slope = -1\n",
    "series = trend(time , slope)\n",
    "plt.figure(figsize = (20,6))\n",
    "plot_series(time , series , color = \"purple\")\n",
    "plt.title(\" Trend Plot - 2\", fontdict = {'fontsize' : 20} )\n",
    "plt.show()"
   ]
  },
  {
   "cell_type": "markdown",
   "metadata": {
    "execution": {
     "iopub.execute_input": "2021-11-16T07:23:31.891092Z",
     "iopub.status.busy": "2021-11-16T07:23:31.890208Z",
     "iopub.status.idle": "2021-11-16T07:23:31.896547Z",
     "shell.execute_reply": "2021-11-16T07:23:31.895417Z",
     "shell.execute_reply.started": "2021-11-16T07:23:31.891042Z"
    },
    "papermill": {
     "duration": 0.021487,
     "end_time": "2021-11-18T01:16:43.260849",
     "exception": false,
     "start_time": "2021-11-18T01:16:43.239362",
     "status": "completed"
    },
    "tags": []
   },
   "source": [
    "<a id=\"2\"></a>\n",
    "# <center>Seasonality</center>"
   ]
  },
  {
   "cell_type": "code",
   "execution_count": null,
   "metadata": {
    "execution": {
     "iopub.execute_input": "2021-11-18T01:16:43.313478Z",
     "iopub.status.busy": "2021-11-18T01:16:43.312762Z",
     "iopub.status.idle": "2021-11-18T01:16:43.315803Z",
     "shell.execute_reply": "2021-11-18T01:16:43.316236Z",
     "shell.execute_reply.started": "2021-11-16T07:57:40.370554Z"
    },
    "papermill": {
     "duration": 0.033873,
     "end_time": "2021-11-18T01:16:43.316417",
     "exception": false,
     "start_time": "2021-11-18T01:16:43.282544",
     "status": "completed"
    },
    "tags": []
   },
   "outputs": [],
   "source": [
    "def seasonal_pattern(season_time):\n",
    "    return np.where(season_time<0.45,\n",
    "                   np.cos(season_time* 2 *np.pi),\n",
    "                   1 / np.exp(3*season_time))\n",
    "\n",
    "def seasonality(time , period , amplitude = 1 , phase = 0 ):\n",
    "    season_time = ((time + phase) %  period ) / period\n",
    "    return amplitude *seasonal_pattern(season_time)"
   ]
  },
  {
   "cell_type": "markdown",
   "metadata": {
    "papermill": {
     "duration": 0.021315,
     "end_time": "2021-11-18T01:16:43.359697",
     "exception": false,
     "start_time": "2021-11-18T01:16:43.338382",
     "status": "completed"
    },
    "tags": []
   },
   "source": [
    "### Seasonality Plot 1 "
   ]
  },
  {
   "cell_type": "code",
   "execution_count": null,
   "metadata": {
    "_kg_hide-input": true,
    "execution": {
     "iopub.execute_input": "2021-11-18T01:16:43.408692Z",
     "iopub.status.busy": "2021-11-18T01:16:43.408016Z",
     "iopub.status.idle": "2021-11-18T01:16:43.662529Z",
     "shell.execute_reply": "2021-11-18T01:16:43.661988Z",
     "shell.execute_reply.started": "2021-11-16T07:57:41.211692Z"
    },
    "papermill": {
     "duration": 0.281469,
     "end_time": "2021-11-18T01:16:43.662699",
     "exception": false,
     "start_time": "2021-11-18T01:16:43.381230",
     "status": "completed"
    },
    "tags": []
   },
   "outputs": [],
   "source": [
    "amplitude = 40\n",
    "series = seasonality(time , period = 365, amplitude = amplitude , phase = 0 )\n",
    "plt.figure(figsize=(20,6))\n",
    "plot_series(time , series, color = \"green\")\n",
    "plt.title(\" Seasonality Plot - 1\", fontdict = {'fontsize' : 20} )\n",
    "plt.show()"
   ]
  },
  {
   "cell_type": "markdown",
   "metadata": {
    "papermill": {
     "duration": 0.024282,
     "end_time": "2021-11-18T01:16:43.710948",
     "exception": false,
     "start_time": "2021-11-18T01:16:43.686666",
     "status": "completed"
    },
    "tags": []
   },
   "source": [
    "### Seasonality Plot 2"
   ]
  },
  {
   "cell_type": "code",
   "execution_count": null,
   "metadata": {
    "_kg_hide-input": true,
    "execution": {
     "iopub.execute_input": "2021-11-18T01:16:43.767304Z",
     "iopub.status.busy": "2021-11-18T01:16:43.766585Z",
     "iopub.status.idle": "2021-11-18T01:16:44.023031Z",
     "shell.execute_reply": "2021-11-18T01:16:44.023503Z",
     "shell.execute_reply.started": "2021-11-16T07:57:46.396338Z"
    },
    "papermill": {
     "duration": 0.287895,
     "end_time": "2021-11-18T01:16:44.023686",
     "exception": false,
     "start_time": "2021-11-18T01:16:43.735791",
     "status": "completed"
    },
    "tags": []
   },
   "outputs": [],
   "source": [
    "amplitude = 100\n",
    "series = seasonality(time , period = 90, amplitude = amplitude , phase = 25 )\n",
    "plt.figure(figsize=(20,6))\n",
    "plot_series(time , series, color = \"green\")\n",
    "plt.title(\" Seasonality Plot - 2\", fontdict = {'fontsize' : 20} )\n",
    "plt.show()"
   ]
  },
  {
   "cell_type": "markdown",
   "metadata": {
    "papermill": {
     "duration": 0.026689,
     "end_time": "2021-11-18T01:16:44.076357",
     "exception": false,
     "start_time": "2021-11-18T01:16:44.049668",
     "status": "completed"
    },
    "tags": []
   },
   "source": [
    "## Seasonality + Trend\n",
    "### Combined plot for seasonality and trend together"
   ]
  },
  {
   "cell_type": "code",
   "execution_count": null,
   "metadata": {
    "_kg_hide-input": true,
    "execution": {
     "iopub.execute_input": "2021-11-18T01:16:44.140809Z",
     "iopub.status.busy": "2021-11-18T01:16:44.140147Z",
     "iopub.status.idle": "2021-11-18T01:16:44.369450Z",
     "shell.execute_reply": "2021-11-18T01:16:44.368867Z",
     "shell.execute_reply.started": "2021-11-16T07:57:50.58525Z"
    },
    "papermill": {
     "duration": 0.267422,
     "end_time": "2021-11-18T01:16:44.369624",
     "exception": false,
     "start_time": "2021-11-18T01:16:44.102202",
     "status": "completed"
    },
    "tags": []
   },
   "outputs": [],
   "source": [
    "baseline = 10\n",
    "slope = 0.08\n",
    "amplitude = 40\n",
    "series = baseline + trend(time , slope) + seasonality(time , period = 365 , amplitude= amplitude)\n",
    "plt.figure(figsize=(20,6))\n",
    "plot_series(time , series, color = \"green\")\n",
    "plt.title(\" Seasonality + Trend Plot \", fontdict = {'fontsize' : 20} )\n",
    "plt.show()"
   ]
  },
  {
   "cell_type": "markdown",
   "metadata": {
    "papermill": {
     "duration": 0.026556,
     "end_time": "2021-11-18T01:16:44.423211",
     "exception": false,
     "start_time": "2021-11-18T01:16:44.396655",
     "status": "completed"
    },
    "tags": []
   },
   "source": [
    "<a id=\"3\"></a>\n",
    "# <center>Noise</center>"
   ]
  },
  {
   "cell_type": "code",
   "execution_count": null,
   "metadata": {
    "execution": {
     "iopub.execute_input": "2021-11-18T01:16:44.483115Z",
     "iopub.status.busy": "2021-11-18T01:16:44.482126Z",
     "iopub.status.idle": "2021-11-18T01:16:44.485368Z",
     "shell.execute_reply": "2021-11-18T01:16:44.484713Z",
     "shell.execute_reply.started": "2021-11-16T07:57:55.499068Z"
    },
    "papermill": {
     "duration": 0.035499,
     "end_time": "2021-11-18T01:16:44.485571",
     "exception": false,
     "start_time": "2021-11-18T01:16:44.450072",
     "status": "completed"
    },
    "tags": []
   },
   "outputs": [],
   "source": [
    "def white_noise(time, noise_level = 1 , seed = None):\n",
    "    random = np.random.RandomState(seed)\n",
    "    return random.random(len(time)) * noise_level"
   ]
  },
  {
   "cell_type": "markdown",
   "metadata": {
    "papermill": {
     "duration": 0.027637,
     "end_time": "2021-11-18T01:16:44.541379",
     "exception": false,
     "start_time": "2021-11-18T01:16:44.513742",
     "status": "completed"
    },
    "tags": []
   },
   "source": [
    "### Noise Plot "
   ]
  },
  {
   "cell_type": "code",
   "execution_count": null,
   "metadata": {
    "_kg_hide-input": true,
    "execution": {
     "iopub.execute_input": "2021-11-18T01:16:44.611145Z",
     "iopub.status.busy": "2021-11-18T01:16:44.599099Z",
     "iopub.status.idle": "2021-11-18T01:16:44.798189Z",
     "shell.execute_reply": "2021-11-18T01:16:44.798679Z",
     "shell.execute_reply.started": "2021-11-16T07:58:12.060197Z"
    },
    "papermill": {
     "duration": 0.230444,
     "end_time": "2021-11-18T01:16:44.798849",
     "exception": false,
     "start_time": "2021-11-18T01:16:44.568405",
     "status": "completed"
    },
    "tags": []
   },
   "outputs": [],
   "source": [
    "noise_level = 10\n",
    "noise = white_noise(time , noise_level , seed = RANDOM_SEED)\n",
    "plt.figure(figsize=(20,6))\n",
    "plot_series(time[:200] , noise[:200], color = \"blue\")\n",
    "plt.title(\"  Noise Plot\", fontdict = {'fontsize' : 20} )\n",
    "plt.show()"
   ]
  },
  {
   "cell_type": "markdown",
   "metadata": {
    "papermill": {
     "duration": 0.030241,
     "end_time": "2021-11-18T01:16:44.860417",
     "exception": false,
     "start_time": "2021-11-18T01:16:44.830176",
     "status": "completed"
    },
    "tags": []
   },
   "source": [
    "## Noise + Seasonality + Trend \n",
    "### Combined plot for noise , seasonality and trend together"
   ]
  },
  {
   "cell_type": "code",
   "execution_count": null,
   "metadata": {
    "_kg_hide-input": true,
    "execution": {
     "iopub.execute_input": "2021-11-18T01:16:44.927792Z",
     "iopub.status.busy": "2021-11-18T01:16:44.927080Z",
     "iopub.status.idle": "2021-11-18T01:16:45.105704Z",
     "shell.execute_reply": "2021-11-18T01:16:45.105111Z",
     "shell.execute_reply.started": "2021-11-16T07:58:18.046898Z"
    },
    "papermill": {
     "duration": 0.214932,
     "end_time": "2021-11-18T01:16:45.105846",
     "exception": false,
     "start_time": "2021-11-18T01:16:44.890914",
     "status": "completed"
    },
    "tags": []
   },
   "outputs": [],
   "source": [
    "series = baseline + trend(time , slope) + seasonality(time , period = 365 , amplitude= amplitude)\n",
    "series += white_noise(time , noise_level = 10 , seed = RANDOM_SEED)\n",
    "plt.figure(figsize=(20,6))\n",
    "plot_series(time , series, color = \"blue\")\n",
    "plt.title(\"  Noise + Seasonality + Trend Plot\", fontdict = {'fontsize' : 20} )\n",
    "plt.show()"
   ]
  },
  {
   "cell_type": "markdown",
   "metadata": {
    "papermill": {
     "duration": 0.033859,
     "end_time": "2021-11-18T01:16:45.172797",
     "exception": false,
     "start_time": "2021-11-18T01:16:45.138938",
     "status": "completed"
    },
    "tags": []
   },
   "source": [
    "<a id=\"4\"></a>\n",
    "# <center>Autocorrelation</center>"
   ]
  },
  {
   "cell_type": "code",
   "execution_count": null,
   "metadata": {
    "execution": {
     "iopub.execute_input": "2021-11-18T01:16:45.240172Z",
     "iopub.status.busy": "2021-11-18T01:16:45.239443Z",
     "iopub.status.idle": "2021-11-18T01:16:45.246630Z",
     "shell.execute_reply": "2021-11-18T01:16:45.247201Z",
     "shell.execute_reply.started": "2021-11-16T07:58:23.203106Z"
    },
    "papermill": {
     "duration": 0.042761,
     "end_time": "2021-11-18T01:16:45.247371",
     "exception": false,
     "start_time": "2021-11-18T01:16:45.204610",
     "status": "completed"
    },
    "tags": []
   },
   "outputs": [],
   "source": [
    "def autocorrelation_1(time , amplitude , seed = None):\n",
    "    rnd = np.random.RandomState(seed)\n",
    "    a1 = 0.5\n",
    "    a2 = -0.1\n",
    "    rnd_ar = rnd.randn(len(time) + 50)\n",
    "    rnd_ar[:50] = 100\n",
    "    for step in range(50, len(time) + 50 ):\n",
    "        rnd_ar[step] += a1 * rnd_ar[step - 50]\n",
    "        rnd_ar[step] += a2 * rnd_ar[step - 33]\n",
    "    return rnd_ar[50:] * amplitude\n",
    "\n",
    "def autocorrelation_2(time, amplitude, seed=None):\n",
    "    rnd = np.random.RandomState(seed)\n",
    "    a1 = 0.8\n",
    "    ar = rnd.randn(len(time) + 1)\n",
    "    for step in range(1, len(time) + 1):\n",
    "        ar[step] += a1 * ar[step - 1]\n",
    "    return ar[1:] * amplitude"
   ]
  },
  {
   "cell_type": "markdown",
   "metadata": {
    "papermill": {
     "duration": 0.031952,
     "end_time": "2021-11-18T01:16:45.311147",
     "exception": false,
     "start_time": "2021-11-18T01:16:45.279195",
     "status": "completed"
    },
    "tags": []
   },
   "source": [
    "### Autocorrelation Plot 1"
   ]
  },
  {
   "cell_type": "code",
   "execution_count": null,
   "metadata": {
    "_kg_hide-input": true,
    "execution": {
     "iopub.execute_input": "2021-11-18T01:16:45.386354Z",
     "iopub.status.busy": "2021-11-18T01:16:45.385718Z",
     "iopub.status.idle": "2021-11-18T01:16:45.631505Z",
     "shell.execute_reply": "2021-11-18T01:16:45.630822Z",
     "shell.execute_reply.started": "2021-11-16T07:58:24.951236Z"
    },
    "papermill": {
     "duration": 0.28606,
     "end_time": "2021-11-18T01:16:45.631779",
     "exception": false,
     "start_time": "2021-11-18T01:16:45.345719",
     "status": "completed"
    },
    "tags": []
   },
   "outputs": [],
   "source": [
    "series = autocorrelation_1(time , amplitude , seed = RANDOM_SEED)\n",
    "plt.figure(figsize=(20,6))\n",
    "plot_series(time[:200] , series[:200] , color = \"red\" )\n",
    "plt.title(\"Autocorrelation Plot - 1 \", fontdict = {'fontsize' : 20} )\n",
    "plt.show()"
   ]
  },
  {
   "cell_type": "markdown",
   "metadata": {
    "papermill": {
     "duration": 0.035575,
     "end_time": "2021-11-18T01:16:45.703417",
     "exception": false,
     "start_time": "2021-11-18T01:16:45.667842",
     "status": "completed"
    },
    "tags": []
   },
   "source": [
    "### Autocorrelation Plot 2"
   ]
  },
  {
   "cell_type": "code",
   "execution_count": null,
   "metadata": {
    "_kg_hide-input": true,
    "execution": {
     "iopub.execute_input": "2021-11-18T01:16:45.778263Z",
     "iopub.status.busy": "2021-11-18T01:16:45.777276Z",
     "iopub.status.idle": "2021-11-18T01:16:46.026746Z",
     "shell.execute_reply": "2021-11-18T01:16:46.027252Z",
     "shell.execute_reply.started": "2021-11-16T07:58:28.768029Z"
    },
    "papermill": {
     "duration": 0.286672,
     "end_time": "2021-11-18T01:16:46.027426",
     "exception": false,
     "start_time": "2021-11-18T01:16:45.740754",
     "status": "completed"
    },
    "tags": []
   },
   "outputs": [],
   "source": [
    "series = autocorrelation_2(time , amplitude , seed = RANDOM_SEED)\n",
    "plt.figure(figsize=(20,6))\n",
    "plot_series(time[:200] , series[:200] , color = \"red\")\n",
    "plt.title(\"Autocorrelation Plot - 2 \", fontdict = {'fontsize' : 20} )\n",
    "plt.show()"
   ]
  },
  {
   "cell_type": "markdown",
   "metadata": {
    "papermill": {
     "duration": 0.035649,
     "end_time": "2021-11-18T01:16:46.099508",
     "exception": false,
     "start_time": "2021-11-18T01:16:46.063859",
     "status": "completed"
    },
    "tags": []
   },
   "source": [
    "## Autocorrelation + Trend \n",
    "### Combined plot for Autocorrelation and trend together"
   ]
  },
  {
   "cell_type": "code",
   "execution_count": null,
   "metadata": {
    "_kg_hide-input": true,
    "execution": {
     "iopub.execute_input": "2021-11-18T01:16:46.177541Z",
     "iopub.status.busy": "2021-11-18T01:16:46.176534Z",
     "iopub.status.idle": "2021-11-18T01:16:46.526452Z",
     "shell.execute_reply": "2021-11-18T01:16:46.526974Z",
     "shell.execute_reply.started": "2021-11-16T07:58:32.11047Z"
    },
    "papermill": {
     "duration": 0.390749,
     "end_time": "2021-11-18T01:16:46.527143",
     "exception": false,
     "start_time": "2021-11-18T01:16:46.136394",
     "status": "completed"
    },
    "tags": []
   },
   "outputs": [],
   "source": [
    "amplitude = 10\n",
    "slope = 2\n",
    "series = autocorrelation_1(time ,amplitude , seed = RANDOM_SEED) + trend(time , slope)\n",
    "plt.figure(figsize=(20,6))\n",
    "plot_series(time[:200], series[:200] , color = \"red\")\n",
    "plt.title(\"Autocorrelation + Trend Plot\", fontdict = {'fontsize' : 20} )\n",
    "plt.show()"
   ]
  },
  {
   "cell_type": "markdown",
   "metadata": {
    "papermill": {
     "duration": 0.038224,
     "end_time": "2021-11-18T01:16:46.604370",
     "exception": false,
     "start_time": "2021-11-18T01:16:46.566146",
     "status": "completed"
    },
    "tags": []
   },
   "source": [
    "## Autocorrelation + Seasonality  + Trend \n",
    "### Combined plot for Autocorrelation, seasonality and trend together"
   ]
  },
  {
   "cell_type": "code",
   "execution_count": null,
   "metadata": {
    "_kg_hide-input": true,
    "execution": {
     "iopub.execute_input": "2021-11-18T01:16:46.688543Z",
     "iopub.status.busy": "2021-11-18T01:16:46.684464Z",
     "iopub.status.idle": "2021-11-18T01:16:46.912785Z",
     "shell.execute_reply": "2021-11-18T01:16:46.913260Z",
     "shell.execute_reply.started": "2021-11-16T07:58:35.484292Z"
    },
    "papermill": {
     "duration": 0.270676,
     "end_time": "2021-11-18T01:16:46.913434",
     "exception": false,
     "start_time": "2021-11-18T01:16:46.642758",
     "status": "completed"
    },
    "tags": []
   },
   "outputs": [],
   "source": [
    "amplitude = 10\n",
    "slope = 2\n",
    "series = autocorrelation_1(time , amplitude , seed = RANDOM_SEED ) + seasonality(time , period= 50 , amplitude = 150) + trend(time , slope)\n",
    "plt.figure(figsize=(20,6))\n",
    "plot_series(time[:300], series[:300] , color = \"red\")\n",
    "plt.title(\"Autocorrelation + Seasonality + Trend Plot\", fontdict = {'fontsize' : 20} )\n",
    "plt.show()"
   ]
  },
  {
   "cell_type": "markdown",
   "metadata": {
    "papermill": {
     "duration": 0.101726,
     "end_time": "2021-11-18T01:16:47.056163",
     "exception": false,
     "start_time": "2021-11-18T01:16:46.954437",
     "status": "completed"
    },
    "tags": []
   },
   "source": [
    "## Autocorrelation + Seasonality  + Noise + Trend \n",
    "### Combined plot for Autocorrelation, seasonality, noise and trend together"
   ]
  },
  {
   "cell_type": "code",
   "execution_count": null,
   "metadata": {
    "_kg_hide-input": true,
    "execution": {
     "iopub.execute_input": "2021-11-18T01:16:47.148174Z",
     "iopub.status.busy": "2021-11-18T01:16:47.147434Z",
     "iopub.status.idle": "2021-11-18T01:16:47.372712Z",
     "shell.execute_reply": "2021-11-18T01:16:47.373167Z",
     "shell.execute_reply.started": "2021-11-16T07:58:40.747811Z"
    },
    "papermill": {
     "duration": 0.276243,
     "end_time": "2021-11-18T01:16:47.373331",
     "exception": false,
     "start_time": "2021-11-18T01:16:47.097088",
     "status": "completed"
    },
    "tags": []
   },
   "outputs": [],
   "source": [
    "amplitude = 10\n",
    "slope = 2\n",
    "series = autocorrelation_1(time , amplitude , seed = RANDOM_SEED ) + seasonality(time , period= 50 , amplitude = 150) + trend(time , slope)\n",
    "series += white_noise(time , noise_level=100)\n",
    "plt.figure(figsize=(20,6))\n",
    "plot_series(time[:300], series[:300] , color = \"red\")\n",
    "plt.title(\"Autocorrelation + Seasonality + Noise + Trend Plot\", fontdict = {'fontsize' : 20} )\n",
    "plt.show()"
   ]
  },
  {
   "cell_type": "markdown",
   "metadata": {
    "papermill": {
     "duration": 0.060285,
     "end_time": "2021-11-18T01:16:47.477723",
     "exception": false,
     "start_time": "2021-11-18T01:16:47.417438",
     "status": "completed"
    },
    "tags": []
   },
   "source": [
    "<a id=\"5\"></a>\n",
    "# <center>Break Point</center>"
   ]
  },
  {
   "cell_type": "markdown",
   "metadata": {
    "papermill": {
     "duration": 0.042201,
     "end_time": "2021-11-18T01:16:47.564934",
     "exception": false,
     "start_time": "2021-11-18T01:16:47.522733",
     "status": "completed"
    },
    "tags": []
   },
   "source": [
    "## Break Point plot at time = 200\n",
    "### Combined plot for Autocorrelation, seasonality, noise ,trend and break point together"
   ]
  },
  {
   "cell_type": "code",
   "execution_count": null,
   "metadata": {
    "_kg_hide-input": true,
    "execution": {
     "iopub.execute_input": "2021-11-18T01:16:47.654939Z",
     "iopub.status.busy": "2021-11-18T01:16:47.654213Z",
     "iopub.status.idle": "2021-11-18T01:16:47.899884Z",
     "shell.execute_reply": "2021-11-18T01:16:47.900367Z",
     "shell.execute_reply.started": "2021-11-16T07:58:45.957642Z"
    },
    "papermill": {
     "duration": 0.292113,
     "end_time": "2021-11-18T01:16:47.900553",
     "exception": false,
     "start_time": "2021-11-18T01:16:47.608440",
     "status": "completed"
    },
    "tags": []
   },
   "outputs": [],
   "source": [
    "amplitude1 = 10\n",
    "amplitude2 = 5\n",
    "slope1 = 2\n",
    "slope2 = -2\n",
    "series1 = autocorrelation_2(time, amplitude1, seed=RANDOM_SEED) + seasonality(time, period=50, amplitude=150) + trend(time, slope1)\n",
    "series2 = autocorrelation_2(time, amplitude2, seed=RANDOM_SEED) + seasonality(time, period=50, amplitude=2) + trend(time, slope2) + 750+  white_noise(time , 30) \n",
    "series1[200:] = series2[200:]\n",
    "series1 += white_noise(time, noise_level=100 , seed= RANDOM_SEED)\n",
    "plt.figure(figsize=(20,6))\n",
    "plot_series(time[:300], series1[:300] , color = \"indigo\")\n",
    "plt.axvline(x=200 , color = \"black\")\n",
    "plt.title(\"Autocorrelation + Seasonality + Noise + Trend + Break Point Plot\", fontdict = {'fontsize' : 20} )\n",
    "plt.show()"
   ]
  }
 ],
 "metadata": {
  "kernelspec": {
   "display_name": "Python 3",
   "language": "python",
   "name": "python3"
  },
  "language_info": {
   "codemirror_mode": {
    "name": "ipython",
    "version": 3
   },
   "file_extension": ".py",
   "mimetype": "text/x-python",
   "name": "python",
   "nbconvert_exporter": "python",
   "pygments_lexer": "ipython3",
   "version": "3.7.7"
  },
  "papermill": {
   "default_parameters": {},
   "duration": 14.993737,
   "end_time": "2021-11-18T01:16:48.560878",
   "environment_variables": {},
   "exception": null,
   "input_path": "__notebook__.ipynb",
   "output_path": "__notebook__.ipynb",
   "parameters": {},
   "start_time": "2021-11-18T01:16:33.567141",
   "version": "2.3.3"
  }
 },
 "nbformat": 4,
 "nbformat_minor": 5
}
