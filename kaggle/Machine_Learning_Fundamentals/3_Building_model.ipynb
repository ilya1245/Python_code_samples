{
  "nbformat": 4,
  "nbformat_minor": 0,
  "metadata": {
    "language_info": {
      "codemirror_mode": {
        "name": "ipython",
        "version": 3
      },
      "file_extension": ".py",
      "mimetype": "text/x-python",
      "name": "python",
      "nbconvert_exporter": "python",
      "pygments_lexer": "ipython3",
      "version": "3.7.7-final"
    },
    "orig_nbformat": 2,
    "kernelspec": {
      "name": "python37764bitatariconda0122dc12f4db4a069d4ea9fafb38b87f",
      "display_name": "Python 3.7.7 64-bit ('atari': conda)"
    },
    "colab": {
      "name": "3_Building_model.ipynb",
      "provenance": []
    }
  },
  "cells": [
    {
      "cell_type": "markdown",
      "metadata": {
        "id": "wknkpZ3D01jW"
      },
      "source": [
        "# 3. Building a model"
      ]
    },
    {
      "cell_type": "markdown",
      "metadata": {
        "id": "MMIFH_m101jX"
      },
      "source": [
        "Although, every single person has his/her own style of code, <br>\n",
        "there are styles used in common within PyTorch users.\n",
        "\n",
        "Here, starting from naive implentation, we provide a way to make your own (neural) classifier using PyTorch features. <br>\n",
        "Using randomly generated data with the same shape with MNIST image, we will build a model as follows:\n",
        "\n",
        "## Sample model\n",
        "- [1] Conv. Layer: (3, 3), out_channels 3, stride 1, padding 0\n",
        "- [2] Conv. Layer: (3, 3), out_channels 2,stride 1, padding 0\n",
        "- [3] Maxpool Layer: (2, 2), stride 2\n",
        "- [4] FC Layer: (558, 10)\n",
        "- [5] Softmax"
      ]
    },
    {
      "cell_type": "markdown",
      "metadata": {
        "id": "eTWsu6L201jY"
      },
      "source": [
        "## Import"
      ]
    },
    {
      "cell_type": "code",
      "metadata": {
        "id": "RxL9zrni01jZ",
        "outputId": "e85a4619-18e6-4a00-b5f4-96a8d93bc369",
        "colab": {
          "base_uri": "https://localhost:8080/",
          "height": 34
        }
      },
      "source": [
        "import numpy as np\n",
        "import torch\n",
        "import torch.nn as nn\n",
        "\n",
        "np.random.seed(1234)\n",
        "torch.manual_seed(1234)"
      ],
      "execution_count": null,
      "outputs": [
        {
          "output_type": "execute_result",
          "data": {
            "text/plain": [
              "<torch._C.Generator at 0x7fb173697290>"
            ]
          },
          "metadata": {
            "tags": []
          },
          "execution_count": 1
        }
      ]
    },
    {
      "cell_type": "code",
      "metadata": {
        "id": "XGiX5gfd01jd"
      },
      "source": [
        "# Randomly generated data. 3 random (28 x 28) images.\n",
        "mnist_like_data = torch.rand(3, 1, 28, 28)\n",
        "num_data, in_channels, height, width = mnist_like_data.shape"
      ],
      "execution_count": null,
      "outputs": []
    },
    {
      "cell_type": "markdown",
      "metadata": {
        "id": "uThVcQ2T01jg"
      },
      "source": [
        "## Naive Implementation: List all modules\n",
        "\n",
        "Naive way to build model is to build, list and run all modules separately. <br>\n",
        "After you build modules, pass input data for each module in order.\n"
      ]
    },
    {
      "cell_type": "code",
      "metadata": {
        "id": "1Wl4k5hu01jg"
      },
      "source": [
        "conv_1 = nn.Conv2d(in_channels, 3, 1, 1)\n",
        "conv_2 = nn.Conv2d(3, 3, 1, 1)\n",
        "maxpool = nn.MaxPool2d(2, 2)\n",
        "fc_layer = nn.Linear(588, 10)"
      ],
      "execution_count": null,
      "outputs": []
    },
    {
      "cell_type": "code",
      "metadata": {
        "id": "0rkuPnZQ01ji",
        "outputId": "b8eaa8eb-1ea2-43cd-9510-dda2e80f8b9d",
        "colab": {
          "base_uri": "https://localhost:8080/",
          "height": 34
        }
      },
      "source": [
        "naive_out = fc_layer(maxpool(conv_2(conv_1(mnist_like_data))).view(3, -1))\n",
        "print(f'Naive output shape: {naive_out.shape}')"
      ],
      "execution_count": null,
      "outputs": [
        {
          "output_type": "stream",
          "text": [
            "Naive output shape: torch.Size([3, 10])\n"
          ],
          "name": "stdout"
        }
      ]
    },
    {
      "cell_type": "markdown",
      "metadata": {
        "id": "86GAWq2t01jl"
      },
      "source": [
        "## Better Implementation: Build a single model\n",
        "\n",
        "List all modules are fine if you build a simple model. <br> \n",
        "However, as the complexity of model increases, it is hard to track and manage all codes neat. <br>\n",
        "Remember all layers and functions are 'nn.module'? <br>\n",
        "Why don't you **build your own bigger module** with layers?\n",
        "\n",
        "Look at ```ModelSample``` below. <br>\n",
        "```ModelSample``` inherits ```nn.Module```, which means you are building your own PyTorch module! <br>\n",
        "Two basic methods you have to remember are ```__init__``` and ```forward```. <br>\n",
        "- In ```__init__```, you define your models, building modules and fuctions you need. <br>\n",
        "- In ```forward```, you pass input data and return output as you want.\n",
        "\n",
        "For instance, you can build simple CNN Classifier (which was your last assignment) like ```MyClassifier```. <br>\n",
        "After you build a model and call it like ```your_model = MODEL(); your_model(input_data)```, <br>\n",
        "```input_data``` is passed through ```forward``` to generate output.\n",
        "\n",
        "**Now, try to make your own model for practice!**"
      ]
    },
    {
      "cell_type": "code",
      "metadata": {
        "id": "moPzHOoJ01jl"
      },
      "source": [
        "class ModelSample(nn.Module):\n",
        "    def __init__(self, *param):\n",
        "        super(ModelSample, self).__init__()\n",
        "    \n",
        "    def forward(self, *input):\n",
        "        pass"
      ],
      "execution_count": null,
      "outputs": []
    },
    {
      "cell_type": "code",
      "metadata": {
        "id": "-z_AhKtU01jn"
      },
      "source": [
        "class MyClassifier(nn.Module):\n",
        "    def __init__(self):\n",
        "        super(MyClassifier, self).__init__()\n",
        "        self.conv_1 = nn.Conv2d(in_channels, 3, 1, 1)\n",
        "        self.conv_2 = nn.Conv2d(3, 3, 1, 1)\n",
        "        self.maxpool = nn.MaxPool2d(2, 2)\n",
        "        self.fc_layer = nn.Linear(588, 10)\n",
        "        self.softmax = nn.Softmax(dim=-1)\n",
        "    \n",
        "    def forward(self, x):\n",
        "        num_data = x.shape[0]\n",
        "        out = self.conv_1(x)\n",
        "        out = self.conv_2(out)\n",
        "        out = self.maxpool(out)\n",
        "        out = self.fc_layer(out.view(num_data, -1))\n",
        "        return self.softmax(out)"
      ],
      "execution_count": null,
      "outputs": []
    },
    {
      "cell_type": "code",
      "metadata": {
        "id": "MCVHr3vN01jq"
      },
      "source": [
        "model = MyClassifier()"
      ],
      "execution_count": null,
      "outputs": []
    },
    {
      "cell_type": "code",
      "metadata": {
        "id": "iGZQGLT-01jv",
        "outputId": "6583be8d-1c10-41d0-b725-12236deec903",
        "colab": {
          "base_uri": "https://localhost:8080/",
          "height": 34
        }
      },
      "source": [
        "model_out = model(mnist_like_data)\n",
        "print(f'Model output shape: {model_out.shape}')"
      ],
      "execution_count": null,
      "outputs": [
        {
          "output_type": "stream",
          "text": [
            "Model output shape: torch.Size([3, 10])\n"
          ],
          "name": "stdout"
        }
      ]
    },
    {
      "cell_type": "code",
      "metadata": {
        "id": "MHliFtRi01jx"
      },
      "source": [
        ""
      ],
      "execution_count": null,
      "outputs": []
    }
  ]
}