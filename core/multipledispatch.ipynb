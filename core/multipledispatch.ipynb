{
 "cells": [
  {
   "cell_type": "code",
   "execution_count": 1,
   "metadata": {
    "collapsed": true
   },
   "outputs": [],
   "source": [
    "from multipledispatch import dispatch"
   ]
  },
  {
   "cell_type": "code",
   "execution_count": 4,
   "metadata": {},
   "outputs": [],
   "source": [
    "@dispatch(bool, bool)\n",
    "def function_bool(a=True, b=True):  # 1st function\n",
    "    print(a, b)\n",
    "\n",
    "@dispatch(bool, c=str)\n",
    "def function_bool(a=True, b=False, c='asd'):          # 2nd function\n",
    "    print(a, b, c)\n",
    "\n",
    "@dispatch(object, c=str)\n",
    "def function_bool(obj, b=False, c=None):          # 23nd function\n",
    "    print(f'obj={obj}', b, c) "
   ]
  },
  {
   "cell_type": "code",
   "execution_count": 6,
   "metadata": {},
   "outputs": [
    {
     "name": "stdout",
     "output_type": "stream",
     "text": [
      "False False\nFalse False zxc\nobj=[1, 2, 3] True None\nobj=[1, 2, 3] True zxc\n"
     ]
    }
   ],
   "source": [
    "function_bool(False, False)\n",
    "function_bool(False, c='zxc')\n",
    "function_bool([1,2,3], b=True)\n",
    "function_bool([1,2,3], b=True, c='zxc')"
   ]
  },
  {
   "cell_type": "code",
   "execution_count": null,
   "metadata": {},
   "outputs": [],
   "source": []
  }
 ],
 "metadata": {
  "kernelspec": {
   "display_name": "Python 2",
   "language": "python",
   "name": "python2"
  },
  "language_info": {
   "codemirror_mode": {
    "name": "ipython",
    "version": 2
   },
   "file_extension": ".py",
   "mimetype": "text/x-python",
   "name": "python",
   "nbconvert_exporter": "python",
   "pygments_lexer": "ipython2",
   "version": "2.7.6"
  }
 },
 "nbformat": 4,
 "nbformat_minor": 0
}
