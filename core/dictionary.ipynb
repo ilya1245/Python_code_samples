{
 "cells": [
  {
   "cell_type": "code",
   "execution_count": 31,
   "metadata": {
    "collapsed": true
   },
   "outputs": [],
   "source": [
    "import numpy as np"
   ]
  },
  {
   "cell_type": "code",
   "execution_count": 2,
   "metadata": {},
   "outputs": [
    {
     "name": "stdout",
     "output_type": "stream",
     "text": [
      "{'brand': 'Ford', 'model': 'Mustang', 'year': 1964}\n"
     ]
    }
   ],
   "source": [
    "thisdict = {\n",
    "    \"brand\": \"Ford\",\n",
    "    \"model\": \"Mustang\",\n",
    "    \"year\": 1964\n",
    "}\n",
    "print(thisdict)"
   ]
  },
  {
   "cell_type": "code",
   "execution_count": 3,
   "metadata": {},
   "outputs": [
    {
     "name": "stdout",
     "output_type": "stream",
     "text": [
      "Ford 1964\n"
     ]
    }
   ],
   "source": [
    "print(thisdict['brand'], thisdict['year'])"
   ]
  },
  {
   "cell_type": "code",
   "execution_count": 4,
   "metadata": {},
   "outputs": [
    {
     "name": "stdout",
     "output_type": "stream",
     "text": [
      "{'brand': 'Ford', 'model': 'Mustang', 'year': 1964, 'new_key': 'new_val'}\n"
     ]
    }
   ],
   "source": [
    "thisdict['new_key'] = 'new_val'\n",
    "print(thisdict)"
   ]
  },
  {
   "cell_type": "code",
   "execution_count": 5,
   "metadata": {},
   "outputs": [
    {
     "name": "stdout",
     "output_type": "stream",
     "text": [
      "brand\nmodel\nyear\nnew_key\n"
     ]
    }
   ],
   "source": [
    "for key in thisdict:\n",
    "    print(key)"
   ]
  },
  {
   "cell_type": "code",
   "execution_count": 4,
   "metadata": {},
   "outputs": [
    {
     "name": "stdout",
     "output_type": "stream",
     "text": [
      "ab\n"
     ]
    }
   ],
   "source": [
    "new_dict = {}\n",
    "new_dict['a'] = {}\n",
    "new_dict['a']['b'] = 'ab'\n",
    "print(new_dict['a']['b'])"
   ]
  },
  {
   "cell_type": "code",
   "execution_count": 5,
   "metadata": {},
   "outputs": [
    {
     "name": "stdout",
     "output_type": "stream",
     "text": [
      "['qwe', 'asd']\n"
     ]
    }
   ],
   "source": [
    "new_dict = {}\n",
    "new_dict['a'] = {}\n",
    "new_dict['a']['b'] = []\n",
    "new_dict['a']['b'].append('qwe')\n",
    "new_dict['a']['b'].append('asd')\n",
    "print(new_dict['a']['b'])"
   ]
  },
  {
   "cell_type": "code",
   "execution_count": 23,
   "metadata": {},
   "outputs": [
    {
     "data": {
      "text/plain": [
       "3"
      ]
     },
     "execution_count": 23,
     "metadata": {},
     "output_type": "execute_result"
    }
   ],
   "source": [
    "signal_dict={0.5: 1, 5: 5, 1: 2, 2: 3, 3: 4}\n",
    "signal_dict[2]"
   ]
  },
  {
   "cell_type": "code",
   "execution_count": 17,
   "metadata": {},
   "outputs": [
    {
     "name": "stdout",
     "output_type": "stream",
     "text": [
      "-3\n"
     ]
    }
   ],
   "source": [
    "a = -2.7\n",
    "for key, value in signal_dict.items(): \n",
    "    if abs(a) >= key:\n",
    "        t = value\n",
    "print(t if a >= 0 else -t)\n",
    "# print({key: value for key, value in signal_dict})"
   ]
  },
  {
   "cell_type": "code",
   "execution_count": 27,
   "metadata": {},
   "outputs": [
    {
     "data": {
      "text/plain": [
       "[(5, 5), (3, 4), (2, 3), (1, 2), (0.5, 1)]"
      ]
     },
     "execution_count": 27,
     "metadata": {},
     "output_type": "execute_result"
    }
   ],
   "source": [
    "sorted(list(signal_dict.items()), key=lambda x:x[0], reverse=True)"
   ]
  },
  {
   "cell_type": "code",
   "execution_count": 29,
   "metadata": {},
   "outputs": [
    {
     "ename": "TypeError",
     "evalue": "'float' object cannot be interpreted as an integer",
     "traceback": [
      "\u001b[1;31m---------------------------------------------------------------------------\u001b[0m",
      "\u001b[1;31mTypeError\u001b[0m                                 Traceback (most recent call last)",
      "\u001b[1;32m~\\AppData\\Local\\Temp\\ipykernel_3660\\1943905102.py\u001b[0m in \u001b[0;36m<module>\u001b[1;34m\u001b[0m\n\u001b[1;32m----> 1\u001b[1;33m \u001b[1;32mfor\u001b[0m \u001b[0mval\u001b[0m \u001b[1;32min\u001b[0m \u001b[0mrange\u001b[0m\u001b[1;33m(\u001b[0m\u001b[1;33m-\u001b[0m\u001b[1;36m6\u001b[0m\u001b[1;33m,\u001b[0m \u001b[1;36m6\u001b[0m\u001b[1;33m,\u001b[0m \u001b[1;36m0.3\u001b[0m\u001b[1;33m)\u001b[0m\u001b[1;33m:\u001b[0m\u001b[1;33m\u001b[0m\u001b[1;33m\u001b[0m\u001b[0m\n\u001b[0m\u001b[0;32m      2\u001b[0m     \u001b[1;31m# result_1 = get_signal_by_value(signal_dict, val)\u001b[0m\u001b[1;33m\u001b[0m\u001b[1;33m\u001b[0m\u001b[1;33m\u001b[0m\u001b[0m\n\u001b[0;32m      3\u001b[0m     \u001b[1;31m# result_2 = get_signal_by_value_2(signal_dict, val)\u001b[0m\u001b[1;33m\u001b[0m\u001b[1;33m\u001b[0m\u001b[1;33m\u001b[0m\u001b[0m\n\u001b[0;32m      4\u001b[0m     print(val\n\u001b[0;32m      5\u001b[0m           \u001b[1;31m# , result_1, result_2\u001b[0m\u001b[1;33m\u001b[0m\u001b[1;33m\u001b[0m\u001b[1;33m\u001b[0m\u001b[0m\n",
      "\u001b[1;31mTypeError\u001b[0m: 'float' object cannot be interpreted as an integer"
     ],
     "output_type": "error"
    }
   ],
   "source": [
    "for val in range(-6, 6, 0.3):\n",
    "    # result_1 = get_signal_by_value(signal_dict, val)\n",
    "    # result_2 = get_signal_by_value_2(signal_dict, val)\n",
    "    print(val\n",
    "          # , result_1, result_2\n",
    "          )"
   ]
  },
  {
   "cell_type": "code",
   "execution_count": 34,
   "metadata": {},
   "outputs": [
    {
     "name": "stdout",
     "output_type": "stream",
     "text": [
      "-6.0\n-5.7\n-5.4\n-5.1000000000000005\n-4.800000000000001\n-4.500000000000001\n-4.200000000000001\n-3.9000000000000012\n-3.6000000000000014\n-3.3000000000000016\n-3.0000000000000018\n-2.700000000000002\n-2.400000000000002\n-2.1000000000000023\n-1.8000000000000025\n-1.5000000000000027\n-1.2000000000000028\n-0.900000000000003\n-0.6000000000000032\n-0.3000000000000034\n-3.552713678800501e-15\n0.29999999999999627\n0.5999999999999961\n0.8999999999999959\n1.1999999999999957\n1.4999999999999956\n1.7999999999999954\n2.0999999999999943\n2.399999999999995\n2.6999999999999957\n2.9999999999999947\n3.2999999999999936\n3.5999999999999943\n3.899999999999995\n4.199999999999994\n4.499999999999993\n4.799999999999994\n5.099999999999994\n5.399999999999993\n5.699999999999992\n"
     ]
    }
   ],
   "source": [
    "for i in np.arange(-6, 6, 0.3):\n",
    "    print(i)"
   ]
  },
  {
   "cell_type": "code",
   "execution_count": null,
   "metadata": {},
   "outputs": [],
   "source": []
  }
 ],
 "metadata": {
  "kernelspec": {
   "display_name": "Python 2",
   "language": "python",
   "name": "python2"
  },
  "language_info": {
   "codemirror_mode": {
    "name": "ipython",
    "version": 2
   },
   "file_extension": ".py",
   "mimetype": "text/x-python",
   "name": "python",
   "nbconvert_exporter": "python",
   "pygments_lexer": "ipython2",
   "version": "2.7.6"
  }
 },
 "nbformat": 4,
 "nbformat_minor": 0
}
