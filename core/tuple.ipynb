{
 "cells": [
  {
   "cell_type": "code",
   "execution_count": 3,
   "metadata": {
    "collapsed": true
   },
   "outputs": [
    {
     "name": "stdout",
     "output_type": "stream",
     "text": [
      "MNNIT Allahabad\n5000\nEngineering\n"
     ]
    }
   ],
   "source": [
    "a = (\"MNNIT Allahabad\", 5000, \"Engineering\")\n",
    "\n",
    "# this lines UNPACKS values\n",
    "# of variable a\n",
    "college, student, type_ofcollege = a\n",
    "\n",
    "# print college name\n",
    "print(college)\n",
    "\n",
    "# print no of student\n",
    "print(student)\n",
    "\n",
    "# print type of college\n",
    "print(type_ofcollege)"
   ]
  },
  {
   "cell_type": "code",
   "execution_count": null,
   "metadata": {},
   "outputs": [],
   "source": []
  }
 ],
 "metadata": {
  "kernelspec": {
   "display_name": "Python 2",
   "language": "python",
   "name": "python2"
  },
  "language_info": {
   "codemirror_mode": {
    "name": "ipython",
    "version": 2
   },
   "file_extension": ".py",
   "mimetype": "text/x-python",
   "name": "python",
   "nbconvert_exporter": "python",
   "pygments_lexer": "ipython2",
   "version": "2.7.6"
  }
 },
 "nbformat": 4,
 "nbformat_minor": 0
}
