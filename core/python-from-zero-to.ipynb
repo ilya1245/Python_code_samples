{
 "cells": [
  {
   "cell_type": "markdown",
   "metadata": {},
   "source": [
    "\n",
    "<h2 style = \"font-size:50px; font-family:Garamond ; font-weight : normal; background-color:#FA4659; color :  #F0FFF3; text-align: center; border-radius: 5px 5px; padding: 5px\"> PYTHON FROM ZERO TO 🦸‍♂️🦸‍♀️🔥</h2> "
   ]
  },
  {
   "cell_type": "markdown",
   "metadata": {},
   "source": [
    "<img src=\"https://images.unsplash.com/photo-1538439907460-1596cafd4eff?ixlib=rb-1.2.1&ixid=MnwxMjA3fDB8MHxwaG90by1wYWdlfHx8fGVufDB8fHx8&auto=format&fit=crop&w=856&q=80\"></img>"
   ]
  },
  {
   "cell_type": "markdown",
   "metadata": {},
   "source": [
    "<p style = \"font-size:30px; color:#331340 ; text-align: left; border-radius: 5px 5px; padding: 5px\" ><strong>IF YOU LIKE THIS NOTEBOOK . PLEASE DO UPVOTE🙌</strong></p>"
   ]
  },
  {
   "cell_type": "markdown",
   "metadata": {},
   "source": [
    "<a id = '0'></a>\n<h2 style = \"font-family: garamond; font-size: 40px; font-style: normal; letter-spcaing: 3px; background-color: #FA4659 ; color : #F0FFF3; border-radius: 5px 5px; padding: 5px;text-align:center; font-weight: bold\" >Table of Contents</h2> \n\n* [1. Introduction](#1.0)\n    * [1.1 Why python](#1.1)\n    * [1.2 Modules](#1.2)\n    * [1.3 comments](#1.3)\n    * [1.4 Question Bank](#1.4)\n \n* [2. Variables & Data Types](#2.0)\n    * [2.1 Variables](#2.1)\n    * [2.2 Key words](#2.2)\n    * [2.3 Data Types](#2.3)\n    * [2.4 Operators](#2.4)\n    * [2.5 Type Casting](#2.5)\n    * [2.6 Question Bank](#2.6)\n    \n* [3. String](#3.0)\n    * [3.1 Slicing](#3.1)\n    * [3.2 Methods](#3.2)\n   \n* [4. List](#4.0)\n    * [4.1 Methods](#4.1)\n    \n* [5.0 Tuple](#5.0)\n    * [5.1 Methods](#5.1)\n"
   ]
  },
  {
   "cell_type": "markdown",
   "metadata": {},
   "source": [
    "<a id = '1.0'></a>\n<h2 style = \"font-family: garamond; font-size: 40px; font-style: normal; background-color: #FA4659 ; color : #F0FFF3; border-radius: 5px 5px;padding:5px;text-align:center; font-weight: bold\" >1. Introduction</h2>\n<br>"
   ]
  },
  {
   "cell_type": "markdown",
   "metadata": {},
   "source": [
    "<a id=\"1.1\"></a>\n<p style = \"font-size:30px; color:#331340 ; text-align: left; border-radius: 5px 5px; padding: 5px\" ><strong>Why python?</strong></p>"
   ]
  },
  {
   "cell_type": "markdown",
   "metadata": {},
   "source": [
    "<p style = \"font-size:18px; ; text-align: center\" >Python is a computer programming language often used to build websites and software, automate tasks, and conduct data analysis. Python is a general purpose language, meaning it can be used to create a variety of different programs and isn't specialized for any specific problems.</p>"
   ]
  },
  {
   "cell_type": "markdown",
   "metadata": {},
   "source": [
    "<a id=\"1.2\"></a>\n<p style = \"font-size:30px; color:#331340 ; text-align: left; border-radius: 5px 5px; padding: 5px\" ><strong>Modules</strong></p>"
   ]
  },
  {
   "cell_type": "markdown",
   "metadata": {},
   "source": [
    "<p style = \"font-size:18px; ; text-align: center\" >Modules are code that is written by someone else.Usually which can be imported and be used.we use package pip to install the modules:\n<br>\nThere are mainly Two types of modules:"
   ]
  },
  {
   "cell_type": "markdown",
   "metadata": {},
   "source": [
    "<p style = \"font-size:18px; ;color:#3B7128; text-align: center\" >01.Built in Modules</p>"
   ]
  },
  {
   "cell_type": "markdown",
   "metadata": {},
   "source": [
    "<p style = \"font-size:18px; ; text-align: center\" >Those are the modules that we get with the python. We don't need to download them externally</p>"
   ]
  },
  {
   "cell_type": "code",
   "execution_count": 1,
   "metadata": {
    "execution": {
     "iopub.status.busy": "2021-12-24T05:13:15.043327Z",
     "iopub.execute_input": "2021-12-24T05:13:15.044186Z",
     "iopub.status.idle": "2021-12-24T05:13:15.066521Z",
     "shell.execute_reply.started": "2021-12-24T05:13:15.043989Z",
     "shell.execute_reply": "2021-12-24T05:13:15.065752Z"
    },
    "trusted": true
   },
   "outputs": [],
   "source": [
    "import os # example"
   ]
  },
  {
   "cell_type": "markdown",
   "metadata": {},
   "source": [
    "<p style = \"font-size:18px; ;color:#3B7128; text-align: center\" >02.External Modules</p>"
   ]
  },
  {
   "cell_type": "markdown",
   "metadata": {},
   "source": [
    "<p style = \"font-size:18px; ; text-align: center\" >Those are the modules that we download or import with the help of pip></p> </p>"
   ]
  },
  {
   "cell_type": "code",
   "execution_count": 2,
   "metadata": {
    "execution": {
     "iopub.status.busy": "2021-12-24T05:13:15.067799Z",
     "iopub.execute_input": "2021-12-24T05:13:15.068246Z",
     "iopub.status.idle": "2021-12-24T05:13:23.527118Z",
     "shell.execute_reply.started": "2021-12-24T05:13:15.068198Z",
     "shell.execute_reply": "2021-12-24T05:13:23.526353Z"
    },
    "trusted": true
   },
   "outputs": [
    {
     "name": "stdout",
     "output_type": "stream",
     "text": [
      "Requirement already satisfied: numpy in /opt/conda/lib/python3.7/site-packages (1.19.5)\n\u001b[33mWARNING: Running pip as the 'root' user can result in broken permissions and conflicting behaviour with the system package manager. It is recommended to use a virtual environment instead: https://pip.pypa.io/warnings/venv\u001b[0m\n"
     ]
    }
   ],
   "source": [
    "! pip install numpy \n",
    "#example"
   ]
  },
  {
   "cell_type": "code",
   "execution_count": 3,
   "metadata": {
    "execution": {
     "iopub.status.busy": "2021-12-24T05:13:23.528441Z",
     "iopub.execute_input": "2021-12-24T05:13:23.528660Z",
     "iopub.status.idle": "2021-12-24T05:13:23.533338Z",
     "shell.execute_reply.started": "2021-12-24T05:13:23.528634Z",
     "shell.execute_reply": "2021-12-24T05:13:23.532472Z"
    },
    "trusted": true
   },
   "outputs": [],
   "source": [
    "import numpy as np"
   ]
  },
  {
   "cell_type": "markdown",
   "metadata": {},
   "source": [
    "<a id=\"1.3\"></a>\n<p style = \"font-size:30px; color:#331340 ; text-align: left; border-radius: 5px 5px; padding: 5px\" ><strong>Comments</strong></p>"
   ]
  },
  {
   "cell_type": "markdown",
   "metadata": {},
   "source": [
    "<p style = \"font-size:18px; ; text-align: center\" >Comments are used to write the something which the programmers  doesn't want to execute!\n<br>\nThere are two types of comments:\n    </p>"
   ]
  },
  {
   "cell_type": "markdown",
   "metadata": {},
   "source": [
    "<p style = \"font-size:18px; ;color:#3B7128; text-align: center\" >01.Single Line</p>"
   ]
  },
  {
   "cell_type": "code",
   "execution_count": 4,
   "metadata": {
    "execution": {
     "iopub.status.busy": "2021-12-24T05:13:23.535268Z",
     "iopub.execute_input": "2021-12-24T05:13:23.535474Z",
     "iopub.status.idle": "2021-12-24T05:13:23.548440Z",
     "shell.execute_reply.started": "2021-12-24T05:13:23.535449Z",
     "shell.execute_reply": "2021-12-24T05:13:23.547803Z"
    },
    "trusted": true
   },
   "outputs": [
    {
     "name": "stdout",
     "output_type": "stream",
     "text": [
      "hello world\n"
     ]
    }
   ],
   "source": [
    "# This is the single line comment . single comment will be start with # symbol\n",
    "print(\"hello world\")"
   ]
  },
  {
   "cell_type": "markdown",
   "metadata": {},
   "source": [
    "<p style = \"font-size:18px; ;color:#3B7128; text-align: center\" >02.Multi-Line Comments</p>"
   ]
  },
  {
   "cell_type": "code",
   "execution_count": 5,
   "metadata": {
    "execution": {
     "iopub.status.busy": "2021-12-24T05:13:23.550024Z",
     "iopub.execute_input": "2021-12-24T05:13:23.550231Z",
     "iopub.status.idle": "2021-12-24T05:13:23.561028Z",
     "shell.execute_reply.started": "2021-12-24T05:13:23.550206Z",
     "shell.execute_reply": "2021-12-24T05:13:23.560140Z"
    },
    "trusted": true
   },
   "outputs": [
    {
     "name": "stdout",
     "output_type": "stream",
     "text": [
      "hello world\n"
     ]
    }
   ],
   "source": [
    "'''\n",
    "This\n",
    "  is \n",
    "  the \n",
    "  multi-line \n",
    "  comment \n",
    "'''\n",
    "print('hello world')"
   ]
  },
  {
   "cell_type": "markdown",
   "metadata": {},
   "source": [
    "<div style=\"background: #DCDCDC\">\n<a id=\"1.4\"></a>\n<p style = \"font-size:30px; color:#331340 ; text-align: left; border-radius: 5px 5px; padding: 5px\" ><strong>Question Bank</strong></p>\n\n<ol style=\"font-family: Arials, sans-serif; font-size: 14px; line-height:1.5; color: rgba(0,0,0,.7)\">\n<li>Try to Import  os module and print all the directories.</li>\n<p></p>\n<li>write a program to print hello world and comment out welcome python .</li>\n<p></p> \n    </ol>\n</div>"
   ]
  },
  {
   "cell_type": "markdown",
   "metadata": {},
   "source": [
    "<a id = '2.0'></a>\n<h2 style = \"font-family: garamond; font-size: 40px; font-style: normal; background-color: #FA4659 ; color : #F0FFF3; border-radius: 5px 5px;padding:5px;text-align:center; font-weight: bold\" >2. Variables and Data Types</h2>\n<br>"
   ]
  },
  {
   "cell_type": "markdown",
   "metadata": {},
   "source": [
    "<a id=\"2.1\"></a>\n<p style = \"font-size:30px; color:#331340 ; text-align: left; border-radius: 5px 5px; padding: 5px\" ><strong>Variables</strong></p>\n"
   ]
  },
  {
   "cell_type": "markdown",
   "metadata": {},
   "source": [
    "<p style = \"font-size:18px; ; text-align: center\" >A Python variable is a reserved memory location to store values.The name of the variable must always start with either a letter or an underscore (_). For example: _str, str, num, _num are all valid name for the variables</p>"
   ]
  },
  {
   "cell_type": "code",
   "execution_count": 6,
   "metadata": {
    "execution": {
     "iopub.status.busy": "2021-12-24T05:13:23.562508Z",
     "iopub.execute_input": "2021-12-24T05:13:23.562762Z",
     "iopub.status.idle": "2021-12-24T05:13:23.573525Z",
     "shell.execute_reply.started": "2021-12-24T05:13:23.562708Z",
     "shell.execute_reply": "2021-12-24T05:13:23.572626Z"
    },
    "trusted": true
   },
   "outputs": [],
   "source": [
    "# let's make a variable a in which we store the value 10\n",
    "a=10"
   ]
  },
  {
   "cell_type": "markdown",
   "metadata": {},
   "source": [
    "<a id=\"2.2\"></a>\n<p style = \"font-size:30px; color:#331340 ; text-align: left; border-radius: 5px 5px; padding: 5px\" ><strong>Key words</strong></p>"
   ]
  },
  {
   "cell_type": "markdown",
   "metadata": {},
   "source": [
    "<p style = \"font-size:18px; ; text-align: center\" >Python has a set of keywords that are reserved words that cannot be used as variable names, function names, or any other identifiers:</p>"
   ]
  },
  {
   "cell_type": "code",
   "execution_count": null,
   "metadata": {
    "execution": {
     "iopub.status.busy": "2021-12-20T15:39:45.572933Z",
     "iopub.execute_input": "2021-12-20T15:39:45.573278Z",
     "iopub.status.idle": "2021-12-20T15:39:45.5784Z",
     "shell.execute_reply.started": "2021-12-20T15:39:45.573216Z",
     "shell.execute_reply": "2021-12-20T15:39:45.577483Z"
    }
   },
   "outputs": [],
   "source": [
    "# and is a key word so it can not be used as a name of the variable if we do so it will show eror\n",
    "and=5"
   ]
  },
  {
   "cell_type": "markdown",
   "metadata": {},
   "source": [
    "<a id=\"2.3\"></a>\n<p style = \"font-size:30px; color:#331340 ; text-align: left; border-radius: 5px 5px; padding: 5px\" ><strong>Data Types</strong></p>"
   ]
  },
  {
   "cell_type": "markdown",
   "metadata": {},
   "source": [
    "<p style = \"font-size:18px; ; text-align: center\" >It is used to identify the type of the data.In python we don't need to define the type of the data it will automatically check.Primarly there are following data types in the python!\n</p>"
   ]
  },
  {
   "cell_type": "markdown",
   "metadata": {},
   "source": [
    "<p style = \"font-size:18px; ;color:#3B7128; text-align: center\" >01.Integer</p>"
   ]
  },
  {
   "cell_type": "code",
   "execution_count": 7,
   "metadata": {
    "execution": {
     "iopub.status.busy": "2021-12-24T05:13:23.576510Z",
     "iopub.execute_input": "2021-12-24T05:13:23.576841Z",
     "iopub.status.idle": "2021-12-24T05:13:23.586250Z",
     "shell.execute_reply.started": "2021-12-24T05:13:23.576799Z",
     "shell.execute_reply": "2021-12-24T05:13:23.585222Z"
    },
    "trusted": true
   },
   "outputs": [
    {
     "name": "stdout",
     "output_type": "stream",
     "text": [
      "<class 'int'>\n"
     ]
    }
   ],
   "source": [
    "# it will store the numeric data with out the decimal\n",
    "a=5\n",
    "print(type(a))"
   ]
  },
  {
   "cell_type": "markdown",
   "metadata": {},
   "source": [
    "<p style = \"font-size:18px; ;color:#3B7128; text-align: center\" >02.Float</p>"
   ]
  },
  {
   "cell_type": "code",
   "execution_count": 8,
   "metadata": {
    "execution": {
     "iopub.status.busy": "2021-12-24T05:13:23.588331Z",
     "iopub.execute_input": "2021-12-24T05:13:23.588839Z",
     "iopub.status.idle": "2021-12-24T05:13:23.599249Z",
     "shell.execute_reply.started": "2021-12-24T05:13:23.588797Z",
     "shell.execute_reply": "2021-12-24T05:13:23.598503Z"
    },
    "trusted": true
   },
   "outputs": [
    {
     "name": "stdout",
     "output_type": "stream",
     "text": [
      "<class 'float'>\n"
     ]
    }
   ],
   "source": [
    "# it will store the decimal values\n",
    "a=5.5\n",
    "print(type(a))"
   ]
  },
  {
   "cell_type": "markdown",
   "metadata": {},
   "source": [
    "<p style = \"font-size:18px; ;color:#3B7128; text-align: center\" >03.String</p>"
   ]
  },
  {
   "cell_type": "code",
   "execution_count": 9,
   "metadata": {
    "execution": {
     "iopub.status.busy": "2021-12-24T05:13:23.600611Z",
     "iopub.execute_input": "2021-12-24T05:13:23.601001Z",
     "iopub.status.idle": "2021-12-24T05:13:23.611577Z",
     "shell.execute_reply.started": "2021-12-24T05:13:23.600958Z",
     "shell.execute_reply": "2021-12-24T05:13:23.610813Z"
    },
    "trusted": true
   },
   "outputs": [
    {
     "name": "stdout",
     "output_type": "stream",
     "text": [
      "<class 'str'>\n"
     ]
    }
   ],
   "source": [
    "# it will store the words\n",
    "a=\"hello python\"\n",
    "print(type(a))"
   ]
  },
  {
   "cell_type": "markdown",
   "metadata": {},
   "source": [
    "<p style = \"font-size:18px; ;color:#3B7128; text-align: center\" >04.Boolean</p>"
   ]
  },
  {
   "cell_type": "code",
   "execution_count": 10,
   "metadata": {
    "execution": {
     "iopub.status.busy": "2021-12-24T05:13:23.614495Z",
     "iopub.execute_input": "2021-12-24T05:13:23.614983Z",
     "iopub.status.idle": "2021-12-24T05:13:23.623987Z",
     "shell.execute_reply.started": "2021-12-24T05:13:23.614934Z",
     "shell.execute_reply": "2021-12-24T05:13:23.623260Z"
    },
    "trusted": true
   },
   "outputs": [
    {
     "name": "stdout",
     "output_type": "stream",
     "text": [
      "<class 'bool'>\n"
     ]
    }
   ],
   "source": [
    "\n",
    "print(type(True))"
   ]
  },
  {
   "cell_type": "markdown",
   "metadata": {},
   "source": [
    "<a id=\"2.4\"></a>\n<p style = \"font-size:30px; color:#331340 ; text-align: left; border-radius: 5px 5px; padding: 5px\" ><strong>Operators</strong></p>"
   ]
  },
  {
   "cell_type": "markdown",
   "metadata": {},
   "source": [
    "<p style = \"font-size:18px; ; text-align: center\" >Operators are special symbols that are used to perform operations on variables and values!. Following are some operators in Python\n</p>"
   ]
  },
  {
   "cell_type": "markdown",
   "metadata": {},
   "source": [
    "<p style = \"font-size:18px; ;color:#3B7128; text-align: center\" >01.Airthematic</p>"
   ]
  },
  {
   "cell_type": "code",
   "execution_count": 11,
   "metadata": {
    "execution": {
     "iopub.status.busy": "2021-12-24T05:13:23.625334Z",
     "iopub.execute_input": "2021-12-24T05:13:23.625555Z",
     "iopub.status.idle": "2021-12-24T05:13:23.639302Z",
     "shell.execute_reply.started": "2021-12-24T05:13:23.625528Z",
     "shell.execute_reply": "2021-12-24T05:13:23.638292Z"
    },
    "trusted": true
   },
   "outputs": [
    {
     "name": "stdout",
     "output_type": "stream",
     "text": [
      "15\n"
     ]
    }
   ],
   "source": [
    "# They are used to do the airthematic operations\n",
    "a=5\n",
    "b=10\n",
    "print(a+b)"
   ]
  },
  {
   "cell_type": "markdown",
   "metadata": {},
   "source": [
    "<p style = \"font-size:18px; ;color:#3B7128; text-align: center\" >02.Assignment</p>"
   ]
  },
  {
   "cell_type": "code",
   "execution_count": 12,
   "metadata": {
    "execution": {
     "iopub.status.busy": "2021-12-24T05:13:23.641231Z",
     "iopub.execute_input": "2021-12-24T05:13:23.642339Z",
     "iopub.status.idle": "2021-12-24T05:13:23.651343Z",
     "shell.execute_reply.started": "2021-12-24T05:13:23.642201Z",
     "shell.execute_reply": "2021-12-24T05:13:23.650679Z"
    },
    "trusted": true
   },
   "outputs": [
    {
     "name": "stdout",
     "output_type": "stream",
     "text": [
      "10\n"
     ]
    }
   ],
   "source": [
    "# Assignment Operators are used to assigning values to variables.\n",
    "a=5\n",
    "a +=5\n",
    "print(a)"
   ]
  },
  {
   "cell_type": "markdown",
   "metadata": {},
   "source": [
    "<p style = \"font-size:18px; ;color:#3B7128; text-align: center\" >03.Comparison</p>"
   ]
  },
  {
   "cell_type": "code",
   "execution_count": 13,
   "metadata": {
    "execution": {
     "iopub.status.busy": "2021-12-24T05:13:23.652559Z",
     "iopub.execute_input": "2021-12-24T05:13:23.653351Z",
     "iopub.status.idle": "2021-12-24T05:13:23.663968Z",
     "shell.execute_reply.started": "2021-12-24T05:13:23.653308Z",
     "shell.execute_reply": "2021-12-24T05:13:23.663155Z"
    },
    "trusted": true
   },
   "outputs": [
    {
     "name": "stdout",
     "output_type": "stream",
     "text": [
      "True\n"
     ]
    }
   ],
   "source": [
    "# It is used to comapre two variables. It will return only boolean value\n",
    "a=10\n",
    "b=5\n",
    "print(a>b)"
   ]
  },
  {
   "cell_type": "markdown",
   "metadata": {},
   "source": [
    "<p style = \"font-size:18px; ;color:#3B7128; text-align: center\" >03.Logical</p>"
   ]
  },
  {
   "cell_type": "code",
   "execution_count": 14,
   "metadata": {
    "execution": {
     "iopub.status.busy": "2021-12-24T05:13:23.665527Z",
     "iopub.execute_input": "2021-12-24T05:13:23.665850Z",
     "iopub.status.idle": "2021-12-24T05:13:23.682553Z",
     "shell.execute_reply.started": "2021-12-24T05:13:23.665811Z",
     "shell.execute_reply": "2021-12-24T05:13:23.681780Z"
    },
    "trusted": true
   },
   "outputs": [
    {
     "data": {
      "text/plain": [
       "True"
      ]
     },
     "execution_count": 14,
     "metadata": {},
     "output_type": "execute_result"
    }
   ],
   "source": [
    "#\n",
    "a=5\n",
    "b=10\n",
    "(a or b) >3"
   ]
  },
  {
   "cell_type": "markdown",
   "metadata": {},
   "source": [
    "<a id=\"2.5\"></a>\n<p style = \"font-size:30px; color:#331340 ; text-align: left; border-radius: 5px 5px; padding: 5px\" ><strong>Type Casting</strong></p>"
   ]
  },
  {
   "cell_type": "markdown",
   "metadata": {},
   "source": [
    "<p style = \"font-size:18px; ; text-align: center\" >If we want to change the data type of a paticular variable we can do that with the help of type casting\n</p>"
   ]
  },
  {
   "cell_type": "code",
   "execution_count": 15,
   "metadata": {
    "execution": {
     "iopub.status.busy": "2021-12-24T05:13:23.683644Z",
     "iopub.execute_input": "2021-12-24T05:13:23.683890Z",
     "iopub.status.idle": "2021-12-24T05:13:23.694127Z",
     "shell.execute_reply.started": "2021-12-24T05:13:23.683862Z",
     "shell.execute_reply": "2021-12-24T05:13:23.693321Z"
    },
    "trusted": true
   },
   "outputs": [
    {
     "name": "stdout",
     "output_type": "stream",
     "text": [
      "<class 'str'>\n"
     ]
    }
   ],
   "source": [
    "# string to integer conversion!\n",
    "a=\"506\"\n",
    "print(type(a))"
   ]
  },
  {
   "cell_type": "code",
   "execution_count": 16,
   "metadata": {
    "execution": {
     "iopub.status.busy": "2021-12-24T05:13:23.696017Z",
     "iopub.execute_input": "2021-12-24T05:13:23.696397Z",
     "iopub.status.idle": "2021-12-24T05:13:23.708056Z",
     "shell.execute_reply.started": "2021-12-24T05:13:23.696353Z",
     "shell.execute_reply": "2021-12-24T05:13:23.707078Z"
    },
    "trusted": true
   },
   "outputs": [
    {
     "name": "stdout",
     "output_type": "stream",
     "text": [
      "<class 'int'>\n"
     ]
    }
   ],
   "source": [
    "a=int(a)\n",
    "print(type(a))"
   ]
  },
  {
   "cell_type": "markdown",
   "metadata": {},
   "source": [
    "<div style=\"background: #DCDCDC\">\n<a id=\"2.6\"></a>\n<p style = \"font-size:30px; color:#331340 ; text-align: left; border-radius: 5px 5px; padding: 5px\" ><strong>Question Bank</strong></p>\n\n<ol style=\"font-family: Arials, sans-serif; font-size: 14px; line-height:1.5; color: rgba(0,0,0,.7)\">\n<li>Write a python program to subtract two numbers.</li>\n<p></p>\n<li>Use comparison operator to check a is greatet than b or not? Take a= 50 & b=88  .</li>\n<p></p> \n<p></p>\n<li>Use assignment operator to increment a value by 50. Take a =10  .</li>\n<p></p>\n    </ol>\n</div>"
   ]
  },
  {
   "cell_type": "markdown",
   "metadata": {},
   "source": [
    "<a id = '3.0'></a>\n<h2 style = \"font-family: garamond; font-size: 40px; font-style: normal; background-color: #FA4659 ; color : #F0FFF3; border-radius: 5px 5px;padding:5px;text-align:center; font-weight: bold\" >3. String</h2>\n<br>"
   ]
  },
  {
   "cell_type": "markdown",
   "metadata": {},
   "source": [
    "<p style = \"font-size:18px; ; text-align: center\" >As we Early Mention String is a data type in Python . It is a sequence of characters enclosed in single , double or triple quotes! We can write a  string in three ways.\n</p>"
   ]
  },
  {
   "cell_type": "code",
   "execution_count": 17,
   "metadata": {
    "execution": {
     "iopub.status.busy": "2021-12-24T05:13:23.710608Z",
     "iopub.execute_input": "2021-12-24T05:13:23.711187Z",
     "iopub.status.idle": "2021-12-24T05:13:23.718752Z",
     "shell.execute_reply.started": "2021-12-24T05:13:23.711155Z",
     "shell.execute_reply": "2021-12-24T05:13:23.718078Z"
    },
    "trusted": true
   },
   "outputs": [
    {
     "name": "stdout",
     "output_type": "stream",
     "text": [
      "<class 'str'>\n"
     ]
    }
   ],
   "source": [
    "a='this is a string'\n",
    "a=\" this is also a string\"\n",
    "a= '''This is also a string'''\n",
    "print(type(a))"
   ]
  },
  {
   "cell_type": "markdown",
   "metadata": {},
   "source": [
    "<a id=\"3.1\"></a>\n<p style = \"font-size:30px; color:#331340 ; text-align: left; border-radius: 5px 5px; padding: 5px\" ><strong>Slicing</strong></p>"
   ]
  },
  {
   "cell_type": "markdown",
   "metadata": {},
   "source": [
    "<p style = \"font-size:18px; ; text-align: center\" >If we want to get a part of the string . we can get it with the help of slicing! </p>"
   ]
  },
  {
   "cell_type": "code",
   "execution_count": 18,
   "metadata": {
    "execution": {
     "iopub.status.busy": "2021-12-24T05:13:23.719846Z",
     "iopub.execute_input": "2021-12-24T05:13:23.720049Z",
     "iopub.status.idle": "2021-12-24T05:13:23.731838Z",
     "shell.execute_reply.started": "2021-12-24T05:13:23.720024Z",
     "shell.execute_reply": "2021-12-24T05:13:23.730995Z"
    },
    "trusted": true
   },
   "outputs": [
    {
     "name": "stdout",
     "output_type": "stream",
     "text": [
      "zero\n"
     ]
    }
   ],
   "source": [
    "a=\"python from zero to hero\"\n",
    "# if we want to print only zero in that string:\n",
    "print(a[12:16])"
   ]
  },
  {
   "cell_type": "code",
   "execution_count": 19,
   "metadata": {
    "execution": {
     "iopub.status.busy": "2021-12-24T05:13:23.733405Z",
     "iopub.execute_input": "2021-12-24T05:13:23.734197Z",
     "iopub.status.idle": "2021-12-24T05:13:23.744617Z",
     "shell.execute_reply.started": "2021-12-24T05:13:23.734148Z",
     "shell.execute_reply": "2021-12-24T05:13:23.744000Z"
    },
    "trusted": true
   },
   "outputs": [
    {
     "name": "stdout",
     "output_type": "stream",
     "text": [
      "hero\n"
     ]
    }
   ],
   "source": [
    "# if we want to get the last part of the string \n",
    "print(a[-4:])"
   ]
  },
  {
   "cell_type": "code",
   "execution_count": 20,
   "metadata": {
    "execution": {
     "iopub.status.busy": "2021-12-24T05:13:23.745984Z",
     "iopub.execute_input": "2021-12-24T05:13:23.746590Z",
     "iopub.status.idle": "2021-12-24T05:13:23.756049Z",
     "shell.execute_reply.started": "2021-12-24T05:13:23.746547Z",
     "shell.execute_reply": "2021-12-24T05:13:23.755173Z"
    },
    "trusted": true
   },
   "outputs": [
    {
     "name": "stdout",
     "output_type": "stream",
     "text": [
      "pto\n"
     ]
    }
   ],
   "source": [
    "# if we want to skip a part\n",
    "print(a[0:5:2])"
   ]
  },
  {
   "cell_type": "markdown",
   "metadata": {},
   "source": [
    "<a id=\"3.2\"></a>\n<p style = \"font-size:30px; color:#331340 ; text-align: left; border-radius: 5px 5px; padding: 5px\" ><strong>String Functions or Methods</strong></p>"
   ]
  },
  {
   "cell_type": "markdown",
   "metadata": {},
   "source": [
    "<p style = \"font-size:18px; ; text-align: center\" >Some of the popular and most used string functions are: </p>"
   ]
  },
  {
   "cell_type": "code",
   "execution_count": 21,
   "metadata": {
    "execution": {
     "iopub.status.busy": "2021-12-24T05:13:23.757243Z",
     "iopub.execute_input": "2021-12-24T05:13:23.757989Z",
     "iopub.status.idle": "2021-12-24T05:13:23.766534Z",
     "shell.execute_reply.started": "2021-12-24T05:13:23.757955Z",
     "shell.execute_reply": "2021-12-24T05:13:23.765761Z"
    },
    "trusted": true
   },
   "outputs": [
    {
     "name": "stdout",
     "output_type": "stream",
     "text": [
      "11\n"
     ]
    }
   ],
   "source": [
    "# 01. length of string\n",
    "a=\"hello world\"\n",
    "print(len(a))"
   ]
  },
  {
   "cell_type": "code",
   "execution_count": 22,
   "metadata": {
    "execution": {
     "iopub.status.busy": "2021-12-24T05:13:23.767734Z",
     "iopub.execute_input": "2021-12-24T05:13:23.768114Z",
     "iopub.status.idle": "2021-12-24T05:13:23.780574Z",
     "shell.execute_reply.started": "2021-12-24T05:13:23.768080Z",
     "shell.execute_reply": "2021-12-24T05:13:23.779718Z"
    },
    "trusted": true
   },
   "outputs": [
    {
     "name": "stdout",
     "output_type": "stream",
     "text": [
      "Hello world\n"
     ]
    }
   ],
   "source": [
    "# 02. captalize the 1st word of the string\n",
    "a=a.capitalize()\n",
    "print(a)"
   ]
  },
  {
   "cell_type": "code",
   "execution_count": 23,
   "metadata": {
    "execution": {
     "iopub.status.busy": "2021-12-24T05:13:23.783331Z",
     "iopub.execute_input": "2021-12-24T05:13:23.784127Z",
     "iopub.status.idle": "2021-12-24T05:13:23.791249Z",
     "shell.execute_reply.started": "2021-12-24T05:13:23.784080Z",
     "shell.execute_reply": "2021-12-24T05:13:23.790670Z"
    },
    "trusted": true
   },
   "outputs": [
    {
     "name": "stdout",
     "output_type": "stream",
     "text": [
      "My world\n"
     ]
    }
   ],
   "source": [
    "# 03. If we want to replace a part in the string\n",
    "a=a.replace(\"Hello\",\"My\")\n",
    "print(a)"
   ]
  },
  {
   "cell_type": "code",
   "execution_count": 24,
   "metadata": {
    "execution": {
     "iopub.status.busy": "2021-12-24T05:13:23.792234Z",
     "iopub.execute_input": "2021-12-24T05:13:23.792835Z",
     "iopub.status.idle": "2021-12-24T05:13:23.803271Z",
     "shell.execute_reply.started": "2021-12-24T05:13:23.792795Z",
     "shell.execute_reply": "2021-12-24T05:13:23.802266Z"
    },
    "trusted": true
   },
   "outputs": [
    {
     "data": {
      "text/plain": [
       "'My world'"
      ]
     },
     "execution_count": 24,
     "metadata": {},
     "output_type": "execute_result"
    }
   ],
   "source": [
    "a"
   ]
  },
  {
   "cell_type": "markdown",
   "metadata": {},
   "source": [
    "<a id = '4.0'></a>\n<h2 style = \"font-family: garamond; font-size: 40px; font-style: normal; background-color: #FA4659 ; color : #F0FFF3; border-radius: 5px 5px;padding:5px;text-align:center; font-weight: bold\" >4. List</h2>\n<br>"
   ]
  },
  {
   "cell_type": "markdown",
   "metadata": {},
   "source": [
    "<p style = \"font-size:18px; ; text-align: center\" >List is container to used to store different data types. List are Mutable that means we can chnage the value in the list </p>"
   ]
  },
  {
   "cell_type": "code",
   "execution_count": 25,
   "metadata": {
    "execution": {
     "iopub.status.busy": "2021-12-24T05:13:23.804464Z",
     "iopub.execute_input": "2021-12-24T05:13:23.804773Z",
     "iopub.status.idle": "2021-12-24T05:13:23.815103Z",
     "shell.execute_reply.started": "2021-12-24T05:13:23.804726Z",
     "shell.execute_reply": "2021-12-24T05:13:23.814512Z"
    },
    "trusted": true
   },
   "outputs": [
    {
     "name": "stdout",
     "output_type": "stream",
     "text": [
      "<class 'list'>\n"
     ]
    }
   ],
   "source": [
    "l1=[\"my\",\"name\",\"is\",123]\n",
    "print(type(l1))"
   ]
  },
  {
   "cell_type": "code",
   "execution_count": 26,
   "metadata": {
    "execution": {
     "iopub.status.busy": "2021-12-24T05:13:23.816050Z",
     "iopub.execute_input": "2021-12-24T05:13:23.816754Z",
     "iopub.status.idle": "2021-12-24T05:13:23.832572Z",
     "shell.execute_reply.started": "2021-12-24T05:13:23.816717Z",
     "shell.execute_reply": "2021-12-24T05:13:23.831662Z"
    },
    "trusted": true
   },
   "outputs": [
    {
     "name": "stdout",
     "output_type": "stream",
     "text": [
      "my\n"
     ]
    }
   ],
   "source": [
    "# we can also do indexing in the list\n",
    "print(l1[0])"
   ]
  },
  {
   "cell_type": "markdown",
   "metadata": {},
   "source": [
    "<a id=\"4.1\"></a>\n<p style = \"font-size:30px; color:#331340 ; text-align: left; border-radius: 5px 5px; padding: 5px\" ><strong>Methods in list</strong></p>"
   ]
  },
  {
   "cell_type": "markdown",
   "metadata": {},
   "source": [
    "<p style = \"font-size:18px; ; text-align: center\" >Methods are the functions associated with the data types. It can be acessed with the . notation . List can be denoted by [ ] </p>"
   ]
  },
  {
   "cell_type": "markdown",
   "metadata": {},
   "source": [
    "<p style = \"font-size:18px; ;color:#3B7128; text-align: center\" >01. Append</p>"
   ]
  },
  {
   "cell_type": "code",
   "execution_count": 27,
   "metadata": {
    "execution": {
     "iopub.status.busy": "2021-12-24T05:13:23.833887Z",
     "iopub.execute_input": "2021-12-24T05:13:23.834116Z",
     "iopub.status.idle": "2021-12-24T05:13:23.843572Z",
     "shell.execute_reply.started": "2021-12-24T05:13:23.834088Z",
     "shell.execute_reply": "2021-12-24T05:13:23.842928Z"
    },
    "trusted": true
   },
   "outputs": [
    {
     "name": "stdout",
     "output_type": "stream",
     "text": [
      "['kaggle', 'colab', 20, 30, 40, 50]\n"
     ]
    }
   ],
   "source": [
    "# A new value can be inserted at the last of the string\n",
    "l1=[\"kaggle\",\"colab\",20,30,40]\n",
    "l1.append(50)\n",
    "print(l1)"
   ]
  },
  {
   "cell_type": "markdown",
   "metadata": {},
   "source": [
    "<p style = \"font-size:18px; ;color:#3B7128; text-align: center\" >02. Extend</p>"
   ]
  },
  {
   "cell_type": "code",
   "execution_count": 28,
   "metadata": {
    "execution": {
     "iopub.status.busy": "2021-12-24T05:13:23.847978Z",
     "iopub.execute_input": "2021-12-24T05:13:23.848472Z",
     "iopub.status.idle": "2021-12-24T05:13:23.855644Z",
     "shell.execute_reply.started": "2021-12-24T05:13:23.848440Z",
     "shell.execute_reply": "2021-12-24T05:13:23.854944Z"
    },
    "trusted": true
   },
   "outputs": [
    {
     "name": "stdout",
     "output_type": "stream",
     "text": [
      "['kaggle', 'colab', 20, 30, 40, 50, 50, 60, 70]\n"
     ]
    }
   ],
   "source": [
    "# if we want multiple elements to add\n",
    "l1.extend([50,60,70])\n",
    "print(l1)"
   ]
  },
  {
   "cell_type": "markdown",
   "metadata": {},
   "source": [
    "<p style = \"font-size:18px; ;color:#3B7128; text-align: center\" >03. Insert</p>"
   ]
  },
  {
   "cell_type": "code",
   "execution_count": 29,
   "metadata": {
    "execution": {
     "iopub.status.busy": "2021-12-24T05:13:23.856870Z",
     "iopub.execute_input": "2021-12-24T05:13:23.857084Z",
     "iopub.status.idle": "2021-12-24T05:13:23.867366Z",
     "shell.execute_reply.started": "2021-12-24T05:13:23.857057Z",
     "shell.execute_reply": "2021-12-24T05:13:23.866439Z"
    },
    "trusted": true
   },
   "outputs": [
    {
     "name": "stdout",
     "output_type": "stream",
     "text": [
      "['new_value', 'kaggle', 'colab', 20, 30, 40, 50, 50, 60, 70]\n"
     ]
    }
   ],
   "source": [
    "# if we want to add at paticular index\n",
    "l1.insert(0,\"new_value\")\n",
    "print(l1)"
   ]
  },
  {
   "cell_type": "markdown",
   "metadata": {},
   "source": [
    "<p style = \"font-size:18px; ;color:#3B7128; text-align: center\" >04. Remove/pop</p>"
   ]
  },
  {
   "cell_type": "code",
   "execution_count": 30,
   "metadata": {
    "execution": {
     "iopub.status.busy": "2021-12-24T05:13:23.869398Z",
     "iopub.execute_input": "2021-12-24T05:13:23.870196Z",
     "iopub.status.idle": "2021-12-24T05:13:23.880463Z",
     "shell.execute_reply.started": "2021-12-24T05:13:23.870162Z",
     "shell.execute_reply": "2021-12-24T05:13:23.879615Z"
    },
    "trusted": true
   },
   "outputs": [
    {
     "name": "stdout",
     "output_type": "stream",
     "text": [
      "['new_value', 'kaggle', 20, 30, 40, 50, 50, 60, 70]\n"
     ]
    }
   ],
   "source": [
    "# if we want to remove a value we directly use remove method nd if we want to remove from a paticular index use pop.\n",
    "l1.remove(\"colab\")\n",
    "print(l1)"
   ]
  },
  {
   "cell_type": "markdown",
   "metadata": {},
   "source": [
    "<p style = \"font-size:18px; ;color:#3B7128; text-align: center\" >05. Sort</p>"
   ]
  },
  {
   "cell_type": "code",
   "execution_count": 31,
   "metadata": {
    "execution": {
     "iopub.status.busy": "2021-12-24T05:13:23.881660Z",
     "iopub.execute_input": "2021-12-24T05:13:23.881888Z",
     "iopub.status.idle": "2021-12-24T05:13:23.893026Z",
     "shell.execute_reply.started": "2021-12-24T05:13:23.881861Z",
     "shell.execute_reply": "2021-12-24T05:13:23.892092Z"
    },
    "trusted": true
   },
   "outputs": [
    {
     "name": "stdout",
     "output_type": "stream",
     "text": [
      "[5, 10, 20, 25, 30, 90]\n"
     ]
    }
   ],
   "source": [
    "# if we want to sort a list\n",
    "l1=[20,30,90,10,5,25]\n",
    "l1.sort()\n",
    "print(l1)"
   ]
  },
  {
   "cell_type": "markdown",
   "metadata": {},
   "source": [
    "<a id = '5.0'></a>\n<h2 style = \"font-family: garamond; font-size: 40px; font-style: normal; background-color: #FA4659 ; color : #F0FFF3; border-radius: 5px 5px;padding:5px;text-align:center; font-weight: bold\" >5. Tuple</h2>\n<br>"
   ]
  },
  {
   "cell_type": "markdown",
   "metadata": {},
   "source": [
    "<p style = \"font-size:18px; ; text-align: center\" >Tuples are the ordered collection of the values like in the list But it is not possible to add, remove or modify values in the list. Tuples are Immutable. It can be denoted by () </p>"
   ]
  },
  {
   "cell_type": "code",
   "execution_count": 32,
   "metadata": {
    "execution": {
     "iopub.status.busy": "2021-12-24T05:13:23.894277Z",
     "iopub.execute_input": "2021-12-24T05:13:23.894512Z",
     "iopub.status.idle": "2021-12-24T05:13:23.905477Z",
     "shell.execute_reply.started": "2021-12-24T05:13:23.894483Z",
     "shell.execute_reply": "2021-12-24T05:13:23.904659Z"
    },
    "trusted": true
   },
   "outputs": [
    {
     "name": "stdout",
     "output_type": "stream",
     "text": [
      "<class 'tuple'>\n"
     ]
    }
   ],
   "source": [
    "t1=(\"my\",\"name\",\"is\",22)\n",
    "print(type(t1))"
   ]
  },
  {
   "cell_type": "markdown",
   "metadata": {},
   "source": [
    "<p style = \"font-size:18px; ; text-align: center\" >Tuples have just two built in methods count and index </p>"
   ]
  },
  {
   "cell_type": "markdown",
   "metadata": {},
   "source": [
    "<p style = \"font-size:18px; ;color:#3B7128; text-align: center\" >01. Count</p>"
   ]
  },
  {
   "cell_type": "code",
   "execution_count": 33,
   "metadata": {
    "execution": {
     "iopub.status.busy": "2021-12-24T05:13:23.906589Z",
     "iopub.execute_input": "2021-12-24T05:13:23.906830Z",
     "iopub.status.idle": "2021-12-24T05:13:23.915997Z",
     "shell.execute_reply.started": "2021-12-24T05:13:23.906801Z",
     "shell.execute_reply": "2021-12-24T05:13:23.915452Z"
    },
    "trusted": true
   },
   "outputs": [
    {
     "name": "stdout",
     "output_type": "stream",
     "text": [
      "3\n"
     ]
    }
   ],
   "source": [
    "# if we want to count a paticular element in the list\n",
    "t1=(2,3,5,6,9,6,4,2,0,2)\n",
    "print(t1.count(2))"
   ]
  },
  {
   "cell_type": "markdown",
   "metadata": {},
   "source": [
    "<p style = \"font-size:18px; ;color:#3B7128; text-align: center\" >02. Index</p>"
   ]
  },
  {
   "cell_type": "code",
   "execution_count": 34,
   "metadata": {
    "execution": {
     "iopub.status.busy": "2021-12-24T05:13:23.917114Z",
     "iopub.execute_input": "2021-12-24T05:13:23.917305Z",
     "iopub.status.idle": "2021-12-24T05:13:23.928601Z",
     "shell.execute_reply.started": "2021-12-24T05:13:23.917281Z",
     "shell.execute_reply": "2021-12-24T05:13:23.927830Z"
    },
    "trusted": true
   },
   "outputs": [
    {
     "name": "stdout",
     "output_type": "stream",
     "text": [
      "2\n"
     ]
    }
   ],
   "source": [
    "# It will help us to find the index of the elemnt\n",
    "print(t1.index(5))"
   ]
  },
  {
   "cell_type": "markdown",
   "metadata": {},
   "source": [
    "<a id = '6.0'></a>\n<h2 style = \"font-family: garamond; font-size: 40px; font-style: normal; background-color: #FA4659 ; color : #F0FFF3; border-radius: 5px 5px;padding:5px;text-align:center; font-weight: bold\" >6. Dictionary</h2>\n<br>"
   ]
  },
  {
   "cell_type": "markdown",
   "metadata": {},
   "source": [
    "<p style = \"font-size:18px; ; text-align: center\" >Dictionary is collection of  key value pairs . Dictionaries are  Mutable . It is an Unordered arrangement of key value pair</p>"
   ]
  },
  {
   "cell_type": "code",
   "execution_count": 35,
   "metadata": {
    "execution": {
     "iopub.status.busy": "2021-12-24T05:13:23.930559Z",
     "iopub.execute_input": "2021-12-24T05:13:23.930830Z",
     "iopub.status.idle": "2021-12-24T05:13:23.938469Z",
     "shell.execute_reply.started": "2021-12-24T05:13:23.930801Z",
     "shell.execute_reply": "2021-12-24T05:13:23.937720Z"
    },
    "trusted": true
   },
   "outputs": [],
   "source": [
    "dic={\"name\":\"jhon\",\n",
    "    \"class\":12,\n",
    "    \"roll_no\":2}"
   ]
  },
  {
   "cell_type": "code",
   "execution_count": 36,
   "metadata": {
    "execution": {
     "iopub.status.busy": "2021-12-24T05:13:23.939525Z",
     "iopub.execute_input": "2021-12-24T05:13:23.939829Z",
     "iopub.status.idle": "2021-12-24T05:13:23.950167Z",
     "shell.execute_reply.started": "2021-12-24T05:13:23.939789Z",
     "shell.execute_reply": "2021-12-24T05:13:23.949314Z"
    },
    "trusted": true
   },
   "outputs": [
    {
     "name": "stdout",
     "output_type": "stream",
     "text": [
      "dict_keys(['name', 'class', 'roll_no'])\n"
     ]
    }
   ],
   "source": [
    "print(dic.keys())"
   ]
  },
  {
   "cell_type": "code",
   "execution_count": 37,
   "metadata": {
    "execution": {
     "iopub.status.busy": "2021-12-24T05:13:23.951293Z",
     "iopub.execute_input": "2021-12-24T05:13:23.951571Z",
     "iopub.status.idle": "2021-12-24T05:13:23.962522Z",
     "shell.execute_reply.started": "2021-12-24T05:13:23.951539Z",
     "shell.execute_reply": "2021-12-24T05:13:23.961644Z"
    },
    "trusted": true
   },
   "outputs": [
    {
     "name": "stdout",
     "output_type": "stream",
     "text": [
      "dict_values(['jhon', 12, 2])\n"
     ]
    }
   ],
   "source": [
    "print(dic.values())"
   ]
  },
  {
   "cell_type": "code",
   "execution_count": 38,
   "metadata": {
    "execution": {
     "iopub.status.busy": "2021-12-24T05:13:23.963542Z",
     "iopub.execute_input": "2021-12-24T05:13:23.963969Z",
     "iopub.status.idle": "2021-12-24T05:13:23.975115Z",
     "shell.execute_reply.started": "2021-12-24T05:13:23.963938Z",
     "shell.execute_reply": "2021-12-24T05:13:23.974478Z"
    },
    "trusted": true
   },
   "outputs": [],
   "source": [
    "\n",
    "\n",
    "dic[\"name\"]=\"sam\""
   ]
  },
  {
   "cell_type": "code",
   "execution_count": 39,
   "metadata": {
    "execution": {
     "iopub.status.busy": "2021-12-24T05:13:23.976335Z",
     "iopub.execute_input": "2021-12-24T05:13:23.976620Z",
     "iopub.status.idle": "2021-12-24T05:13:23.987354Z",
     "shell.execute_reply.started": "2021-12-24T05:13:23.976581Z",
     "shell.execute_reply": "2021-12-24T05:13:23.986824Z"
    },
    "trusted": true
   },
   "outputs": [
    {
     "data": {
      "text/plain": [
       "'sam'"
      ]
     },
     "execution_count": 39,
     "metadata": {},
     "output_type": "execute_result"
    }
   ],
   "source": [
    "dic[\"name\"]"
   ]
  },
  {
   "cell_type": "markdown",
   "metadata": {},
   "source": [
    "<a id=\"6.1\"></a>\n<p style = \"font-size:30px; color:#331340 ; text-align: left; border-radius: 5px 5px; padding: 5px\" ><strong>Methods in Dictionary</strong></p>"
   ]
  },
  {
   "cell_type": "markdown",
   "metadata": {},
   "source": [
    "<p style = \"font-size:18px; ;color:#3B7128; text-align: center\" >01.Items </p>"
   ]
  },
  {
   "cell_type": "code",
   "execution_count": 40,
   "metadata": {
    "execution": {
     "iopub.status.busy": "2021-12-24T05:13:23.988328Z",
     "iopub.execute_input": "2021-12-24T05:13:23.988819Z",
     "iopub.status.idle": "2021-12-24T05:13:24.005030Z",
     "shell.execute_reply.started": "2021-12-24T05:13:23.988786Z",
     "shell.execute_reply": "2021-12-24T05:13:24.000869Z"
    },
    "trusted": true
   },
   "outputs": [
    {
     "name": "stdout",
     "output_type": "stream",
     "text": [
      "dict_items([('name', 'sam'), ('class', 12), ('roll_no', 2)])\n"
     ]
    }
   ],
   "source": [
    "# It will return the key value pairs in a tuple\n",
    "print(dic.items())"
   ]
  },
  {
   "cell_type": "markdown",
   "metadata": {},
   "source": [
    "<p style = \"font-size:18px; ;color:#3B7128; text-align: center\" >02.Keys </p>"
   ]
  },
  {
   "cell_type": "code",
   "execution_count": 41,
   "metadata": {
    "execution": {
     "iopub.status.busy": "2021-12-24T05:13:24.006352Z",
     "iopub.execute_input": "2021-12-24T05:13:24.006871Z",
     "iopub.status.idle": "2021-12-24T05:13:24.019830Z",
     "shell.execute_reply.started": "2021-12-24T05:13:24.006828Z",
     "shell.execute_reply": "2021-12-24T05:13:24.018527Z"
    },
    "trusted": true
   },
   "outputs": [
    {
     "name": "stdout",
     "output_type": "stream",
     "text": [
      "dict_keys(['name', 'class', 'roll_no'])\n"
     ]
    }
   ],
   "source": [
    "# It will return the  keys  in a list\n",
    "print(dic.keys())"
   ]
  },
  {
   "cell_type": "markdown",
   "metadata": {},
   "source": [
    "<p style = \"font-size:18px; ;color:#3B7128; text-align: center\" >03.Values </p>"
   ]
  },
  {
   "cell_type": "code",
   "execution_count": 42,
   "metadata": {
    "execution": {
     "iopub.status.busy": "2021-12-24T05:13:24.021321Z",
     "iopub.execute_input": "2021-12-24T05:13:24.022026Z",
     "iopub.status.idle": "2021-12-24T05:13:24.030594Z",
     "shell.execute_reply.started": "2021-12-24T05:13:24.021765Z",
     "shell.execute_reply": "2021-12-24T05:13:24.029743Z"
    },
    "trusted": true
   },
   "outputs": [
    {
     "name": "stdout",
     "output_type": "stream",
     "text": [
      "dict_values(['sam', 12, 2])\n"
     ]
    }
   ],
   "source": [
    "# It will return the  values in a list\n",
    "print(dic.values())"
   ]
  },
  {
   "cell_type": "markdown",
   "metadata": {},
   "source": [
    "<p style = \"font-size:18px; ;color:#3B7128; text-align: center\" >04.Update </p>"
   ]
  },
  {
   "cell_type": "code",
   "execution_count": 43,
   "metadata": {
    "execution": {
     "iopub.status.busy": "2021-12-24T05:13:24.031890Z",
     "iopub.execute_input": "2021-12-24T05:13:24.032649Z",
     "iopub.status.idle": "2021-12-24T05:13:24.042467Z",
     "shell.execute_reply.started": "2021-12-24T05:13:24.032601Z",
     "shell.execute_reply": "2021-12-24T05:13:24.041889Z"
    },
    "trusted": true
   },
   "outputs": [
    {
     "name": "stdout",
     "output_type": "stream",
     "text": [
      "{'name': 'sam', 'class': 12, 'roll_no': 2, 'school': 'abc'}\n"
     ]
    }
   ],
   "source": [
    "update_dict={\"school\":\"abc\"}\n",
    "dic.update(update_dict)\n",
    "print(dic)"
   ]
  },
  {
   "cell_type": "markdown",
   "metadata": {},
   "source": [
    "<a id = '7.0'></a>\n<h2 style = \"font-family: garamond; font-size: 40px; font-style: normal; background-color: #FA4659 ; color : #F0FFF3; border-radius: 5px 5px;padding:5px;text-align:center; font-weight: bold\" >7. Sets</h2>\n<br>"
   ]
  },
  {
   "cell_type": "markdown",
   "metadata": {},
   "source": [
    "<p style = \"font-size:18px; ; text-align: center\" >Sets are the collection of non- repeative elements. That means there are unique elements present in the list. Sets are un-ordered. Also sets are immutable that means the values cannot be changed in set</p>"
   ]
  },
  {
   "cell_type": "code",
   "execution_count": 44,
   "metadata": {
    "execution": {
     "iopub.status.busy": "2021-12-24T05:13:24.043653Z",
     "iopub.execute_input": "2021-12-24T05:13:24.044101Z",
     "iopub.status.idle": "2021-12-24T05:13:24.061540Z",
     "shell.execute_reply.started": "2021-12-24T05:13:24.044070Z",
     "shell.execute_reply": "2021-12-24T05:13:24.060264Z"
    },
    "trusted": true
   },
   "outputs": [
    {
     "name": "stdout",
     "output_type": "stream",
     "text": [
      "<class 'set'>\n"
     ]
    }
   ],
   "source": [
    "s=({1,2,3,3,3,3,3})\n",
    "print(type(s))"
   ]
  },
  {
   "cell_type": "markdown",
   "metadata": {},
   "source": [
    "<a id=\"7.1\"></a>\n<p style = \"font-size:30px; color:#331340 ; text-align: left; border-radius: 5px 5px; padding: 5px\" ><strong>Methods in Sets</strong></p>"
   ]
  },
  {
   "cell_type": "markdown",
   "metadata": {},
   "source": [
    "<p style = \"font-size:18px; ;color:#3B7128; text-align: center\" >01.Union </p>"
   ]
  },
  {
   "cell_type": "code",
   "execution_count": 45,
   "metadata": {
    "execution": {
     "iopub.status.busy": "2021-12-24T05:13:24.063333Z",
     "iopub.execute_input": "2021-12-24T05:13:24.063930Z",
     "iopub.status.idle": "2021-12-24T05:13:24.076088Z",
     "shell.execute_reply.started": "2021-12-24T05:13:24.063880Z",
     "shell.execute_reply": "2021-12-24T05:13:24.075449Z"
    },
    "trusted": true
   },
   "outputs": [
    {
     "name": "stdout",
     "output_type": "stream",
     "text": [
      "{1, 2, 3, 4, 5, 6, 7}\n"
     ]
    }
   ],
   "source": [
    "# returns all the values \n",
    "s1=({1,2,3,4,5})\n",
    "s2=({2,5,6,7})\n",
    "print(s1.union(s2))"
   ]
  },
  {
   "cell_type": "markdown",
   "metadata": {},
   "source": [
    "<p style = \"font-size:18px; ;color:#3B7128; text-align: center\" >02.Intersection </p>"
   ]
  },
  {
   "cell_type": "code",
   "execution_count": 46,
   "metadata": {
    "execution": {
     "iopub.status.busy": "2021-12-24T05:13:24.077094Z",
     "iopub.execute_input": "2021-12-24T05:13:24.077938Z",
     "iopub.status.idle": "2021-12-24T05:13:24.087837Z",
     "shell.execute_reply.started": "2021-12-24T05:13:24.077888Z",
     "shell.execute_reply": "2021-12-24T05:13:24.086959Z"
    },
    "trusted": true
   },
   "outputs": [
    {
     "name": "stdout",
     "output_type": "stream",
     "text": [
      "{2, 5}\n"
     ]
    }
   ],
   "source": [
    "# returns only matching values\n",
    "s1=({1,2,3,4,5})\n",
    "s2=({2,5,6,7})\n",
    "print(s1.intersection(s2))"
   ]
  },
  {
   "cell_type": "markdown",
   "metadata": {},
   "source": [
    "<div style=\"background: #DCDCDC\">\n<a id=\"7.2\"></a>\n<p style = \"font-size:30px; color:#331340 ; text-align: left; border-radius: 5px 5px; padding: 5px\" ><strong>Question Bank from Data-Types</strong></p>\n\n<ol style=\"font-family: Arials, sans-serif; font-size: 14px; line-height:1.5; color: rgba(0,0,0,.7)\">\n<li>Write a Python program to sum all the items in a list.</li>\n<p></p>\n<li>Write a Python program to add key to a dictionary. \n\nSample Dictionary : {0: 10, 1: 20}\nExpected Result : {0: 10, 1: 20, 2: 30}  .</li>\n<p></p> \n<p></p>\n<li> Write a Python program to count the occurrences of each word in a given sentence .</li>\n<p></p>\n\n<li>\n    Write a Python program to count the number of characters in a string.\nSample String : 'google.com'\nExpected Result : {'o': 3, 'g': 2, '.': 1, 'e': 1, 'l': 1, 'm': 1, 'c': 1}\n    </li>\n<p></p>\n    <li>Write a Python program to calculate the length of a string</li>\n</ol>\n</div>"
   ]
  },
  {
   "cell_type": "markdown",
   "metadata": {},
   "source": [
    "<a id = '8.0'></a>\n<h2 style = \"font-family: garamond; font-size: 40px; font-style: normal; background-color: #FA4659 ; color : #F0FFF3; border-radius: 5px 5px;padding:5px;text-align:center; font-weight: bold\" >8. Conditional Statements</h2>\n<br>"
   ]
  },
  {
   "cell_type": "markdown",
   "metadata": {},
   "source": [
    "<p style = \"font-size:18px; ; text-align: center\" >There comes situations in real life when we need to make some decisions and based on these decisions, we decide what should we do next. Similar situations arise in programming also where we need to make some decisions and based on these decisions we will execute the next block of code. Decision-making statements in programming languages decide the direction of the flow of program execution. <br>\nIn Python, if else elif statement is used for decision making. </p>"
   ]
  },
  {
   "cell_type": "markdown",
   "metadata": {},
   "source": [
    "<a id=\"8.1\"></a>\n<p style = \"font-size:30px; color:#331340 ; text-align: left; border-radius: 5px 5px; padding: 5px\" ><strong>IF Statement</strong></p>"
   ]
  },
  {
   "cell_type": "markdown",
   "metadata": {},
   "source": [
    "<p style = \"font-size:18px; ; text-align: center\" >If statement is the most simple decision-making statement. It is used to decide whether a certain statement or block of statements will be executed or not i.e if a certain condition is true then a block of statement is executed otherwise not. </p>"
   ]
  },
  {
   "cell_type": "code",
   "execution_count": 47,
   "metadata": {
    "execution": {
     "iopub.status.busy": "2021-12-24T05:13:24.089314Z",
     "iopub.execute_input": "2021-12-24T05:13:24.090207Z",
     "iopub.status.idle": "2021-12-24T05:13:24.099396Z",
     "shell.execute_reply.started": "2021-12-24T05:13:24.090162Z",
     "shell.execute_reply": "2021-12-24T05:13:24.098350Z"
    },
    "trusted": true
   },
   "outputs": [
    {
     "name": "stdout",
     "output_type": "stream",
     "text": [
      " it didin't executed because the condituon was not true\n"
     ]
    }
   ],
   "source": [
    "# example:\n",
    "num=50\n",
    "if num > 200:\n",
    "    print(\"Num is greater than 20\")\n",
    "print(\" it didin't executed because the condituon was not true\")"
   ]
  },
  {
   "cell_type": "markdown",
   "metadata": {},
   "source": [
    "<a id=\"8.2\"></a>\n<p style = \"font-size:30px; color:#331340 ; text-align: left; border-radius: 5px 5px; padding: 5px\" ><strong>Else statement</strong></p>"
   ]
  },
  {
   "cell_type": "markdown",
   "metadata": {},
   "source": [
    "<p style = \"font-size:18px; ; text-align: center\" >The if statement alone tells us that if a condition is true it will execute a block of statements and if the condition is false it won’t. But what if we want to do something else if the condition is false. Here comes the else statement. We can use the else statement with if statement to execute a block of code when the condition is false. </p>"
   ]
  },
  {
   "cell_type": "code",
   "execution_count": 48,
   "metadata": {
    "execution": {
     "iopub.status.busy": "2021-12-24T05:13:24.100553Z",
     "iopub.execute_input": "2021-12-24T05:13:24.101023Z",
     "iopub.status.idle": "2021-12-24T05:13:24.114117Z",
     "shell.execute_reply.started": "2021-12-24T05:13:24.100979Z",
     "shell.execute_reply": "2021-12-24T05:13:24.113314Z"
    },
    "trusted": true
   },
   "outputs": [
    {
     "name": "stdout",
     "output_type": "stream",
     "text": [
      "Num is less than 200\n"
     ]
    }
   ],
   "source": [
    "num=50\n",
    "if num > 200:\n",
    "    print(\"Num is greater than 200\")\n",
    "else:\n",
    "    print(\"Num is less than 200\")"
   ]
  },
  {
   "cell_type": "markdown",
   "metadata": {},
   "source": [
    "<a id=\"8.3\"></a>\n<p style = \"font-size:30px; color:#331340 ; text-align: left; border-radius: 5px 5px; padding: 5px\" ><strong>IF-ELIF-ELSE</strong></p>"
   ]
  },
  {
   "cell_type": "markdown",
   "metadata": {},
   "source": [
    "<p style = \"font-size:18px; ; text-align: center\" >Here, a user can decide among multiple options. The if statements are executed from the top down. As soon as one of the conditions controlling the if is true, the statement associated with that if is executed, and the rest of the ladder is bypassed. If none of the conditions is true, then the final else statement will be executed. </p>"
   ]
  },
  {
   "cell_type": "code",
   "execution_count": 49,
   "metadata": {
    "execution": {
     "iopub.status.busy": "2021-12-24T05:13:24.115147Z",
     "iopub.execute_input": "2021-12-24T05:13:24.115889Z",
     "iopub.status.idle": "2021-12-24T05:13:24.124889Z",
     "shell.execute_reply.started": "2021-12-24T05:13:24.115845Z",
     "shell.execute_reply": "2021-12-24T05:13:24.124078Z"
    },
    "trusted": true
   },
   "outputs": [
    {
     "name": "stdout",
     "output_type": "stream",
     "text": [
      " Num is 20\n"
     ]
    }
   ],
   "source": [
    "num=20\n",
    "if num == 10:\n",
    "    print(\" Num is 10\")\n",
    "elif num ==15:\n",
    "    print(\" Num is 15\")\n",
    "elif num == 20:\n",
    "    print(\" Num is 20\")\n",
    "else:\n",
    "    print(\" Num is Greater than 20\")"
   ]
  },
  {
   "cell_type": "markdown",
   "metadata": {},
   "source": [
    "<a id = '9.0'></a>\n<h2 style = \"font-family: garamond; font-size: 40px; font-style: normal; background-color: #FA4659 ; color : #F0FFF3; border-radius: 5px 5px;padding:5px;text-align:center; font-weight: bold\" >9. Loops</h2>\n<br>"
   ]
  },
  {
   "cell_type": "markdown",
   "metadata": {},
   "source": [
    "<p style = \"font-size:18px; ; text-align: center\" >Sometimes we want to repeat a set of Statements in our program . for ex we want to print number from 1 to 100 . Loops make it easy for a programmer to tell the computer which set of instructions to repeat and how . There are mainly two types of loops in the python</p>"
   ]
  },
  {
   "cell_type": "markdown",
   "metadata": {},
   "source": [
    "<a id=\"9.1\"></a>\n<p style = \"font-size:30px; color:#331340 ; text-align: left; border-radius: 5px 5px; padding: 5px\" ><strong>While Loop</strong></p>"
   ]
  },
  {
   "cell_type": "markdown",
   "metadata": {},
   "source": [
    "<p style = \"font-size:18px; ; text-align: center\" >Python While Loop is used to execute a block of statements repeatedly until a given condition is satisfied. And when the condition becomes false, the line immediately after the loop in the program is executed.<br>\n\n</p>"
   ]
  },
  {
   "cell_type": "code",
   "execution_count": 50,
   "metadata": {
    "execution": {
     "iopub.status.busy": "2021-12-24T05:13:24.125966Z",
     "iopub.execute_input": "2021-12-24T05:13:24.126318Z",
     "iopub.status.idle": "2021-12-24T05:13:24.136838Z",
     "shell.execute_reply.started": "2021-12-24T05:13:24.126283Z",
     "shell.execute_reply": "2021-12-24T05:13:24.136009Z"
    },
    "trusted": true
   },
   "outputs": [
    {
     "name": "stdout",
     "output_type": "stream",
     "text": [
      " hello python\n hello python\n hello python\n hello python\n hello python\n"
     ]
    }
   ],
   "source": [
    "# let's print python 5 times\n",
    "i=0\n",
    "while i < 5:\n",
    "    print(\" hello python\")\n",
    "    i = i + 1 # if we don't increment it it would run infinity times"
   ]
  },
  {
   "cell_type": "markdown",
   "metadata": {},
   "source": [
    "<a id=\"9.2\"></a>\n<p style = \"font-size:30px; color:#331340 ; text-align: left; border-radius: 5px 5px; padding: 5px\" ><strong>For Loop</strong></p>"
   ]
  },
  {
   "cell_type": "markdown",
   "metadata": {},
   "source": [
    "<p style = \"font-size:18px; ; text-align: center\" >A for loop is used to iterate through a sequence like list tule or string [iterables]\n</p>"
   ]
  },
  {
   "cell_type": "code",
   "execution_count": 51,
   "metadata": {
    "execution": {
     "iopub.status.busy": "2021-12-24T05:13:24.138137Z",
     "iopub.execute_input": "2021-12-24T05:13:24.138846Z",
     "iopub.status.idle": "2021-12-24T05:13:24.148100Z",
     "shell.execute_reply.started": "2021-12-24T05:13:24.138810Z",
     "shell.execute_reply": "2021-12-24T05:13:24.147133Z"
    },
    "trusted": true
   },
   "outputs": [
    {
     "name": "stdout",
     "output_type": "stream",
     "text": [
      "2\n4\n6\n8\n"
     ]
    }
   ],
   "source": [
    "# print only even numbers\n",
    "list1=[1,2,3,4,5,6,7,8,9]\n",
    "for num in list1:\n",
    "    if num%2==0:\n",
    "        print(num)"
   ]
  },
  {
   "cell_type": "markdown",
   "metadata": {},
   "source": [
    "<a id=\"9.3\"></a>\n<p style = \"font-size:30px; color:#331340 ; text-align: left; border-radius: 5px 5px; padding: 5px\" ><strong>Range</strong></p>"
   ]
  },
  {
   "cell_type": "markdown",
   "metadata": {},
   "source": [
    "<p style = \"font-size:18px; ; text-align: center\" >A range function is used to generate a sequence of numbers . we can specify ( start stop stepsize) in range function\n</p>"
   ]
  },
  {
   "cell_type": "code",
   "execution_count": 52,
   "metadata": {
    "execution": {
     "iopub.status.busy": "2021-12-24T05:13:24.149314Z",
     "iopub.execute_input": "2021-12-24T05:13:24.149841Z",
     "iopub.status.idle": "2021-12-24T05:13:24.164340Z",
     "shell.execute_reply.started": "2021-12-24T05:13:24.149797Z",
     "shell.execute_reply": "2021-12-24T05:13:24.163391Z"
    },
    "trusted": true
   },
   "outputs": [
    {
     "name": "stdout",
     "output_type": "stream",
     "text": [
      "1\n2\n3\n4\n5\n6\n7\n8\n9\n10\n"
     ]
    }
   ],
   "source": [
    "# print numbers from 1 to 10\n",
    "for x in range(1,11): # it will not include the stop num\n",
    "    print(x)"
   ]
  },
  {
   "cell_type": "markdown",
   "metadata": {},
   "source": [
    "<a id=\"9.4\"></a>\n<p style = \"font-size:30px; color:#331340 ; text-align: left; border-radius: 5px 5px; padding: 5px\" ><strong>Break</strong></p>"
   ]
  },
  {
   "cell_type": "markdown",
   "metadata": {},
   "source": [
    "<p style = \"font-size:18px; ; text-align: center\" >Break statement is used to come out the loop when encounterd . It instructs the program to exit the loop.\n</p>"
   ]
  },
  {
   "cell_type": "code",
   "execution_count": 53,
   "metadata": {
    "execution": {
     "iopub.status.busy": "2021-12-24T05:13:24.165416Z",
     "iopub.execute_input": "2021-12-24T05:13:24.165764Z",
     "iopub.status.idle": "2021-12-24T05:13:24.173871Z",
     "shell.execute_reply.started": "2021-12-24T05:13:24.165731Z",
     "shell.execute_reply": "2021-12-24T05:13:24.173199Z"
    },
    "trusted": true
   },
   "outputs": [
    {
     "name": "stdout",
     "output_type": "stream",
     "text": [
      "0\n1\n2\n3\n"
     ]
    }
   ],
   "source": [
    "# when num is 3 break the looop\n",
    "for x in range(100):\n",
    "    print(x)\n",
    "    if x==3:\n",
    "        break"
   ]
  },
  {
   "cell_type": "markdown",
   "metadata": {},
   "source": [
    "<a id=\"9.5\"></a>\n<p style = \"font-size:30px; color:#331340 ; text-align: left; border-radius: 5px 5px; padding: 5px\" ><strong>Continue</strong></p>"
   ]
  },
  {
   "cell_type": "markdown",
   "metadata": {},
   "source": [
    "<p style = \"font-size:18px; ; text-align: center\" >Continue is used to stop the current iteration and continue with the next iteration. It instructs the program to skip this iteration.\n</p>"
   ]
  },
  {
   "cell_type": "code",
   "execution_count": 54,
   "metadata": {
    "execution": {
     "iopub.status.busy": "2021-12-24T05:13:24.175161Z",
     "iopub.execute_input": "2021-12-24T05:13:24.175881Z",
     "iopub.status.idle": "2021-12-24T05:13:24.184816Z",
     "shell.execute_reply.started": "2021-12-24T05:13:24.175822Z",
     "shell.execute_reply": "2021-12-24T05:13:24.183966Z"
    },
    "trusted": true
   },
   "outputs": [
    {
     "name": "stdout",
     "output_type": "stream",
     "text": [
      "1\n2\n3\n4\n6\n7\n8\n9\n10\n"
     ]
    }
   ],
   "source": [
    "# print  num from 1 to 10 without number 5 skip number 5\n",
    "for x in range(1,11):\n",
    "    if x == 5:\n",
    "        continue\n",
    "    print(x)\n",
    "         "
   ]
  },
  {
   "cell_type": "markdown",
   "metadata": {},
   "source": [
    "<a id = '10.0'></a>\n<h2 style = \"font-family: garamond; font-size: 40px; font-style: normal; background-color: #FA4659 ; color : #F0FFF3; border-radius: 5px 5px;padding:5px;text-align:center; font-weight: bold\" >10. Functions</h2>\n<br>"
   ]
  },
  {
   "cell_type": "markdown",
   "metadata": {},
   "source": [
    "<p style = \"font-size:18px; ; text-align: center\" >A function is a group of statements to perform special task.<br>\nSometimes when a program gets bigger in size and its complexity grows . It gets difficult for a programmer to keep track on which piece of code is doing what! . A function can be used as many times as can. It is represented by def keyword\n</p>"
   ]
  },
  {
   "cell_type": "code",
   "execution_count": 55,
   "metadata": {
    "execution": {
     "iopub.status.busy": "2021-12-24T05:13:24.185916Z",
     "iopub.execute_input": "2021-12-24T05:13:24.186138Z",
     "iopub.status.idle": "2021-12-24T05:13:24.197469Z",
     "shell.execute_reply.started": "2021-12-24T05:13:24.186111Z",
     "shell.execute_reply": "2021-12-24T05:13:24.196567Z"
    },
    "trusted": true
   },
   "outputs": [
    {
     "data": {
      "text/plain": [
       "6"
      ]
     },
     "execution_count": 55,
     "metadata": {},
     "output_type": "execute_result"
    }
   ],
   "source": [
    "# make a function to add two numbers\n",
    "def add(a,b):\n",
    "    return a+b\n",
    "add(2,4) # add this is called function call"
   ]
  },
  {
   "cell_type": "markdown",
   "metadata": {},
   "source": [
    "<a id=\"10.1\"></a>\n<p style = \"font-size:30px; color:#331340 ; text-align: left; border-radius: 5px 5px; padding: 5px\" ><strong>Types Of Functions</strong></p>"
   ]
  },
  {
   "cell_type": "markdown",
   "metadata": {},
   "source": [
    "<p style = \"font-size:18px; ; text-align: center\" >There are two types of functions present in the pyhton. Those are\n</p>"
   ]
  },
  {
   "cell_type": "markdown",
   "metadata": {},
   "source": [
    "<p style = \"font-size:18px; ;color:#3B7128; text-align: center\" >01.In-Built </p>"
   ]
  },
  {
   "cell_type": "markdown",
   "metadata": {},
   "source": [
    "<p style = \"font-size:18px; ; text-align: center\" >Those are the functions that are already defined. We don't need to define them we get them along with the python itslef. They are already present in the python itself.<br>\n    Some of them are: len( ) , range( ) , print( )\n</p>"
   ]
  },
  {
   "cell_type": "code",
   "execution_count": 56,
   "metadata": {
    "execution": {
     "iopub.status.busy": "2021-12-24T05:13:24.199596Z",
     "iopub.execute_input": "2021-12-24T05:13:24.199919Z",
     "iopub.status.idle": "2021-12-24T05:13:24.210349Z",
     "shell.execute_reply.started": "2021-12-24T05:13:24.199876Z",
     "shell.execute_reply": "2021-12-24T05:13:24.209484Z"
    },
    "trusted": true
   },
   "outputs": [
    {
     "name": "stdout",
     "output_type": "stream",
     "text": [
      "9\n"
     ]
    }
   ],
   "source": [
    "# calculate the length of the list\n",
    "l1=[1,2,4,4,5,3,2,2,1]\n",
    "print(len(l1))"
   ]
  },
  {
   "cell_type": "markdown",
   "metadata": {},
   "source": [
    "<p style = \"font-size:18px; ;color:#3B7128; text-align: center\" >02.User-Defined </p>"
   ]
  },
  {
   "cell_type": "markdown",
   "metadata": {},
   "source": [
    "<p style = \"font-size:18px; ; text-align: center\" >Those are the functions that we make on our own. We use those functions to avoid the write the repeating of the code\n</p>"
   ]
  },
  {
   "cell_type": "code",
   "execution_count": 57,
   "metadata": {
    "execution": {
     "iopub.status.busy": "2021-12-24T05:13:24.211617Z",
     "iopub.execute_input": "2021-12-24T05:13:24.212220Z",
     "iopub.status.idle": "2021-12-24T05:13:24.221927Z",
     "shell.execute_reply.started": "2021-12-24T05:13:24.212178Z",
     "shell.execute_reply": "2021-12-24T05:13:24.221190Z"
    },
    "trusted": true
   },
   "outputs": [
    {
     "name": "stdout",
     "output_type": "stream",
     "text": [
      "9\n"
     ]
    }
   ],
   "source": [
    "# make a function to print greatest number from the list\n",
    "\n",
    "def great(l1):\n",
    "    l1.sort() # First sort the list. so we can get the max number at last.\n",
    "    return l1[-1] # with indexing we return the last value\n",
    "\n",
    "listt=[2,3,5,3,2,2,4,6,6,8,9,0,1,1]\n",
    "print(great(listt))\n",
    "        "
   ]
  },
  {
   "cell_type": "markdown",
   "metadata": {},
   "source": [
    "<a id=\"10.2\"></a>\n<p style = \"font-size:30px; color:#331340 ; text-align: left; border-radius: 5px 5px; padding: 5px\" ><strong>Recursion</strong></p>"
   ]
  },
  {
   "cell_type": "markdown",
   "metadata": {},
   "source": [
    "<p style = \"font-size:18px; ; text-align: center\" >Recursion is a function that calls it self. It mainly uses directly a mathematical formula as a function.\n</p>"
   ]
  },
  {
   "cell_type": "code",
   "execution_count": 58,
   "metadata": {
    "execution": {
     "iopub.status.busy": "2021-12-24T05:13:24.223120Z",
     "iopub.execute_input": "2021-12-24T05:13:24.223358Z",
     "iopub.status.idle": "2021-12-24T05:13:24.232939Z",
     "shell.execute_reply.started": "2021-12-24T05:13:24.223321Z",
     "shell.execute_reply": "2021-12-24T05:13:24.231923Z"
    },
    "trusted": true
   },
   "outputs": [
    {
     "name": "stdout",
     "output_type": "stream",
     "text": [
      "120\n"
     ]
    }
   ],
   "source": [
    "# let's take example of factorial\n",
    "# we know factorial of n is n * factorial(n-1)\n",
    "def factorial(n):\n",
    "    if n == 0  or n==1: # factorial of 1 and 0 is 1\n",
    "        return 1\n",
    "    else:\n",
    "        return n*factorial(n-1)\n",
    "    \n",
    "print(factorial(5))"
   ]
  },
  {
   "cell_type": "markdown",
   "metadata": {},
   "source": [
    "<div style=\"background: #DCDCDC\">\n<a id=\"10.3\"></a>\n<p style = \"font-size:30px; color:#331340 ; text-align: left; border-radius: 5px 5px; padding: 5px\" ><strong>Question Bank from Conditional Statements and Functions</strong></p>\n\n<ol style=\"font-family: Arials, sans-serif; font-size: 14px; line-height:1.5; color: rgba(0,0,0,.7)\">\n<li>Write a Python program that accepts a word from the user and reverse it.</li>\n<p></p>\n<li>Write a Python program to find the median of three values.\nExpected Output:\n\nInput first number: 15                                                  \nInput second number: 26                                                 \nInput third number: 29                                                  \nThe median is 26.0     .</li>\n<p></p> \n<p></p>\n<li> Write a Python function to multiply all the numbers in a list.\n    Sample List : (8, 2, 3, -1, 7)\nExpected Output : -336.</li>\n<p></p>\n\n<li>\n    Write a Python function that takes a list and returns a new list with unique elements of the first list. \nSample List : [1,2,3,3,3,3,4,5]\nUnique List : [1, 2, 3, 4, 5]\n    </li>\n<p></p>\n    <li> Write a Python function to sum all the numbers in a list. Go to the editor\nSample List : (8, 2, 3, 0, 7)\nExpected Output : 20</li>\n</ol>\n</div>"
   ]
  },
  {
   "cell_type": "markdown",
   "metadata": {},
   "source": [
    "<a id = '11.0'></a>\n<h2 style = \"font-family: garamond; font-size: 40px; font-style: normal; background-color: #FA4659 ; color : #F0FFF3; border-radius: 5px 5px;padding:5px;text-align:center; font-weight: bold\" >11. OOPS</h2>\n<br>"
   ]
  },
  {
   "cell_type": "code",
   "execution_count": null,
   "metadata": {
    "trusted": true
   },
   "outputs": [],
   "source": [
    ""
   ]
  },
  {
   "cell_type": "code",
   "execution_count": null,
   "metadata": {},
   "outputs": [],
   "source": [
    ""
   ]
  }
 ],
 "metadata": {
  "kernelspec": {
   "language": "python",
   "display_name": "Python 3",
   "name": "python3"
  },
  "language_info": {
   "name": "python",
   "version": "3.7.12",
   "mimetype": "text/x-python",
   "codemirror_mode": {
    "name": "ipython",
    "version": 3
   },
   "pygments_lexer": "ipython3",
   "nbconvert_exporter": "python",
   "file_extension": ".py"
  }
 },
 "nbformat": 4,
 "nbformat_minor": 4
}
