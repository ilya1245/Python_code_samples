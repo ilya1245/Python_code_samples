{
  "nbformat": 4,
  "nbformat_minor": 0,
  "metadata": {
    "colab": {
      "name": "Baseline_DTR.ipynb",
      "provenance": [],
      "collapsed_sections": []
    },
    "kernelspec": {
      "display_name": "Python 3",
      "name": "python3"
    }
  },
  "cells": [
    {
      "cell_type": "markdown",
      "metadata": {
        "id": "qssAVJoBlyfF"
      },
      "source": [
        "# Fundamentals of Machine Learning, Fall 2021, Final Project\n",
        "\n",
        "## Stock Closing Price Prediction\n",
        "\n",
        "1. Download ```final_project.pdf```, ```Kaggle & Colab Guide.pptx```, and ```utils.py``` from i-campus.\n",
        "2. Go to [Kaggle competition page](https://www.kaggle.com/c/2021mlfinal), join Kaggle & competition, and download dataset.\n",
        "3. Following guide slides, upload ```utils.py```.\n",
        "4. Mount Google Drive.\n",
        "5. Implement your own model and predict on test dates.\n",
        "6. Download and submit ```submission.csv``` to Kaggle.\n",
        "7. Write a report on your project and submit on i-campus."
      ]
    },
    {
      "cell_type": "markdown",
      "metadata": {
        "id": "xOvOEV5rmCYu"
      },
      "source": [
        "# INITIAL PACKAGES"
      ]
    },
    {
      "cell_type": "code",
      "metadata": {
        "id": "hRqwRAFkl4-r",
        "outputId": "d510d8d5-6bf7-47a6-adcb-5c78fb9dad17",
        "colab": {
          "base_uri": "https://localhost:8080/",
          "height": 338
        }
      },
      "source": [
        "# INITIAL PACKAGES\n",
        "import os\n",
        "import numpy as np\n",
        "import pandas as pd\n",
        "\n",
        "from utils import load_data, run"
      ],
      "execution_count": 1,
      "outputs": [
        {
          "output_type": "error",
          "ename": "ModuleNotFoundError",
          "evalue": "ignored",
          "traceback": [
            "\u001b[0;31m---------------------------------------------------------------------------\u001b[0m",
            "\u001b[0;31mModuleNotFoundError\u001b[0m                       Traceback (most recent call last)",
            "\u001b[0;32m<ipython-input-1-5e70d92a5cbc>\u001b[0m in \u001b[0;36m<module>\u001b[0;34m()\u001b[0m\n\u001b[1;32m      4\u001b[0m \u001b[0;32mimport\u001b[0m \u001b[0mpandas\u001b[0m \u001b[0;32mas\u001b[0m \u001b[0mpd\u001b[0m\u001b[0;34m\u001b[0m\u001b[0;34m\u001b[0m\u001b[0m\n\u001b[1;32m      5\u001b[0m \u001b[0;34m\u001b[0m\u001b[0m\n\u001b[0;32m----> 6\u001b[0;31m \u001b[0;32mfrom\u001b[0m \u001b[0mutils\u001b[0m \u001b[0;32mimport\u001b[0m \u001b[0mload_data\u001b[0m\u001b[0;34m,\u001b[0m \u001b[0mrun\u001b[0m\u001b[0;34m\u001b[0m\u001b[0;34m\u001b[0m\u001b[0m\n\u001b[0m",
            "\u001b[0;31mModuleNotFoundError\u001b[0m: No module named 'utils'",
            "",
            "\u001b[0;31m---------------------------------------------------------------------------\u001b[0;32m\nNOTE: If your import is failing due to a missing package, you can\nmanually install dependencies using either !pip or !apt.\n\nTo view examples of installing some common dependencies, click the\n\"Open Examples\" button below.\n\u001b[0;31m---------------------------------------------------------------------------\u001b[0m\n"
          ],
          "errorDetails": {
            "actions": [
              {
                "action": "open_url",
                "actionText": "Open Examples",
                "url": "/notebooks/snippets/importing_libraries.ipynb"
              }
            ]
          }
        }
      ]
    },
    {
      "cell_type": "markdown",
      "metadata": {
        "id": "MZUsyNe95i_o"
      },
      "source": [
        "## Mount Google Drive\n",
        "\n",
        "Assmue you made ```final_project``` directory on the root,\n",
        "and data files are there."
      ]
    },
    {
      "cell_type": "code",
      "metadata": {
        "id": "MDM_tdygDwZm"
      },
      "source": [
        "from google.colab import drive\n",
        "drive.mount('/content/gdrive')"
      ],
      "execution_count": null,
      "outputs": []
    },
    {
      "cell_type": "code",
      "metadata": {
        "id": "5qRW-lZn5qQ8"
      },
      "source": [
        "gdrive_root = '/content/gdrive/My Drive'\n",
        "data_path = os.path.join(gdrive_root, 'final_project')\n",
        "os.listdir(data_path)"
      ],
      "execution_count": null,
      "outputs": []
    },
    {
      "cell_type": "code",
      "metadata": {
        "id": "UyVzURjPKEbn"
      },
      "source": [
        "train_data, valid_data, test_input = load_data(data_path)"
      ],
      "execution_count": null,
      "outputs": []
    },
    {
      "cell_type": "code",
      "metadata": {
        "id": "R31c7TpoKFcb"
      },
      "source": [
        "print(f'train id answer:\\n {train_data[0].head()}')\n",
        "print(f'train input shape: {train_data[1].shape}\\n')\n",
        "\n",
        "print(f'valid id answer:\\n {valid_data[0].head()}')\n",
        "print(f'valid input shape: {valid_data[1].shape}\\n')\n",
        "\n",
        "print(f'test id:\\n {test_input[0].head()}')\n",
        "print(f'test input shape: {test_input[1].shape}\\n')"
      ],
      "execution_count": null,
      "outputs": []
    },
    {
      "cell_type": "markdown",
      "metadata": {
        "id": "2jyZX7csmRzj"
      },
      "source": [
        "---"
      ]
    },
    {
      "cell_type": "markdown",
      "metadata": {
        "id": "IQTSxSQdmVoD"
      },
      "source": [
        "# SHOW YOUR WORK\n",
        "From here, import packages you need as long as they are permitted. <br>\n",
        "Fill ```train_and_predict``` function with your codes. <br>\n",
        "If you want, you can implement your own classes or functions within \"SHOW YOUR WOKR\" block. <br>\n",
        "The rest of work is ours."
      ]
    },
    {
      "cell_type": "code",
      "metadata": {
        "id": "4feaJ6yVmZPX"
      },
      "source": [
        "# IMPORT PACKAGES YOU NEED\n",
        "from sklearn.tree import DecisionTreeRegressor\n",
        "\n"
      ],
      "execution_count": null,
      "outputs": []
    },
    {
      "cell_type": "code",
      "metadata": {
        "id": "Cl5hOI1mnP2B"
      },
      "source": [
        "# YOUR OWN CLASSES OR FUNCTIONS\n",
        "\n"
      ],
      "execution_count": null,
      "outputs": []
    },
    {
      "cell_type": "code",
      "metadata": {
        "id": "hAadQh8Bmbwx"
      },
      "source": [
        "def train_and_predict(train_data, valid_data, test_data):\n",
        "    \"\"\"Train a model and return prediction on test input.\n",
        "\n",
        "    Given train and valid data, build your model and optimize.\n",
        "    Then, return predictions on test_input.\n",
        "\n",
        "    You can import packages you want inside 'EDIT HERE' as long as they are permitted.\n",
        "    (See document for the list of possible packages)\n",
        "\n",
        "    arguments:\n",
        "        train_data: tuple of (pandas.DataFrame, np.array).\n",
        "        - 0: pandas.DataFrame with columns ['id', 'answer']\n",
        "          'id' contains unique id assigned to each timestamp.\n",
        "          'answer' contains closing price ratio corresponding to its timestamp.\n",
        "        - 1: train input in np.array of (# of train timestamps, 1 + # of stocks, # of previous dates to be input, # of features)\n",
        "\n",
        "        valid_data: tuple of (pandas.DataFrame, np.array).\n",
        "        - 0: pandas.DataFrame with columns ['id', 'answer']\n",
        "          'id' contains unique id assigned to each timestamp.\n",
        "          'answer' contains closing price ratio corresponding to its timestamp.\n",
        "        - 1: valid input in np.array of (# of valid timestamps, 1 + # of stocks, # of previous dates to be input, # of features)\n",
        "\n",
        "        test_data: tuple of (pandas.DataFrame, np.array).\n",
        "        - 0: pandas.DataFrame with columns ['id']\n",
        "          'id' contains unique id assigned to each timestamp.\n",
        "        - 1: test input in np.array of (# of test timestamps, 1 + # of stocks, # of previous dates to be input, # of features)\n",
        "    \n",
        "    returns:\n",
        "        pandas.DataFrame, predictions on test input with columns ['id', 'answer'].\n",
        "        'id' should contain unique id assigned to test input. \n",
        "        'answer' should contain prediction on the test input correspond to its id\n",
        "\n",
        "    \"\"\"\n",
        "    # Example code for DecisionTreeRegressor:\n",
        "    train_id_answer, train_input = train_data\n",
        "    valid_id_answer, valid_input = valid_data\n",
        "    test_id, test_input = test_data\n",
        "\n",
        "    num_train = len(train_input)\n",
        "    num_valid = len(valid_input)\n",
        "    num_test = len(test_input)\n",
        "\n",
        "    # Separate index\n",
        "    index_train = train_input[:, 0]\n",
        "    x_train = train_input[:, 1:]\n",
        "    y_train = train_id_answer['answer'].values\n",
        "\n",
        "    index_valid = valid_input[:, 0]\n",
        "    x_valid = valid_input[:, 1:]\n",
        "    y_valid = valid_id_answer['answer'].values\n",
        "\n",
        "    index_test = test_input[:, 0]\n",
        "    x_test = test_input[:, 1:]\n",
        "\n",
        "    # Use last 60 days to train, 10 days to valid\n",
        "    x_train = x_train[-300:]\n",
        "    y_train = y_train[-300*x_train.shape[1]:]\n",
        "\n",
        "    x_valid = x_valid[-100:]\n",
        "    y_valid = y_valid[-100*x_valid.shape[1]:]\n",
        "\n",
        "    # Use previous 3 days to predict\n",
        "    x_train = x_train[:, :, -3:]\n",
        "    x_valid = x_valid[:, :, -3:]\n",
        "    x_test = x_test[:, :, -3:]\n",
        "\n",
        "    # Fit data shape for model\n",
        "    x_train_shape = x_train.shape\n",
        "    x_train = x_train.reshape(x_train_shape[0] * x_train_shape[1], -1)\n",
        "\n",
        "    x_valid_shape = x_valid.shape\n",
        "    x_valid = x_valid.reshape(x_valid_shape[0] * x_valid_shape[1], -1)\n",
        "\n",
        "    x_test_shape = x_test.shape\n",
        "    x_test = x_test.reshape(x_test_shape[0] * x_test_shape[1], -1)\n",
        "    \n",
        "    # Build DecisionTreeRegressor\n",
        "    # You must set random seed to specific number.\n",
        "    # We will check reproducibility of your model.\n",
        "    model = DecisionTreeRegressor(random_state=2021, criterion=\"absolute_error\")\n",
        "\n",
        "    # Fit model\n",
        "    print(x_train.shape, y_train.shape)\n",
        "    model.fit(x_train, y_train)\n",
        "\n",
        "    print(\"validation score: \", model.score(x_valid, y_valid))\n",
        "\n",
        "    prediction = model.predict(x_test)\n",
        "\n",
        "    print(prediction.shape)\n",
        "    \n",
        "    # Make prediction data frame\n",
        "    test_id['answer'] = prediction\n",
        "    pred = test_id.loc[:, ['id', 'answer']]\n",
        "\n",
        "    return pred"
      ],
      "execution_count": null,
      "outputs": []
    },
    {
      "cell_type": "markdown",
      "metadata": {
        "id": "uz7Fho1vmdRa"
      },
      "source": [
        "---"
      ]
    },
    {
      "cell_type": "markdown",
      "metadata": {
        "id": "QSTAchdzmfB6"
      },
      "source": [
        "# YOUR WORK IS DONE!\n",
        "Do not touch any line below. <br>\n",
        "```run``` function will grap your prediction and make ```submission.csv```. <br>\n",
        "Take it and submit to Kaggle!"
      ]
    },
    {
      "cell_type": "code",
      "metadata": {
        "id": "TDXCvXCimjAc"
      },
      "source": [
        "run(train_and_predict, train_data, valid_data, test_input)"
      ],
      "execution_count": null,
      "outputs": []
    },
    {
      "cell_type": "code",
      "metadata": {
        "id": "BLvMabmGzmwN"
      },
      "source": [
        ""
      ],
      "execution_count": null,
      "outputs": []
    }
  ]
}