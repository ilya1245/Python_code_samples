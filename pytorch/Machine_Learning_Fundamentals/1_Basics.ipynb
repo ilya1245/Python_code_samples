{
 "cells": [
  {
   "cell_type": "markdown",
   "metadata": {
    "id": "uy9G6JKILb6j"
   },
   "source": [
    "Introduction"
   ]
  },
  {
   "cell_type": "markdown",
   "metadata": {
    "id": "de3OM3xez72L"
   },
   "source": [
    "# 1. PyTorch Basics"
   ]
  },
  {
   "cell_type": "markdown",
   "metadata": {
    "id": "vGeBlU82z72M"
   },
   "source": [
    "## Import"
   ]
  },
  {
   "cell_type": "code",
   "execution_count": 1,
   "metadata": {
    "id": "LX0vOmXsz72N"
   },
   "outputs": [],
   "source": [
    "import random\n",
    "import numpy as np\n",
    "import torch\n",
    "\n",
    "seed=1234\n",
    "random.seed(seed)\n",
    "np.random.seed(seed)\n",
    "torch.random.manual_seed(seed)\n",
    "if torch.cuda.is_available():\n",
    "    torch.backends.cudnn.deterministic = True\n",
    "    torch.backends.cudnn.benchmark = False"
   ]
  },
  {
   "cell_type": "markdown",
   "metadata": {
    "id": "kjEobGtXz72R"
   },
   "source": [
    "## Numpy & PyTorch\n",
    "The syntax and usage of Numpy and PyTorch are very similar. <br>\n",
    "Various operations are compatible. <br><br>\n",
    "\n",
    "Here, we will learn basic attributes and operations."
   ]
  },
  {
   "cell_type": "code",
   "execution_count": 2,
   "metadata": {
    "colab": {
     "base_uri": "https://localhost:8080/"
    },
    "id": "Op4MYG5pz72S",
    "outputId": "2744d749-21f1-4514-b262-8fe4883c6929"
   },
   "outputs": [
    {
     "name": "stdout",
     "output_type": "stream",
     "text": [
      "2\n",
      "(3, 3)\n"
     ]
    }
   ],
   "source": [
    "m = np.array([[0, 1, 2], [3, 4, 5], [6, 7, 8]])\n",
    "print(m.ndim)   # rank\n",
    "print(m.shape)  # shape"
   ]
  },
  {
   "cell_type": "code",
   "execution_count": 3,
   "metadata": {
    "colab": {
     "base_uri": "https://localhost:8080/"
    },
    "id": "Hkhc54hez72U",
    "outputId": "f53c2ef4-173e-4e71-e723-902d6286c427"
   },
   "outputs": [
    {
     "name": "stdout",
     "output_type": "stream",
     "text": [
      "2\n",
      "torch.Size([3, 3])\n",
      "torch.Size([3, 3])\n"
     ]
    }
   ],
   "source": [
    "m_torch = torch.FloatTensor(m)\n",
    "print(m_torch.dim())    # rank\n",
    "print(m_torch.shape)    # shape\n",
    "print(m_torch.size())   # shape"
   ]
  },
  {
   "cell_type": "code",
   "execution_count": 4,
   "metadata": {
    "colab": {
     "base_uri": "https://localhost:8080/"
    },
    "id": "ZtsgQNxxz72X",
    "outputId": "32d27e8e-34ca-4e3e-e55c-e7634a1ed670"
   },
   "outputs": [
    {
     "name": "stdout",
     "output_type": "stream",
     "text": [
      "tensor([[0., 1., 2.],\n",
      "        [3., 4., 5.],\n",
      "        [6., 7., 8.]])\n",
      "tensor([0., 1., 2.])\n",
      "tensor([0., 3., 6.])\n",
      "tensor(5.)\n"
     ]
    }
   ],
   "source": [
    "print(m_torch)\n",
    "print(m_torch[0])       # first row\n",
    "print(m_torch[:, 0])    # first column\n",
    "print(m_torch[1, 2])    # second row, third column"
   ]
  },
  {
   "cell_type": "markdown",
   "metadata": {
    "id": "xKMEdI5hz72Z"
   },
   "source": [
    "## Useful Operations"
   ]
  },
  {
   "cell_type": "markdown",
   "metadata": {
    "id": "g73PnOTWz72a"
   },
   "source": [
    "## Sum & Mean"
   ]
  },
  {
   "cell_type": "code",
   "execution_count": 5,
   "metadata": {
    "colab": {
     "base_uri": "https://localhost:8080/"
    },
    "id": "0aoP6ZOiz72a",
    "outputId": "75199321-00ed-4adf-e250-14973eed5744"
   },
   "outputs": [
    {
     "name": "stdout",
     "output_type": "stream",
     "text": [
      "m1:\n",
      " tensor([[0., 1., 2., 3., 4.],\n",
      "        [0., 1., 2., 3., 4.],\n",
      "        [0., 1., 2., 3., 4.],\n",
      "        [0., 1., 2., 3., 4.],\n",
      "        [0., 1., 2., 3., 4.]])\n",
      "------ SUM ------\n",
      "Sum all elements: 50.0\n",
      "Sum along axis 0: \n",
      "tensor([ 0.,  5., 10., 15., 20.])\n",
      "Sum along axis 1: \n",
      "tensor([10., 10., 10., 10., 10.])\n",
      "\n",
      "------ MEAN ------\n",
      "Mean all elements: 2.0\n",
      "Mean along axis 0: \n",
      "tensor([0., 1., 2., 3., 4.])\n",
      "Mean along axis 1: \n",
      "tensor([2., 2., 2., 2., 2.])\n"
     ]
    }
   ],
   "source": [
    "m1 = torch.FloatTensor([np.arange(5)] * 5)\n",
    "print(f'm1:\\n {m1}')\n",
    "\n",
    "print('------ SUM ------')\n",
    "print(f'Sum all elements: {m1.sum()}')\n",
    "print(f'Sum along axis 0: \\n{m1.sum(dim=0)}')\n",
    "print(f'Sum along axis 1: \\n{m1.sum(dim=1)}')\n",
    "print()\n",
    "\n",
    "print('------ MEAN ------')\n",
    "print(f'Mean all elements: {m1.mean()}')\n",
    "print(f'Mean along axis 0: \\n{m1.mean(dim=0)}')\n",
    "print(f'Mean along axis 1: \\n{m1.mean(dim=1)}')"
   ]
  },
  {
   "cell_type": "markdown",
   "metadata": {
    "id": "BvkBbUE-z72c"
   },
   "source": [
    "## Max & Argmax"
   ]
  },
  {
   "cell_type": "code",
   "execution_count": 6,
   "metadata": {
    "colab": {
     "base_uri": "https://localhost:8080/"
    },
    "id": "N8H0YsRyz72d",
    "outputId": "699d1d6d-c48c-4c50-d393-3b4da7167012"
   },
   "outputs": [
    {
     "name": "stdout",
     "output_type": "stream",
     "text": [
      "m:\n",
      " tensor([[ 2.,  1.,  3.],\n",
      "        [-4., -5.,  6.]])\n",
      "max among all elements: 6.0\n",
      "\n",
      "max along axis 0: tensor([2., 1., 6.])\n",
      "Argmax along axis 0: tensor([0, 0, 1])\n",
      "Argmax along axis 0 using argmax: tensor([0, 0, 1])\n",
      "\n",
      "max along axis 1: tensor([3., 6.])\n",
      "Argmax along axis 1: tensor([2, 2])\n",
      "Argmax along axis 1 using argmax: tensor([2, 2])\n"
     ]
    }
   ],
   "source": [
    "m = torch.FloatTensor([[2, 1, 3], [-4, -5, 6]])\n",
    "print(f'm:\\n {m}')\n",
    "print(f'max among all elements: {m.max()}\\n')\n",
    "\n",
    "print(f'max along axis 0: {m.max(dim=0)[0]}')\n",
    "print(f'Argmax along axis 0: {m.max(dim=0)[1]}')\n",
    "print(f'Argmax along axis 0 using argmax: {m.argmax(dim=0)}\\n')\n",
    "\n",
    "print(f'max along axis 1: {m.max(dim=1)[0]}')\n",
    "print(f'Argmax along axis 1: {m.max(dim=1)[1]}')\n",
    "print(f'Argmax along axis 1 using argmax: {m.argmax(dim=1)}')"
   ]
  },
  {
   "cell_type": "markdown",
   "metadata": {
    "id": "3e3QGHLiz72f"
   },
   "source": [
    "## Squeeze & Unsqueeze"
   ]
  },
  {
   "cell_type": "code",
   "execution_count": 7,
   "metadata": {
    "colab": {
     "base_uri": "https://localhost:8080/"
    },
    "id": "sGMkgMq1z72g",
    "outputId": "1bbb7748-e331-455f-cab8-6ae05b0ac080"
   },
   "outputs": [
    {
     "name": "stdout",
     "output_type": "stream",
     "text": [
      "tensor:\n",
      " tensor([[-1.,  0.,  1.],\n",
      "        [ 3.,  2.,  1.]])\n",
      "shape: torch.Size([2, 3])\n",
      "\n",
      "unsqueeze:\n",
      " tensor([[[-1.,  0.,  1.]],\n",
      "\n",
      "        [[ 3.,  2.,  1.]]])\n",
      "shape: torch.Size([2, 1, 3])\n",
      "\n",
      "squeeze:\n",
      " tensor([[-1.,  0.,  1.],\n",
      "        [ 3.,  2.,  1.]])\n",
      "shape: torch.Size([2, 3])\n"
     ]
    }
   ],
   "source": [
    "st = torch.FloatTensor([[-1, 0, 1], [3, 2, 1]])\n",
    "print(f'tensor:\\n {st}')\n",
    "print(f'shape: {st.shape}\\n')\n",
    "\n",
    "st_unsqueeze = st.unsqueeze(1)\n",
    "print(f'unsqueeze:\\n {st_unsqueeze}')\n",
    "print(f'shape: {st_unsqueeze.shape}\\n')\n",
    "\n",
    "st_squeeze = st_unsqueeze.squeeze(1)\n",
    "print(f'squeeze:\\n {st_squeeze}')\n",
    "print(f'shape: {st_squeeze.shape}')"
   ]
  },
  {
   "cell_type": "markdown",
   "metadata": {
    "id": "2dlBQht1z72i"
   },
   "source": [
    "## Concatenate"
   ]
  },
  {
   "cell_type": "code",
   "execution_count": 8,
   "metadata": {
    "colab": {
     "base_uri": "https://localhost:8080/"
    },
    "id": "-d-6qAGwz72i",
    "outputId": "243b55c5-5212-4e72-a99d-ca3ba4777bd3"
   },
   "outputs": [
    {
     "name": "stdout",
     "output_type": "stream",
     "text": [
      "tensor([[1., 2.],\n",
      "        [3., 4.],\n",
      "        [5., 6.],\n",
      "        [7., 8.]])\n",
      "tensor([[1., 2., 5., 6.],\n",
      "        [3., 4., 7., 8.]])\n"
     ]
    }
   ],
   "source": [
    "x = torch.FloatTensor([[1, 2], [3, 4]])\n",
    "y = torch.FloatTensor([[5, 6], [7, 8]])\n",
    "\n",
    "print(torch.cat([x, y], dim=0)) # axis 0\n",
    "print(torch.cat([x, y], dim=1)) # axis 1"
   ]
  },
  {
   "cell_type": "markdown",
   "metadata": {
    "id": "oJjGVY7ez72k"
   },
   "source": [
    "## Ones, Zeros, Full"
   ]
  },
  {
   "cell_type": "code",
   "execution_count": 9,
   "metadata": {
    "colab": {
     "base_uri": "https://localhost:8080/"
    },
    "id": "6ZCYiua_z72l",
    "outputId": "dfa7cb23-4065-47d2-af4a-4e36e541d0e2"
   },
   "outputs": [
    {
     "name": "stdout",
     "output_type": "stream",
     "text": [
      "ones: tensor([[1., 1.]])\n",
      "zeros: tensor([[0., 0., 0.],\n",
      "        [0., 0., 0.],\n",
      "        [0., 0., 0.]])\n",
      "full: tensor([[-1, -1],\n",
      "        [-1, -1]])\n",
      "\n",
      "ones: tensor([[1., 1., 1.],\n",
      "        [1., 1., 1.],\n",
      "        [1., 1., 1.]])\n",
      "zeros: tensor([[0, 0],\n",
      "        [0, 0]])\n",
      "full: tensor([[10., 10.]])\n"
     ]
    }
   ],
   "source": [
    "ones = torch.ones(1, 2)\n",
    "zeros = torch.zeros(3, 3)\n",
    "full = torch.full((2, 2), -1)\n",
    "\n",
    "print(f'ones: {ones}')\n",
    "print(f'zeros: {zeros}')\n",
    "print(f'full: {full}\\n')\n",
    "\n",
    "print(f'ones: {torch.ones_like(zeros)}')\n",
    "print(f'zeros: {torch.zeros_like(full)}')\n",
    "print(f'full: {torch.full_like(ones, 10)}')"
   ]
  },
  {
   "cell_type": "markdown",
   "metadata": {
    "id": "HudsgVx-z72n"
   },
   "source": [
    "## Mul & Matmul"
   ]
  },
  {
   "cell_type": "code",
   "execution_count": 10,
   "metadata": {
    "colab": {
     "base_uri": "https://localhost:8080/"
    },
    "id": "tDMueEjPz72n",
    "outputId": "842a8330-28e1-4f7f-990c-7436e7bb6c50"
   },
   "outputs": [
    {
     "name": "stdout",
     "output_type": "stream",
     "text": [
      "t_1 shape: torch.Size([2, 2])\n",
      "t_2 shape: torch.Size([2, 1])\n",
      "\n",
      "Mul:\n",
      " tensor([[10., 20.],\n",
      "        [60., 80.]])\n",
      "Mul shape: torch.Size([2, 2])\n",
      "Matmul:\n",
      " tensor([[ 50.],\n",
      "        [110.]])\n",
      "Matmul shape: torch.Size([2, 1])\n"
     ]
    }
   ],
   "source": [
    "t_1 = torch.FloatTensor([[1, 2], [3, 4]])\n",
    "t_2 = torch.FloatTensor([[10], [20]])\n",
    "print(f't_1 shape: {t_1.shape}')\n",
    "print(f't_2 shape: {t_2.shape}\\n')\n",
    "\n",
    "# X 10 on the first row, X 20 on the second row\n",
    "# Mul dis different from Matrix multiplication\n",
    "# Column (second dimension) t_2 is broadcasted.\n",
    "mul = torch.mul(t_1, t_2)\n",
    "print(f'Mul:\\n {mul}')\n",
    "print(f'Mul shape: {mul.shape}')\n",
    "\n",
    "# (2, 2) x (2, 1) = (2, 1) matrix\n",
    "matmul = torch.matmul(t_1, t_2)\n",
    "print(f'Matmul:\\n {matmul}')\n",
    "print(f'Matmul shape: {matmul.shape}')"
   ]
  },
  {
   "cell_type": "code",
   "execution_count": null,
   "metadata": {
    "id": "-AfEbHt8z72q"
   },
   "outputs": [],
   "source": []
  }
 ],
 "metadata": {
  "colab": {
   "collapsed_sections": [],
   "name": "1_Basics.ipynb",
   "provenance": []
  },
  "kernelspec": {
   "display_name": "Python 3",
   "language": "python",
   "name": "python3"
  },
  "language_info": {
   "codemirror_mode": {
    "name": "ipython",
    "version": 3
   },
   "file_extension": ".py",
   "mimetype": "text/x-python",
   "name": "python",
   "nbconvert_exporter": "python",
   "pygments_lexer": "ipython3",
   "version": "3.7.7"
  }
 },
 "nbformat": 4,
 "nbformat_minor": 1
}
