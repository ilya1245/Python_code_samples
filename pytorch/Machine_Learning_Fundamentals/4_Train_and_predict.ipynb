{
  "nbformat": 4,
  "nbformat_minor": 0,
  "metadata": {
    "language_info": {
      "codemirror_mode": {
        "name": "ipython",
        "version": 3
      },
      "file_extension": ".py",
      "mimetype": "text/x-python",
      "name": "python",
      "nbconvert_exporter": "python",
      "pygments_lexer": "ipython3",
      "version": "3.6.10-final"
    },
    "orig_nbformat": 2,
    "kernelspec": {
      "name": "python361064bitstarrecconda0e00ec86db60450f8d3bb8105978b385",
      "display_name": "Python 3.6.10 64-bit ('starrec': conda)"
    },
    "colab": {
      "name": "4_Train_and_predict.ipynb",
      "provenance": []
    },
    "accelerator": "GPU"
  },
  "cells": [
    {
      "cell_type": "markdown",
      "metadata": {
        "id": "xIzAAKuS1mYN"
      },
      "source": [
        "# 4. Train and predict"
      ]
    },
    {
      "cell_type": "markdown",
      "metadata": {
        "id": "DH--JbJi1mYO"
      },
      "source": [
        "So far, we learn how to make PyTorch tensor, modules and model. <br>\n",
        "Now, let's dive into training, optimizing and making predictions.\n",
        "\n",
        "Basic workflow is as follows:\n",
        "- Load and preprocess data\n",
        "- Define model\n",
        "- Build model\n",
        "- Train model\n",
        "- Predict on test data"
      ]
    },
    {
      "cell_type": "markdown",
      "metadata": {
        "id": "XQPRrJ-71mYO"
      },
      "source": [
        "## Import"
      ]
    },
    {
      "cell_type": "code",
      "metadata": {
        "id": "J6iMSUwK1mYP"
      },
      "source": [
        "import numpy as np\n",
        "import torch\n",
        "import torch.nn as nn\n",
        "\n",
        "np.random.seed(1234)\n",
        "torch.manual_seed(1234)\n",
        "\n",
        "if torch.cuda.is_available(): \n",
        "    torch.cuda.manual_seed(1234)\n",
        "    torch.cuda.manual_seed_all(1234)\n",
        "    torch.backends.cudnn.deterministic = True\n",
        "    torch.backends.cudnn.benchmark = True"
      ],
      "execution_count": null,
      "outputs": []
    },
    {
      "cell_type": "markdown",
      "metadata": {
        "id": "RS2TYmrv1mYS"
      },
      "source": [
        "## CPU or GPU\n",
        "\n",
        "Before you load data or build model, you have to decide which device your codes will be running between CPU and GPU. <br>\n",
        "PyTorch provides a function to check if you can use GPU. (```torch.cuda.is_available()```) <br>\n",
        "Once you choose the device, using ```.to(device)```, send your data (torch tensor), modules (including your model) to the device."
      ]
    },
    {
      "cell_type": "code",
      "metadata": {
        "id": "lgHOnQPR1mYT",
        "outputId": "83df22ee-46e1-46bd-dcec-051c897669a6",
        "colab": {
          "base_uri": "https://localhost:8080/",
          "height": 51
        }
      },
      "source": [
        "cuda_available = torch.cuda.is_available()\n",
        "print(f'Is cuda available? : {cuda_available}')\n",
        "\n",
        "device = 'cuda' if cuda_available else 'cpu'\n",
        "print(f'Device to use: {device}')"
      ],
      "execution_count": null,
      "outputs": [
        {
          "output_type": "stream",
          "text": [
            "Is cuda available? : True\n",
            "Device to use: cuda\n"
          ],
          "name": "stdout"
        }
      ]
    },
    {
      "cell_type": "markdown",
      "metadata": {
        "id": "lSv75Jfq1mYW"
      },
      "source": [
        "## Load data"
      ]
    },
    {
      "cell_type": "code",
      "metadata": {
        "id": "lLslIF_y1mYW"
      },
      "source": [
        "# 5 Random MNIST shape data with random label\n",
        "x = torch.rand(5, 1, 28, 28).to(device)\n",
        "y = torch.LongTensor([0, 3, 1, 2, 4]).to(device)"
      ],
      "execution_count": null,
      "outputs": []
    },
    {
      "cell_type": "markdown",
      "metadata": {
        "id": "TCll3Z3D1mYZ"
      },
      "source": [
        "## Define model\n",
        "Make your own model! Review the third tutorial **3_Building_model.ipynb**."
      ]
    },
    {
      "cell_type": "code",
      "metadata": {
        "id": "tcXL7q8O1mYZ"
      },
      "source": [
        "class MyClassifier(nn.Module):\n",
        "    def __init__(self):\n",
        "        super(MyClassifier, self).__init__()\n",
        "        self.conv_1 = nn.Conv2d(1, 3, 1, 1)\n",
        "        self.conv_2 = nn.Conv2d(3, 3, 1, 1)\n",
        "        self.maxpool = nn.MaxPool2d(2, 2)\n",
        "        self.fc_layer = nn.Linear(588, 5)\n",
        "        self.softmax = nn.Softmax(dim=-1)\n",
        "    \n",
        "    def forward(self, x):\n",
        "        num_data = x.shape[0]\n",
        "        out = self.conv_1(x)\n",
        "        out = self.conv_2(out)\n",
        "        out = self.maxpool(out)\n",
        "        out = self.fc_layer(out.view(num_data, -1))\n",
        "        # return self.softmax(out)\n",
        "        return out"
      ],
      "execution_count": null,
      "outputs": []
    },
    {
      "cell_type": "markdown",
      "metadata": {
        "id": "UNEla-ce1mYb"
      },
      "source": [
        "## Build model\n",
        "Once you define model, build your model and send it to the device!"
      ]
    },
    {
      "cell_type": "code",
      "metadata": {
        "id": "sX9e_3kr1mYc"
      },
      "source": [
        "model = MyClassifier().to(device)"
      ],
      "execution_count": null,
      "outputs": []
    },
    {
      "cell_type": "markdown",
      "metadata": {
        "id": "s9eozdot1mYe"
      },
      "source": [
        "## Train model\n",
        "\n",
        "Training is very similar with what we did in past assignments; define loss function, optimizer, optimize model for epochs. <br>\n",
        "For simplicity, we do not consider batch training here.\n",
        "\n",
        "**Loss function** <br>\n",
        "For multiclass classification, we have been using cross-entropy loss. <br>\n",
        "In PyTorch, it is also a module, called ```nn.CrossEntropyLoss()```. <br>\n",
        "BE CAREFUL: ```nn.CrossEntropyLoss()``` is **softmax + negative log loss**, which means you have to pass score BEFORE softmax. <br>\n",
        "If you want to use softmax function, then ```nn.NLLLoss()``` is the right choice. <br>\n",
        "For more loss functions, see official documents [Loss functions](https://pytorch.org/docs/stable/nn.html#loss-functions)"
      ]
    },
    {
      "cell_type": "code",
      "metadata": {
        "id": "9HrXEpm41mYe"
      },
      "source": [
        "learning_rate = 0.01\n",
        "\n",
        "criterion = nn.CrossEntropyLoss()\n",
        "optimizer = torch.optim.SGD(model.parameters(), lr=learning_rate)"
      ],
      "execution_count": null,
      "outputs": []
    },
    {
      "cell_type": "code",
      "metadata": {
        "id": "eZtrplPt1mYh",
        "outputId": "25add938-e59a-47ae-b9a7-347de2c4af33",
        "colab": {
          "base_uri": "https://localhost:8080/",
          "height": 34
        }
      },
      "source": [
        "# Clear gradient to zero!\n",
        "optimizer.zero_grad()\n",
        "\n",
        "# Model output\n",
        "out = model(x)\n",
        "\n",
        "# Calculate loss\n",
        "loss = criterion(out, y)\n",
        "print(f'loss = {loss}')"
      ],
      "execution_count": null,
      "outputs": [
        {
          "output_type": "stream",
          "text": [
            "loss = 1.634621024131775\n"
          ],
          "name": "stdout"
        }
      ]
    },
    {
      "cell_type": "code",
      "metadata": {
        "id": "BXuL0Y3M1mYj"
      },
      "source": [
        "# Compute gradient\n",
        "loss.backward()\n",
        "\n",
        "# Update weight\n",
        "optimizer.step()"
      ],
      "execution_count": null,
      "outputs": []
    },
    {
      "cell_type": "markdown",
      "metadata": {
        "id": "ZxMUksmi1mYl"
      },
      "source": [
        "## PyTorch Tensor to Numpy"
      ]
    },
    {
      "cell_type": "code",
      "metadata": {
        "id": "bBpGTLhO1mYl",
        "outputId": "39fdd9a0-cbcb-42e2-9730-0bc2a3409d4f",
        "colab": {
          "base_uri": "https://localhost:8080/",
          "height": 68
        }
      },
      "source": [
        "print(out.device)\n",
        "\n",
        "out_cpu = out.detach().cpu()\n",
        "print(out_cpu.device)\n",
        "\n",
        "out_numpy = out_cpu.numpy()\n",
        "print(type(out_numpy))"
      ],
      "execution_count": null,
      "outputs": [
        {
          "output_type": "stream",
          "text": [
            "cuda:0\n",
            "cpu\n",
            "<class 'numpy.ndarray'>\n"
          ],
          "name": "stdout"
        }
      ]
    },
    {
      "cell_type": "code",
      "metadata": {
        "id": "0EIZWe8G1mYn",
        "outputId": "da9aefb0-2baf-4cdd-a6d5-4d0d268ba36b",
        "colab": {
          "base_uri": "https://localhost:8080/",
          "height": 51
        }
      },
      "source": [
        "pred = out_numpy.argmax(-1)\n",
        "print(f'output: {out_numpy[0]}')\n",
        "print(f'prediction: {pred[0]}')"
      ],
      "execution_count": null,
      "outputs": [
        {
          "output_type": "stream",
          "text": [
            "output: [ 0.02061159 -0.06234899 -0.3941541   0.15722708  0.03442803]\n",
            "prediction: 3\n"
          ],
          "name": "stdout"
        }
      ]
    },
    {
      "cell_type": "markdown",
      "metadata": {
        "id": "6jRfGPTr1mYp"
      },
      "source": [
        "# Conclusion\n",
        "So far, we have briefly looked at essence of PyTorch. <br>\n",
        "Hoping that it helped you start your project, we provide several great PyTorch tutorials to check. <br>\n",
        "Good luck! <br>\n",
        "\n",
        "- [PyTorch Official Tutorial](https://pytorch.org/tutorials/beginner/deep_learning_60min_blitz.html)\n",
        "- [Tutorial by Yunjey Choi](https://github.com/yunjey/pytorch-tutorial)\n",
        "- [Tutorial by morvanzhou](https://github.com/MorvanZhou/PyTorch-Tutorial)\n",
        "- [모두를 위한 딥러닝 시즌2](https://github.com/deeplearningzerotoall/PyTorch)"
      ]
    },
    {
      "cell_type": "code",
      "metadata": {
        "id": "6ix6Df-51mYq"
      },
      "source": [
        ""
      ],
      "execution_count": null,
      "outputs": []
    }
  ]
}