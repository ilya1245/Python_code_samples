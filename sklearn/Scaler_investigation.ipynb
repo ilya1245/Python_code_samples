{
 "cells": [
  {
   "cell_type": "code",
   "execution_count": 1,
   "metadata": {
    "id": "HvHefjfqjYbN"
   },
   "outputs": [],
   "source": [
    "from sklearn.datasets import load_breast_cancer\r\n",
    "from sklearn.model_selection import train_test_split\r\n",
    "from sklearn.preprocessing import StandardScaler\r\n",
    "import numpy as np"
   ]
  },
  {
   "cell_type": "code",
   "execution_count": 2,
   "metadata": {
    "colab": {
     "base_uri": "https://localhost:8080/"
    },
    "id": "ERRjwpsBjuNw",
    "outputId": "841f4559-41dd-43d2-e643-499e45f05d2d"
   },
   "outputs": [
    {
     "data": {
      "text/plain": [
       "sklearn.utils.Bunch"
      ]
     },
     "execution_count": 2,
     "metadata": {},
     "output_type": "execute_result"
    }
   ],
   "source": [
    "# load the data\r\n",
    "data = load_breast_cancer()\r\n",
    "# check the type of 'data'\r\n",
    "type(data)"
   ]
  },
  {
   "cell_type": "code",
   "execution_count": 3,
   "metadata": {
    "colab": {
     "base_uri": "https://localhost:8080/"
    },
    "id": "GKoz1CpilMje",
    "outputId": "5435a28d-1346-43e5-9a6e-dba1d6c0771d"
   },
   "outputs": [
    {
     "data": {
      "text/plain": [
       "dict_keys(['data', 'target', 'frame', 'target_names', 'DESCR', 'feature_names', 'filename'])"
      ]
     },
     "execution_count": 3,
     "metadata": {},
     "output_type": "execute_result"
    }
   ],
   "source": [
    "# note: it is a Bunch object\r\n",
    "# this basically acts like a dictionary where you can treat the keys like attributes\r\n",
    "data.keys()"
   ]
  },
  {
   "cell_type": "code",
   "execution_count": 4,
   "metadata": {
    "colab": {
     "base_uri": "https://localhost:8080/"
    },
    "id": "ZFNhISlblUmB",
    "outputId": "a3dc0843-6eb0-45c6-d3aa-312a5895cf6a"
   },
   "outputs": [
    {
     "data": {
      "text/plain": [
       "(569, 30)"
      ]
     },
     "execution_count": 4,
     "metadata": {},
     "output_type": "execute_result"
    }
   ],
   "source": [
    "# 'data' (the attribute) means the input data\r\n",
    "data.data.shape\r\n",
    "# it has 569 samples, 30 features"
   ]
  },
  {
   "cell_type": "code",
   "execution_count": 5,
   "metadata": {
    "colab": {
     "base_uri": "https://localhost:8080/"
    },
    "id": "7vyn8aiPlUo_",
    "outputId": "57c0e93b-3cad-428e-89bf-86d6cdd30260"
   },
   "outputs": [
    {
     "data": {
      "text/plain": [
       "array([0, 0, 0, 0, 0, 0, 0, 0, 0, 0, 0, 0, 0, 0, 0, 0, 0, 0, 0, 1, 1, 1,\n       0, 0, 0, 0, 0, 0, 0, 0, 0, 0, 0, 0, 0, 0, 0, 1, 0, 0, 0, 0, 0, 0,\n       0, 0, 1, 0, 1, 1, 1, 1, 1, 0, 0, 1, 0, 0, 1, 1, 1, 1, 0, 1, 0, 0,\n       1, 1, 1, 1, 0, 1, 0, 0, 1, 0, 1, 0, 0, 1, 1, 1, 0, 0, 1, 0, 0, 0,\n       1, 1, 1, 0, 1, 1, 0, 0, 1, 1, 1, 0, 0, 1, 1, 1, 1, 0, 1, 1, 0, 1,\n       1, 1, 1, 1, 1, 1, 1, 0, 0, 0, 1, 0, 0, 1, 1, 1, 0, 0, 1, 0, 1, 0,\n       0, 1, 0, 0, 1, 1, 0, 1, 1, 0, 1, 1, 1, 1, 0, 1, 1, 1, 1, 1, 1, 1,\n       1, 1, 0, 1, 1, 1, 1, 0, 0, 1, 0, 1, 1, 0, 0, 1, 1, 0, 0, 1, 1, 1,\n       1, 0, 1, 1, 0, 0, 0, 1, 0, 1, 0, 1, 1, 1, 0, 1, 1, 0, 0, 1, 0, 0,\n       0, 0, 1, 0, 0, 0, 1, 0, 1, 0, 1, 1, 0, 1, 0, 0, 0, 0, 1, 1, 0, 0,\n       1, 1, 1, 0, 1, 1, 1, 1, 1, 0, 0, 1, 1, 0, 1, 1, 0, 0, 1, 0, 1, 1,\n       1, 1, 0, 1, 1, 1, 1, 1, 0, 1, 0, 0, 0, 0, 0, 0, 0, 0, 0, 0, 0, 0,\n       0, 0, 1, 1, 1, 1, 1, 1, 0, 1, 0, 1, 1, 0, 1, 1, 0, 1, 0, 0, 1, 1,\n       1, 1, 1, 1, 1, 1, 1, 1, 1, 1, 1, 0, 1, 1, 0, 1, 0, 1, 1, 1, 1, 1,\n       1, 1, 1, 1, 1, 1, 1, 1, 1, 0, 1, 1, 1, 0, 1, 0, 1, 1, 1, 1, 0, 0,\n       0, 1, 1, 1, 1, 0, 1, 0, 1, 0, 1, 1, 1, 0, 1, 1, 1, 1, 1, 1, 1, 0,\n       0, 0, 1, 1, 1, 1, 1, 1, 1, 1, 1, 1, 1, 0, 0, 1, 0, 0, 0, 1, 0, 0,\n       1, 1, 1, 1, 1, 0, 1, 1, 1, 1, 1, 0, 1, 1, 1, 0, 1, 1, 0, 0, 1, 1,\n       1, 1, 1, 1, 0, 1, 1, 1, 1, 1, 1, 1, 0, 1, 1, 1, 1, 1, 0, 1, 1, 0,\n       1, 1, 1, 1, 1, 1, 1, 1, 1, 1, 1, 1, 0, 1, 0, 0, 1, 0, 1, 1, 1, 1,\n       1, 0, 1, 1, 0, 1, 0, 1, 1, 0, 1, 0, 1, 1, 1, 1, 1, 1, 1, 1, 0, 0,\n       1, 1, 1, 1, 1, 1, 0, 1, 1, 1, 1, 1, 1, 1, 1, 1, 1, 0, 1, 1, 1, 1,\n       1, 1, 1, 0, 1, 0, 1, 1, 0, 1, 1, 1, 1, 1, 0, 0, 1, 0, 1, 0, 1, 1,\n       1, 1, 1, 0, 1, 1, 0, 1, 0, 1, 0, 0, 1, 1, 1, 0, 1, 1, 1, 1, 1, 1,\n       1, 1, 1, 1, 1, 0, 1, 0, 0, 1, 1, 1, 1, 1, 1, 1, 1, 1, 1, 1, 1, 1,\n       1, 1, 1, 1, 1, 1, 1, 1, 1, 1, 1, 1, 0, 0, 0, 0, 0, 0, 1])"
      ]
     },
     "execution_count": 5,
     "metadata": {},
     "output_type": "execute_result"
    }
   ],
   "source": [
    "# 'targets'\r\n",
    "data.target\r\n",
    "# note how the targets are just 0s and 1s\r\n",
    "# normally, when you have K targets, they are labeled 0..K-1"
   ]
  },
  {
   "cell_type": "code",
   "execution_count": 6,
   "metadata": {
    "colab": {
     "base_uri": "https://localhost:8080/"
    },
    "id": "JsCLH0aJlUr3",
    "outputId": "ad979f27-3a04-42f3-acbc-e27daf11e5fb"
   },
   "outputs": [
    {
     "data": {
      "text/plain": [
       "array(['malignant', 'benign'], dtype='<U9')"
      ]
     },
     "execution_count": 6,
     "metadata": {},
     "output_type": "execute_result"
    }
   ],
   "source": [
    "# their meaning is not lost\r\n",
    "data.target_names"
   ]
  },
  {
   "cell_type": "code",
   "execution_count": 7,
   "metadata": {
    "colab": {
     "base_uri": "https://localhost:8080/"
    },
    "id": "8TDO_jPXlaxO",
    "outputId": "0647a1e1-5d45-4c46-9a5d-e372796652f0"
   },
   "outputs": [
    {
     "data": {
      "text/plain": [
       "(569,)"
      ]
     },
     "execution_count": 7,
     "metadata": {},
     "output_type": "execute_result"
    }
   ],
   "source": [
    "# there are also 569 corresponding targets\r\n",
    "data.target.shape"
   ]
  },
  {
   "cell_type": "code",
   "execution_count": 8,
   "metadata": {
    "colab": {
     "base_uri": "https://localhost:8080/"
    },
    "id": "CBCAuLT1la7u",
    "outputId": "acf82ab5-d226-4be9-dfc1-2952d42c8de7"
   },
   "outputs": [
    {
     "data": {
      "text/plain": [
       "array(['mean radius', 'mean texture', 'mean perimeter', 'mean area',\n       'mean smoothness', 'mean compactness', 'mean concavity',\n       'mean concave points', 'mean symmetry', 'mean fractal dimension',\n       'radius error', 'texture error', 'perimeter error', 'area error',\n       'smoothness error', 'compactness error', 'concavity error',\n       'concave points error', 'symmetry error',\n       'fractal dimension error', 'worst radius', 'worst texture',\n       'worst perimeter', 'worst area', 'worst smoothness',\n       'worst compactness', 'worst concavity', 'worst concave points',\n       'worst symmetry', 'worst fractal dimension'], dtype='<U23')"
      ]
     },
     "execution_count": 8,
     "metadata": {},
     "output_type": "execute_result"
    }
   ],
   "source": [
    "# you can also determine the meaning of each feature\r\n",
    "data.feature_names"
   ]
  },
  {
   "cell_type": "code",
   "execution_count": 9,
   "metadata": {
    "id": "X4LohAc-l7aN"
   },
   "outputs": [],
   "source": [
    "# X_train, X_test, y_train, y_test = train_test_split(data.data, data.target, test_size=0.33)\r\n",
    "# N, D = X_train.shape"
   ]
  },
  {
   "cell_type": "code",
   "execution_count": 10,
   "metadata": {
    "colab": {
     "base_uri": "https://localhost:8080/"
    },
    "id": "ULAhkQ8Ol7dH",
    "outputId": "50a28250-a12b-4c9c-a3dc-7d0246d9039b"
   },
   "outputs": [
    {
     "name": "stdout",
     "output_type": "stream",
     "text": [
      "Before scaling\nX_train: min 0.0, max 4254.0, mean 62.519100407287844, std 230.67458699046028\nX_test: min = 0.0, max 3216.0, mean 60.617223755372336, std 223.39683472910164\nAfter scaling\nX_train: min -3.035435035610804, max 10.10418865051444, mean -8.703060630482416e-17, std 0.9999999999999999\nX_test: min = -2.6729908889091494, max 14.938577087111412, mean -0.060951691894148445, std 0.9770635861161499\n\nBefore scaling\nX_train: min 0.0, max 3432.0, mean 60.93568072609799, std 221.9971169984755\nX_test: min = 0.0, max 4254.0, mean 63.826175343315604, std 240.5484002862403\nAfter scaling\nX_train: min -3.0775186660488862, max 12.48515096025033, mean -1.7406121260964835e-17, std 1.0\nX_test: min = -2.3114815137730287, max 11.88654533009795, mean 0.03383365395372047, std 1.0379765351714945\n\nBefore scaling\nX_train: min 0.0, max 3234.0, mean 61.70971523923885, std 228.15566207912755\nX_test: min = 0.0, max 4254.0, mean 62.257520292748225, std 228.58395176530632\nAfter scaling\nX_train: min -3.0163276373632497, max 11.088766854318925, mean -1.2432943757832025e-17, std 1.0\nX_test: min = -2.6766185332082753, max 11.467923375299755, mean -0.029483251066069378, std 0.9226352535048512\n\nBefore scaling\nX_train: min 0.0, max 4254.0, mean 63.030894995030614, std 233.86948637745175\nX_test: min = 0.0, max 2944.0, mean 59.58002302170213, std 216.54740380211334\nAfter scaling\nX_train: min -3.0350443239656353, max 10.835732422661854, mean -2.1881981013784362e-16, std 0.9999999999999999\nX_test: min = -2.1142495612444225, max 7.2978523946272125, mean -0.07548874805839725, std 0.9070031791353669\n\nBefore scaling\nX_train: min 0.0, max 4254.0, mean 61.38040108589676, std 224.5102996098051\nX_test: min = 0.0, max 3432.0, mean 62.924906954574475, std 235.7824762705589\nAfter scaling\nX_train: min -3.00132507962175, max 11.125862296691455, mean -2.586052301629061e-16, std 1.0\nX_test: min = -2.5932072789198366, max 8.894807516811358, mean -0.029597547913587867, std 0.9856858427697348\n\n"
     ]
    }
   ],
   "source": [
    "# Use scaler's fit_transform, then use transform to keep the scale params\n",
    "\n",
    "scaler = StandardScaler()\r\n",
    "\r\n",
    "for i in range(5):\r\n",
    "    X_train, X_test, y_train, y_test = train_test_split(data.data, data.target, test_size=0.33)\r\n",
    "    print('Before scaling')\r\n",
    "    print(f'X_train: min {np.min(X_train)}, max {np.max(X_train)}, mean {np.mean(X_train)}, std {np.std(X_train)}')\r\n",
    "    print(f'X_test: min = {np.min(X_test)}, max {np.max(X_test)}, mean {np.mean(X_test)}, std {np.std(X_test)}')\r\n",
    "    \r\n",
    "    print('After scaling')\r\n",
    "    X_train = scaler.fit_transform(X_train)\r\n",
    "    X_test = scaler.transform(X_test)\r\n",
    "    print(f'X_train: min {np.min(X_train)}, max {np.max(X_train)}, mean {np.mean(X_train)}, std {np.std(X_train)}')\r\n",
    "    print(f'X_test: min = {np.min(X_test)}, max {np.max(X_test)}, mean {np.mean(X_test)}, std {np.std(X_test)}')\r\n",
    "    print()"
   ]
  },
  {
   "cell_type": "code",
   "execution_count": null,
   "metadata": {
    "id": "Hu3A1vGLsvMc"
   },
   "outputs": [],
   "source": [
    ""
   ]
  },
  {
   "cell_type": "code",
   "execution_count": null,
   "metadata": {
    "id": "o3O8f0TjsvPR"
   },
   "outputs": [],
   "source": [
    ""
   ]
  },
  {
   "cell_type": "code",
   "execution_count": 69,
   "metadata": {
    "id": "IpXV6T6IlUuW"
   },
   "outputs": [],
   "source": [
    ""
   ]
  },
  {
   "cell_type": "code",
   "execution_count": 69,
   "metadata": {
    "id": "vbOHH7FelUxH"
   },
   "outputs": [],
   "source": [
    ""
   ]
  }
 ],
 "metadata": {
  "colab": {
   "name": "Scaler investigation.ipynb",
   "provenance": [],
   "collapsed_sections": []
  },
  "kernelspec": {
   "name": "python3",
   "display_name": "Python 3"
  }
 },
 "nbformat": 4,
 "nbformat_minor": 0
}
