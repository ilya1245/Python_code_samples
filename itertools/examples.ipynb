{
 "cells": [
  {
   "cell_type": "code",
   "execution_count": 1,
   "metadata": {
    "collapsed": true
   },
   "outputs": [],
   "source": [
    "import itertools"
   ]
  },
  {
   "cell_type": "code",
   "execution_count": 10,
   "metadata": {},
   "outputs": [
    {
     "name": "stdout",
     "output_type": "stream",
     "text": [
      "<itertools.product object at 0x000001A8F7E87368>\n"
     ]
    },
    {
     "data": {
      "text/plain": [
       "[[0, 0, 0],\n [0, 0, 1],\n [0, 0, 2],\n [0, 1, 0],\n [0, 1, 1],\n [0, 1, 2],\n [0, 2, 0],\n [0, 2, 1],\n [0, 2, 2],\n [1, 0, 0],\n [1, 0, 1],\n [1, 0, 2],\n [1, 1, 0],\n [1, 1, 1],\n [1, 1, 2],\n [1, 2, 0],\n [1, 2, 1],\n [1, 2, 2],\n [2, 0, 0],\n [2, 0, 1],\n [2, 0, 2],\n [2, 1, 0],\n [2, 1, 1],\n [2, 1, 2],\n [2, 2, 0],\n [2, 2, 1],\n [2, 2, 2]]"
      ]
     },
     "execution_count": 10,
     "metadata": {},
     "output_type": "execute_result"
    }
   ],
   "source": [
    "# [0, 1, 5] describes all variants for a number in a row\n",
    "# repeat=4 - quantity of numbers in a row\n",
    "ip = itertools.product([0, 1, 2], repeat=3)\n",
    "print(ip)\n",
    "list(map(list, ip))"
   ]
  },
  {
   "cell_type": "code",
   "execution_count": 11,
   "metadata": {},
   "outputs": [
    {
     "data": {
      "text/plain": [
       "[['q', 'q'],\n ['q', 'w'],\n ['q', 'e'],\n ['w', 'q'],\n ['w', 'w'],\n ['w', 'e'],\n ['e', 'q'],\n ['e', 'w'],\n ['e', 'e']]"
      ]
     },
     "execution_count": 11,
     "metadata": {},
     "output_type": "execute_result"
    }
   ],
   "source": [
    "# the same works with strings\n",
    "ip = itertools.product(['q', 'w', 'e'], repeat=2)\n",
    "list(map(list, ip))"
   ]
  },
  {
   "cell_type": "code",
   "execution_count": null,
   "metadata": {},
   "outputs": [],
   "source": []
  }
 ],
 "metadata": {
  "kernelspec": {
   "display_name": "Python 2",
   "language": "python",
   "name": "python2"
  },
  "language_info": {
   "codemirror_mode": {
    "name": "ipython",
    "version": 2
   },
   "file_extension": ".py",
   "mimetype": "text/x-python",
   "name": "python",
   "nbconvert_exporter": "python",
   "pygments_lexer": "ipython2",
   "version": "2.7.6"
  }
 },
 "nbformat": 4,
 "nbformat_minor": 0
}
