{
 "cells": [
  {
   "cell_type": "markdown",
   "metadata": {
    "id": "OsUgBnO5vLBU"
   },
   "source": [
    "## Q-learning (3 points)\n",
    "\n",
    "This notebook will guide you through implementation of vanilla Q-learning algorithm.\n",
    "\n",
    "You need to implement QLearningAgent (follow instructions for each method) and use it on a number of tests below."
   ]
  },
  {
   "cell_type": "code",
   "execution_count": 166,
   "metadata": {
    "id": "b2Wc1AM5vLBa"
   },
   "outputs": [],
   "source": [
    "import sys, os\n",
    "if 'google.colab' in sys.modules and not os.path.exists('.setup_complete'):\n",
    "    !wget -q https://raw.githubusercontent.com/yandexdataschool/Practical_RL/master/setup_colab.sh -O- | bash\n",
    "\n",
    "    !touch .setup_complete\n",
    "\n",
    "# This code creates a virtual display to draw game images on.\n",
    "# It will have no effect if your machine has a monitor.\n",
    "if type(os.environ.get(\"DISPLAY\")) is not str or len(os.environ.get(\"DISPLAY\")) == 0:\n",
    "    !bash ../xvfb start\n",
    "    os.environ['DISPLAY'] = ':1'"
   ]
  },
  {
   "cell_type": "code",
   "execution_count": 167,
   "metadata": {
    "id": "VySM3cKAvLBb"
   },
   "outputs": [],
   "source": [
    "import numpy as np\n",
    "import matplotlib.pyplot as plt\n",
    "\n",
    "from qlearning_agent import QLearningAgent\n",
    "\n",
    "%matplotlib inline\n"
   ]
  },
  {
   "cell_type": "code",
   "execution_count": 168,
   "metadata": {
    "id": "ymXXS078vLBc"
   },
   "outputs": [
    {
     "data": {
      "text/plain": [
       "2"
      ]
     },
     "execution_count": 168,
     "metadata": {},
     "output_type": "execute_result"
    }
   ],
   "source": [
    "import gym\n",
    "env = gym.make(\"CartPole-v0\")\n",
    "\n",
    "n_actions = env.action_space.n\n",
    "n_actions"
   ]
  },
  {
   "cell_type": "code",
   "execution_count": 169,
   "metadata": {},
   "outputs": [
    {
     "name": "stdout",
     "output_type": "stream",
     "text": [
      "(4,)\n",
      "<class 'numpy.ndarray'>\n"
     ]
    }
   ],
   "source": [
    "s = env.reset()\n",
    "print(s.shape)\n",
    "print(type(s))\n",
    "# print(s)\n",
    "# print(np.delete(s, 0))\n",
    "# print(s)\n",
    "# s = np.delete(s, 0)\n",
    "# print(s)"
   ]
  },
  {
   "cell_type": "code",
   "execution_count": 170,
   "metadata": {
    "id": "bBBRseSSvLBd"
   },
   "outputs": [],
   "source": [
    "def play_and_train_on_episode(env, agent, t_max=10**4):\n",
    "    \"\"\"\n",
    "    This function should \n",
    "    - run a full game, actions given by agent's e-greedy policy\n",
    "    - train agent using agent.update(...) whenever it is possible\n",
    "    - return total reward\n",
    "    \"\"\"\n",
    "    total_reward = 0.0\n",
    "    s = env.reset()\n",
    "    \n",
    "    turns = 0\n",
    "    \n",
    "    for t in range(t_max):\n",
    "        turns += 1\n",
    "        # get agent to pick action given state s.\n",
    "        a = agent.get_action(s)\n",
    "\n",
    "        next_s, r, done, _ = env.step(a)\n",
    "\n",
    "        # train (update) agent for state s\n",
    "#         r *= (1 - s[1]*s[1])\n",
    "        r -= (np.sqrt(abs(s[1])) + np.sqrt(abs(s[2])) + abs(s[0]/10))\n",
    "#         r -= (np.sqrt(abs(s[2])) + abs(s[0]))\n",
    "#         r -= (np.sqrt(abs(s[2])) + abs(s[0]/10))\n",
    "#         r -= np.sqrt(abs(s[1]))\n",
    "#         r -= np.sqrt(abs(s[2]))\n",
    "    \n",
    "#         r -= (abs(s[1]) + abs(s[2]))\n",
    "        agent.update(s, a, r, next_s)\n",
    "\n",
    "        s = next_s\n",
    "        total_reward += r\n",
    "        if done:\n",
    "            break\n",
    "\n",
    "    return total_reward, turns"
   ]
  },
  {
   "cell_type": "code",
   "execution_count": 171,
   "metadata": {},
   "outputs": [
    {
     "data": {
      "text/plain": [
       "<TimeLimit<CartPoleEnv<CartPole-v0>>>"
      ]
     },
     "execution_count": 171,
     "metadata": {},
     "output_type": "execute_result"
    }
   ],
   "source": [
    "env\n",
    "# agent"
   ]
  },
  {
   "cell_type": "code",
   "execution_count": 172,
   "metadata": {},
   "outputs": [],
   "source": [
    "from gym.core import ObservationWrapper, RewardWrapper\n",
    "\n",
    "\n",
    "class Binarizer(ObservationWrapper):\n",
    "    def observation(self, state):\n",
    "        # Hint: you can do that with round(x, n_digits).\n",
    "        # You may pick a different n_digits for each dimension.\n",
    "        # ['Cart Position', 'Cart Velocity', 'Pole Angle', 'Pole Velocity At Tip']\n",
    "        \n",
    "        state = np.delete(state, 0)\n",
    "        state[0] = np.round(state[0], 1)\n",
    "        state[1] = np.round(state[1], 1)\n",
    "        state[2] = np.round(state[2], 1) \n",
    "\n",
    "        return tuple(state)"
   ]
  },
  {
   "cell_type": "code",
   "execution_count": 173,
   "metadata": {},
   "outputs": [],
   "source": [
    "# class TransformReward(RewardWrapper):\n",
    "    "
   ]
  },
  {
   "cell_type": "code",
   "execution_count": 174,
   "metadata": {},
   "outputs": [],
   "source": [
    "env = Binarizer(gym.make('CartPole-v0').env)"
   ]
  },
  {
   "cell_type": "code",
   "execution_count": 175,
   "metadata": {
    "id": "fm-RScWTvLBd"
   },
   "outputs": [
    {
     "name": "stdout",
     "output_type": "stream",
     "text": [
      "0.00025 0.99\n"
     ]
    }
   ],
   "source": [
    "ALFA_START = 0.5\n",
    "ALFA_END = 0.25\n",
    "EPSILON_START = 0.4\n",
    "EPSILON_END = 0.0001\n",
    "EPSILON_DISCOUNT = 0.99\n",
    "EPISODES = 1000\n",
    "\n",
    "alfa_discount = (ALFA_START - ALFA_END)/EPISODES\n",
    "# epsilon_discount = (EPSILON_START - EPSILON_END)/EPISODES\n",
    "epsilon_discount = EPSILON_DISCOUNT\n",
    "print(alfa_discount, epsilon_discount)\n",
    "\n",
    "\n",
    "agent = QLearningAgent(\n",
    "    alpha=ALFA, epsilon=EPSILON_START, discount=0.99,\n",
    "    get_legal_actions=lambda s: range(n_actions))"
   ]
  },
  {
   "cell_type": "code",
   "execution_count": null,
   "metadata": {},
   "outputs": [],
   "source": []
  },
  {
   "cell_type": "code",
   "execution_count": 176,
   "metadata": {
    "colab": {
     "base_uri": "https://localhost:8080/",
     "height": 281
    },
    "id": "73XWfYyqvLBd",
    "outputId": "db236f51-76cd-4466-97da-3555b49abf83"
   },
   "outputs": [
    {
     "data": {
      "image/png": "[encoded data removed]",
      "text/plain": [
       "<Figure size 432x288 with 1 Axes>"
      ]
     },
     "metadata": {
      "needs_background": "light"
     },
     "output_type": "display_data"
    }
   ],
   "source": [
    "from IPython.display import clear_output\n",
    "\n",
    "rewards = []\n",
    "turns = []\n",
    "for i in range(EPISODES):\n",
    "    rewards.append(play_and_train_on_episode(env, agent)[0])\n",
    "    turns.append(play_and_train_on_episode(env, agent)[1])\n",
    "    agent.epsilon *= epsilon_discount\n",
    "    agent.alpha -= alfa_discount\n",
    "\n",
    "    if i % 10 == 0:\n",
    "        clear_output(True)\n",
    "        plt.title('alpha = {:.5f}, eps = {:.1e}, reward = {:.1f}, turns = {:.1f}'.format(agent.alpha, agent.epsilon, np.mean(rewards[-10:]), np.mean(turns[-10:])))\n",
    "        plt.plot(rewards)\n",
    "        plt.plot(turns)\n",
    "        plt.show()"
   ]
  },
  {
   "cell_type": "code",
   "execution_count": null,
   "metadata": {},
   "outputs": [],
   "source": [
    "s = env.reset()\n",
    "\n",
    "done = False\n",
    "while not done:\n",
    "    env.render()\n",
    "    a = agent.get_best_action(s)   \n",
    "    new_s, r, done, info = env.step(a)\n",
    "#     print(a, r)\n",
    "    s = new_s\n",
    "print(s, a)     "
   ]
  },
  {
   "cell_type": "code",
   "execution_count": null,
   "metadata": {},
   "outputs": [],
   "source": [
    "# agent._qvalues"
   ]
  },
  {
   "cell_type": "code",
   "execution_count": null,
   "metadata": {},
   "outputs": [],
   "source": []
  }
 ],
 "metadata": {
  "colab": {
   "collapsed_sections": [],
   "name": "seminar_qlearning.ipynb",
   "provenance": []
  },
  "kernelspec": {
   "display_name": "Python 3",
   "language": "python",
   "name": "python3"
  },
  "language_info": {
   "codemirror_mode": {
    "name": "ipython",
    "version": 3
   },
   "file_extension": ".py",
   "mimetype": "text/x-python",
   "name": "python",
   "nbconvert_exporter": "python",
   "pygments_lexer": "ipython3",
   "version": "3.7.7"
  }
 },
 "nbformat": 4,
 "nbformat_minor": 1
}
