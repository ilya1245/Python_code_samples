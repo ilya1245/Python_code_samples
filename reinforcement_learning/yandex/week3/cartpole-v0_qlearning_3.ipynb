{
 "cells": [
  {
   "cell_type": "markdown",
   "metadata": {
    "id": "OsUgBnO5vLBU"
   },
   "source": [
    "## Q-learning (3 points)\n",
    "\n",
    "This notebook will guide you through implementation of vanilla Q-learning algorithm.\n",
    "\n",
    "You need to implement QLearningAgent (follow instructions for each method) and use it on a number of tests below."
   ]
  },
  {
   "cell_type": "code",
   "execution_count": 710,
   "metadata": {
    "id": "b2Wc1AM5vLBa"
   },
   "outputs": [],
   "source": [
    "import sys, os\n",
    "if 'google.colab' in sys.modules and not os.path.exists('.setup_complete'):\n",
    "    !wget -q https://raw.githubusercontent.com/yandexdataschool/Practical_RL/master/setup_colab.sh -O- | bash\n",
    "\n",
    "    !touch .setup_complete\n",
    "\n",
    "# This code creates a virtual display to draw game images on.\n",
    "# It will have no effect if your machine has a monitor.\n",
    "if type(os.environ.get(\"DISPLAY\")) is not str or len(os.environ.get(\"DISPLAY\")) == 0:\n",
    "    !bash ../xvfb start\n",
    "    os.environ['DISPLAY'] = ':1'"
   ]
  },
  {
   "cell_type": "code",
   "execution_count": 711,
   "metadata": {
    "id": "VySM3cKAvLBb"
   },
   "outputs": [],
   "source": [
    "import numpy as np\n",
    "import matplotlib.pyplot as plt\n",
    "\n",
    "from qlearning_agent import QLearningAgent\n",
    "\n",
    "%matplotlib inline\n"
   ]
  },
  {
   "cell_type": "code",
   "execution_count": 712,
   "metadata": {
    "id": "ymXXS078vLBc"
   },
   "outputs": [
    {
     "data": {
      "text/plain": [
       "2"
      ]
     },
     "execution_count": 712,
     "metadata": {},
     "output_type": "execute_result"
    }
   ],
   "source": [
    "import gym\n",
    "env = gym.make(\"CartPole-v0\")\n",
    "\n",
    "n_actions = env.action_space.n\n",
    "n_actions"
   ]
  },
  {
   "cell_type": "code",
   "execution_count": 713,
   "metadata": {},
   "outputs": [
    {
     "name": "stdout",
     "output_type": "stream",
     "text": [
      "(4,)\n",
      "<class 'numpy.ndarray'>\n"
     ]
    }
   ],
   "source": [
    "s = env.reset()\n",
    "print(s.shape)\n",
    "print(type(s))\n",
    "# print(s)\n",
    "# print(np.delete(s, 0))\n",
    "# print(s)\n",
    "# s = np.delete(s, 0)\n",
    "# print(s)"
   ]
  },
  {
   "cell_type": "code",
   "execution_count": 714,
   "metadata": {
    "id": "bBBRseSSvLBd"
   },
   "outputs": [],
   "source": [
    "import math \n",
    "def play_and_train_on_episode(env, agent, t_max=10**4):\n",
    "    \"\"\"\n",
    "    This function should \n",
    "    - run a full game, actions given by agent's e-greedy policy\n",
    "    - train agent using agent.update(...) whenever it is possible\n",
    "    - return total reward\n",
    "    \"\"\"\n",
    "    total_reward = 0.0\n",
    "    s = env.reset()\n",
    "    \n",
    "    turns = 0\n",
    "    \n",
    "    for t in range(t_max):\n",
    "        turns += 1\n",
    "        # get agent to pick action given state s.\n",
    "        a = agent.get_action(s)\n",
    "\n",
    "        next_s, r, done, _ = env.step(a)\n",
    "\n",
    "        # train (update) agent for state s\n",
    "#         r *= (1 - s[1]*s[1])\n",
    "\n",
    "#         r -= np.sqrt(abs(s[1])) + np.sqrt(abs(s[2])) + abs(s[0]/10)\n",
    "        r -= abs(s[0]/10) + abs(s[1]/10) + 5*np.sqrt(abs(s[2])) + np.sqrt(abs(s[3]))\n",
    "#         r -= (s[0]/2 - s[2])**2 + 0.1*(s[1] - s[3])**2\n",
    "#         r -= abs(s[2]*5 - s[3]) # + abs(s[0]/10)\n",
    "#         r -= abs(s[2])*10 + (s[1] - s[3])**2 + abs(s[0]/10)\n",
    "\n",
    "#         r -= (np.sqrt(abs(s[2])) + np.sqrt(abs(s[3])) + abs(s[1]/10))\n",
    "        \n",
    "#         r -= (np.sqrt(abs(s[2])) + abs(s[0]))\n",
    "#         r -= (np.sqrt(abs(s[2])) + abs(s[0]/10))\n",
    "#         r -= np.sqrt(abs(s[1]))\n",
    "#         r -= np.sqrt(abs(s[2]))\n",
    "    \n",
    "#         r -= (abs(s[1]) + abs(s[2]))\n",
    "        agent.update(s, a, r, next_s)\n",
    "\n",
    "        s = next_s\n",
    "        total_reward += r\n",
    "        if done:\n",
    "#             print(s, a)\n",
    "            break\n",
    "\n",
    "    return total_reward, turns"
   ]
  },
  {
   "cell_type": "code",
   "execution_count": 715,
   "metadata": {},
   "outputs": [
    {
     "data": {
      "text/plain": [
       "<TimeLimit<CartPoleEnv<CartPole-v0>>>"
      ]
     },
     "execution_count": 715,
     "metadata": {},
     "output_type": "execute_result"
    }
   ],
   "source": [
    "env\n",
    "# agent"
   ]
  },
  {
   "cell_type": "code",
   "execution_count": 716,
   "metadata": {},
   "outputs": [],
   "source": [
    "from gym.core import ObservationWrapper, RewardWrapper\n",
    "\n",
    "\n",
    "class Binarizer(ObservationWrapper):\n",
    "    def observation(self, state):\n",
    "        # Hint: you can do that with round(x, n_digits).\n",
    "        # You may pick a different n_digits for each dimension.\n",
    "        # ['Cart Position', 'Cart Velocity', 'Pole Angle', 'Pole Velocity At Tip']\n",
    "        \n",
    "#         state = np.delete(state, 0)\n",
    "#         state[0] = np.round(state[0], 1)\n",
    "#         state[1] = np.round(state[1], 1)\n",
    "#         state[2] = np.round(state[2], 1) \n",
    "        \n",
    "        state[0] = np.round(state[0], 1)\n",
    "        state[1] = np.round(state[1], 1)\n",
    "        state[2] = np.round(state[2], 1)\n",
    "        state[3] = np.round(state[3], 1)\n",
    "\n",
    "        return tuple(state)"
   ]
  },
  {
   "cell_type": "code",
   "execution_count": 717,
   "metadata": {},
   "outputs": [],
   "source": [
    "# class TransformReward(RewardWrapper):\n",
    "    "
   ]
  },
  {
   "cell_type": "code",
   "execution_count": 718,
   "metadata": {},
   "outputs": [],
   "source": [
    "env = Binarizer(gym.make('CartPole-v0').env)"
   ]
  },
  {
   "cell_type": "code",
   "execution_count": 719,
   "metadata": {
    "id": "fm-RScWTvLBd"
   },
   "outputs": [],
   "source": [
    "agent = QLearningAgent(\n",
    "    alpha=0.3, epsilon=0.4, discount=0.99,\n",
    "    get_legal_actions=lambda s: range(n_actions))"
   ]
  },
  {
   "cell_type": "code",
   "execution_count": null,
   "metadata": {},
   "outputs": [],
   "source": []
  },
  {
   "cell_type": "code",
   "execution_count": 720,
   "metadata": {
    "colab": {
     "base_uri": "https://localhost:8080/",
     "height": 281
    },
    "id": "73XWfYyqvLBd",
    "outputId": "db236f51-76cd-4466-97da-3555b49abf83"
   },
   "outputs": [
    {
     "data": {
      "image/png": "[encoded data removed]",
      "text/plain": [
       "<Figure size 432x288 with 1 Axes>"
      ]
     },
     "metadata": {
      "needs_background": "light"
     },
     "output_type": "display_data"
    }
   ],
   "source": [
    "from IPython.display import clear_output\n",
    "\n",
    "rewards = []\n",
    "turns = []\n",
    "for i in range(10000):\n",
    "    result = play_and_train_on_episode(env, agent)\n",
    "    rewards.append(result[0])\n",
    "    turns.append(result[1])\n",
    "    agent.epsilon *= 0.999\n",
    "#     agent.alpha -= 0.0001\n",
    "\n",
    "    if i % 10 == 0:\n",
    "        clear_output(True)\n",
    "        plt.title('alpha = {:.5f}, eps = {:.1e}, reward = {:.1f}, turns = {:.1f}'.format(agent.alpha, agent.epsilon, np.mean(rewards[-10:]), np.mean(turns[-10:])))\n",
    "        plt.plot(rewards)\n",
    "        plt.plot(turns)\n",
    "        plt.show()"
   ]
  },
  {
   "cell_type": "code",
   "execution_count": 721,
   "metadata": {},
   "outputs": [
    {
     "name": "stdout",
     "output_type": "stream",
     "text": [
      "(0.0, -0.0, 0.0, 0.0) 0\n",
      "(0.0, -0.2, 0.0, 0.3) 1\n",
      "(0.0, -0.0, 0.0, 0.0) 0\n",
      "(0.0, -0.2, 0.0, 0.3) 1\n",
      "(0.0, -0.0, 0.1, 0.1) 1\n",
      "(0.0, 0.1, 0.1, -0.2) 1\n",
      "(0.0, 0.3, 0.0, -0.5) 0\n",
      "(0.0, 0.1, 0.0, -0.2) 0\n",
      "(0.0, -0.1, 0.0, 0.1) 1\n",
      "(0.0, 0.1, 0.0, -0.2) 0\n",
      "(0.0, -0.1, 0.0, 0.2) 1\n",
      "(0.0, 0.1, 0.0, -0.1) 0\n",
      "(0.0, -0.1, 0.0, 0.2) 1\n",
      "(0.0, 0.1, 0.0, -0.1) 0\n",
      "(0.0, -0.1, 0.0, 0.2) 1\n",
      "(0.0, 0.1, 0.0, -0.1) 0\n",
      "(0.0, -0.1, 0.0, 0.2) 1\n",
      "(0.0, 0.1, 0.0, -0.1) 0\n",
      "(0.0, -0.1, 0.0, 0.2) 1\n",
      "(0.0, 0.1, 0.0, -0.0) 1\n",
      "(0.0, 0.3, 0.0, -0.3) 0\n",
      "(0.0, 0.1, 0.0, -0.0) 1\n",
      "(0.0, 0.3, 0.0, -0.3) 0\n",
      "(0.1, 0.1, 0.0, 0.0) 1\n",
      "(0.1, 0.3, 0.0, -0.3) 0\n",
      "(0.1, 0.1, 0.0, 0.0) 1\n",
      "(0.1, 0.3, 0.0, -0.2) 0\n",
      "(0.1, 0.1, 0.0, 0.1) 1\n",
      "(0.1, 0.3, 0.0, -0.2) 0\n",
      "(0.1, 0.1, 0.0, 0.1) 1\n",
      "(0.1, 0.3, 0.0, -0.2) 0\n",
      "(0.1, 0.1, 0.0, 0.1) 1\n",
      "(0.1, 0.3, 0.0, -0.2) 0\n",
      "(0.1, 0.1, 0.0, 0.1) 1\n",
      "(0.1, 0.3, 0.0, -0.2) 0\n",
      "(0.1, 0.1, 0.0, 0.1) 1\n",
      "(0.1, 0.3, 0.0, -0.2) 0\n",
      "(0.1, 0.1, 0.0, 0.1) 1\n",
      "(0.1, 0.3, 0.0, -0.2) 0\n",
      "(0.1, 0.1, 0.0, 0.1) 1\n",
      "(0.1, 0.3, 0.0, -0.1) 0\n",
      "(0.1, 0.1, 0.0, 0.2) 1\n",
      "(0.1, 0.3, 0.0, -0.1) 0\n",
      "(0.1, 0.1, 0.0, 0.2) 1\n",
      "(0.1, 0.3, 0.0, -0.1) 0\n",
      "(0.2, 0.1, 0.0, 0.2) 1\n",
      "(0.2, 0.3, 0.0, -0.1) 1\n",
      "(0.2, 0.5, 0.0, -0.4) 0\n",
      "(0.2, 0.3, 0.0, -0.1) 1\n",
      "(0.2, 0.5, 0.0, -0.4) 0\n",
      "(0.2, 0.3, -0.0, -0.1) 1\n",
      "(0.2, 0.5, -0.0, -0.4) 0\n",
      "(0.2, 0.3, -0.0, -0.1) 1\n",
      "(0.2, 0.5, -0.0, -0.4) 0\n",
      "(0.2, 0.3, -0.0, -0.1) 1\n",
      "(0.2, 0.5, -0.0, -0.4) 0\n",
      "(0.2, 0.3, -0.0, -0.1) 1\n",
      "(0.2, 0.5, -0.0, -0.4) 0\n",
      "(0.3, 0.3, -0.0, -0.1) 0\n",
      "(0.3, 0.1, -0.0, 0.1) 0\n",
      "(0.3, -0.1, -0.0, 0.4) 1\n",
      "(0.3, 0.1, -0.0, 0.1) 0\n",
      "(0.3, -0.1, -0.0, 0.4) 1\n",
      "(0.3, 0.1, -0.0, 0.1) 0\n",
      "(0.3, -0.1, -0.0, 0.4) 1\n",
      "(0.3, 0.1, -0.0, 0.1) 0\n",
      "(0.3, -0.1, -0.0, 0.4) 1\n",
      "(0.3, 0.1, -0.0, 0.1) 0\n",
      "(0.3, -0.1, -0.0, 0.3) 0\n",
      "(0.3, -0.3, 0.0, 0.6) 0\n",
      "(0.3, -0.5, 0.0, 0.9) 1\n",
      "(0.3, -0.3, 0.0, 0.6) 0\n",
      "(0.2, -0.5, 0.0, 0.9) 1\n",
      "(0.2, -0.3, 0.1, 0.7) 1\n",
      "(0.2, -0.1, 0.1, 0.4) 1\n",
      "(0.2, 0.1, 0.1, 0.1) 1\n",
      "(0.2, 0.3, 0.1, -0.1) 1\n",
      "(0.2, 0.5, 0.1, -0.4) 1\n",
      "(0.3, 0.7, 0.1, -0.7) 0\n",
      "(0.3, 0.5, 0.1, -0.3) 1\n",
      "(0.3, 0.7, 0.1, -0.6) 0\n",
      "(0.3, 0.5, 0.0, -0.3) 0\n",
      "(0.3, 0.3, 0.0, -0.0) 1\n",
      "(0.3, 0.5, 0.0, -0.3) 0\n",
      "(0.3, 0.3, 0.0, 0.0) 1\n",
      "(0.3, 0.5, 0.0, -0.3) 0\n",
      "(0.3, 0.3, 0.0, 0.0) 1\n",
      "(0.3, 0.5, 0.0, -0.2) 0\n",
      "(0.4, 0.3, 0.0, 0.1) 1\n",
      "(0.4, 0.5, 0.0, -0.2) 0\n",
      "(0.4, 0.3, 0.0, 0.1) 1\n",
      "(0.4, 0.5, 0.0, -0.2) 0\n",
      "(0.4, 0.3, 0.0, 0.1) 1\n",
      "(0.4, 0.5, 0.0, -0.2) 0\n",
      "(0.4, 0.3, 0.0, 0.1) 1\n",
      "(0.4, 0.5, 0.0, -0.2) 0\n",
      "(0.4, 0.3, 0.0, 0.1) 1\n",
      "(0.4, 0.5, 0.0, -0.2) 0\n",
      "(0.4, 0.3, 0.0, 0.1) 1\n",
      "(0.4, 0.5, 0.0, -0.2) 0\n",
      "(0.5, 0.3, 0.0, 0.1) 1\n",
      "(0.5, 0.5, 0.0, -0.2) 0\n",
      "(0.5, 0.3, 0.0, 0.1) 1\n",
      "(0.5, 0.5, 0.0, -0.2) 0\n",
      "(0.5, 0.3, 0.0, 0.1) 1\n",
      "(0.5, 0.5, 0.0, -0.1) 0\n",
      "(0.5, 0.3, 0.0, 0.1) 1\n",
      "(0.5, 0.5, 0.0, -0.1) 0\n",
      "(0.5, 0.3, 0.0, 0.2) 1\n",
      "(0.5, 0.5, 0.0, -0.1) 0\n",
      "(0.5, 0.3, 0.0, 0.2) 1\n",
      "(0.5, 0.5, 0.0, -0.1) 0\n",
      "(0.5, 0.3, 0.0, 0.2) 1\n",
      "(0.6, 0.5, 0.0, -0.1) 0\n",
      "(0.6, 0.3, 0.0, 0.2) 1\n",
      "(0.6, 0.5, 0.0, -0.1) 0\n",
      "(0.6, 0.3, 0.0, 0.2) 1\n",
      "(0.6, 0.5, 0.0, -0.1) 0\n",
      "(0.6, 0.3, 0.0, 0.2) 1\n",
      "(0.6, 0.5, 0.0, -0.1) 0\n",
      "(0.6, 0.3, 0.0, 0.2) 1\n",
      "(0.6, 0.5, 0.0, -0.1) 0\n",
      "(0.6, 0.3, 0.0, 0.2) 1\n",
      "(0.6, 0.5, 0.0, -0.1) 0\n",
      "(0.6, 0.3, 0.0, 0.2) 1\n",
      "(0.7, 0.5, 0.0, -0.0) 0\n",
      "(0.7, 0.3, 0.0, 0.3) 1\n",
      "(0.7, 0.5, 0.0, -0.0) 0\n",
      "(0.7, 0.3, 0.0, 0.3) 1\n",
      "(0.7, 0.5, 0.0, -0.0) 0\n",
      "(0.7, 0.3, 0.0, 0.3) 1\n",
      "(0.7, 0.5, 0.0, 0.0) 0\n",
      "(0.7, 0.3, 0.0, 0.3) 1\n",
      "(0.7, 0.5, 0.0, 0.0) 0\n",
      "(0.7, 0.3, 0.1, 0.3) 1\n",
      "(0.7, 0.5, 0.1, 0.1) 1\n",
      "(0.7, 0.7, 0.1, -0.2) 1\n",
      "(0.8, 0.9, 0.1, -0.5) 1\n",
      "(0.8, 1.1, 0.0, -0.8) 0\n",
      "(0.8, 0.9, 0.0, -0.4) 0\n",
      "(0.8, 0.7, 0.0, -0.1) 0\n",
      "(0.8, 0.5, 0.0, 0.2) 1\n",
      "(0.8, 0.7, 0.0, -0.1) 0\n",
      "(0.9, 0.5, 0.0, 0.2) 1\n",
      "(0.9, 0.7, 0.0, -0.1) 0\n",
      "(0.9, 0.5, 0.0, 0.2) 1\n",
      "(0.9, 0.7, 0.0, -0.1) 0\n",
      "(0.9, 0.5, 0.0, 0.2) 1\n",
      "(0.9, 0.7, 0.0, -0.1) 0\n",
      "(0.9, 0.5, 0.0, 0.2) 1\n",
      "(0.9, 0.7, 0.0, -0.1) 0\n",
      "(0.9, 0.5, 0.0, 0.2) 1\n",
      "(1.0, 0.7, 0.0, -0.1) 0\n",
      "(1.0, 0.5, 0.0, 0.2) 1\n",
      "(1.0, 0.7, 0.0, -0.0) 1\n",
      "(1.0, 0.9, 0.0, -0.3) 0\n",
      "(1.0, 0.7, 0.0, -0.0) 1\n",
      "(1.0, 0.9, 0.0, -0.3) 0\n",
      "(1.0, 0.7, 0.0, -0.0) 1\n",
      "(1.1, 0.9, 0.0, -0.3) 0\n",
      "(1.1, 0.7, 0.0, 0.0) 1\n",
      "(1.1, 0.9, 0.0, -0.3) 0\n",
      "(1.1, 0.7, 0.0, 0.0) 1\n",
      "(1.1, 0.9, 0.0, -0.3) 0\n",
      "(1.1, 0.7, 0.0, 0.0) 1\n",
      "(1.1, 0.9, 0.0, -0.3) 0\n",
      "(1.2, 0.7, -0.0, 0.0) 1\n",
      "(1.2, 0.9, -0.0, -0.3) 0\n",
      "(1.2, 0.7, -0.0, 0.0) 1\n",
      "(1.2, 0.9, -0.0, -0.3) 0\n",
      "(1.2, 0.7, -0.0, 0.0) 1\n",
      "(1.2, 0.9, -0.0, -0.3) 0\n",
      "(1.3, 0.7, -0.0, 0.0) 0\n",
      "(1.3, 0.5, -0.0, 0.3) 1\n",
      "(1.3, 0.7, -0.0, -0.0) 0\n",
      "(1.3, 0.5, -0.0, 0.3) 1\n",
      "(1.3, 0.7, -0.0, -0.0) 0\n",
      "(1.3, 0.5, -0.0, 0.3) 1\n",
      "(1.3, 0.7, -0.0, -0.0) 0\n",
      "(1.3, 0.5, -0.0, 0.3) 1\n",
      "(1.4, 0.7, 0.0, -0.0) 0\n",
      "(1.4, 0.5, 0.0, 0.3) 1\n",
      "(1.4, 0.7, 0.0, -0.0) 0\n",
      "(1.4, 0.5, 0.0, 0.3) 1\n",
      "(1.4, 0.7, 0.0, -0.0) 0\n",
      "(1.4, 0.5, 0.0, 0.3) 1\n",
      "(1.4, 0.7, 0.0, 0.0) 0\n",
      "(1.4, 0.5, 0.0, 0.3) 1\n",
      "(1.4, 0.7, 0.0, 0.0) 0\n",
      "(1.5, 0.5, 0.0, 0.3) 1\n",
      "(1.5, 0.7, 0.0, 0.0) 0\n",
      "(1.5, 0.5, 0.0, 0.3) 1\n",
      "(1.5, 0.7, 0.0, 0.1) 1\n",
      "(1.5, 0.9, 0.0, -0.2) 0\n",
      "(1.5, 0.7, 0.0, 0.1) 1\n",
      "(1.5, 0.9, 0.0, -0.2) 0\n",
      "(1.6, 0.7, 0.0, 0.1) 1\n",
      "(1.6, 0.9, 0.0, -0.2) 0\n",
      "(1.6, 0.7, 0.0, 0.1) 1\n",
      "(1.6, 0.9, 0.0, -0.2) 0\n",
      "(1.6, 0.7, 0.0, 0.1) 1\n",
      "(1.6, 0.9, 0.0, -0.1) 0\n",
      "(1.6, 0.7, 0.0, 0.2) 1\n",
      "(1.7, 0.9, 0.0, -0.1) 0\n",
      "(1.7, 0.7, 0.0, 0.2) 1\n",
      "(1.7, 0.9, 0.0, -0.1) 0\n",
      "(1.7, 0.7, 0.0, 0.2) 1\n",
      "(1.7, 0.9, 0.0, -0.1) 0\n",
      "(1.7, 0.7, 0.0, 0.2) 1\n",
      "(1.8, 0.9, 0.0, -0.0) 1\n",
      "(1.8, 1.1, 0.0, -0.3) 0\n",
      "(1.8, 0.9, 0.0, -0.0) 1\n",
      "(1.8, 1.1, 0.0, -0.3) 0\n",
      "(1.8, 0.9, 0.0, 0.0) 1\n",
      "(1.8, 1.1, 0.0, -0.3) 0\n",
      "(1.9, 0.9, 0.0, 0.0) 1\n",
      "(1.9, 1.1, 0.0, -0.3) 0\n",
      "(1.9, 0.9, 0.0, 0.0) 1\n",
      "(1.9, 1.1, 0.0, -0.2) 0\n",
      "(1.9, 0.9, 0.0, 0.1) 1\n",
      "(2.0, 1.1, 0.0, -0.2) 0\n",
      "(2.0, 0.9, 0.0, 0.1) 1\n",
      "(2.0, 1.1, 0.0, -0.2) 0\n",
      "(2.0, 0.9, 0.0, 0.1) 1\n",
      "(2.0, 1.1, 0.0, -0.2) 0\n",
      "(2.1, 0.9, 0.0, 0.1) 1\n",
      "(2.1, 1.1, 0.0, -0.2) 0\n",
      "(2.1, 0.9, 0.0, 0.1) 1\n",
      "(2.1, 1.1, 0.0, -0.2) 0\n",
      "(2.1, 0.9, 0.0, 0.1) 1\n",
      "(2.2, 1.1, 0.0, -0.2) 0\n",
      "(2.2, 0.9, -0.0, 0.1) 1\n",
      "(2.2, 1.1, 0.0, -0.2) 0\n",
      "(2.2, 0.9, -0.0, 0.1) 1\n",
      "(2.2, 1.1, -0.0, -0.2) 0\n",
      "(2.2, 0.9, -0.0, 0.1) 1\n",
      "(2.3, 1.1, -0.0, -0.2) 0\n",
      "(2.3, 0.9, -0.0, 0.1) 1\n",
      "(2.3, 1.1, -0.0, -0.2) 0\n",
      "(2.3, 0.9, -0.0, 0.1) 1\n",
      "(2.3, 1.1, -0.0, -0.2) 0\n",
      "(2.4, 0.9, -0.0, 0.1) 0\n",
      "(2.4, 0.7, -0.0, 0.4) 1\n",
      "(2.4, 0.9, -0.0, 0.1) 0\n",
      "(2.4, 0.7, -0.0, 0.4) 0\n"
     ]
    }
   ],
   "source": [
    "s = env.reset()\n",
    "\n",
    "done = False\n",
    "while not done:\n",
    "    env.render()\n",
    "    a = agent.get_best_action(s)   \n",
    "    new_s, r, done, info = env.step(a)\n",
    "    print(s, a)\n",
    "    s = new_s\n",
    "print(s, a)    "
   ]
  },
  {
   "cell_type": "code",
   "execution_count": 722,
   "metadata": {},
   "outputs": [
    {
     "ename": "SyntaxError",
     "evalue": "invalid syntax (<ipython-input-722-06ec600afb0b>, line 3)",
     "output_type": "error",
     "traceback": [
      "\u001b[1;36m  File \u001b[1;32m\"<ipython-input-722-06ec600afb0b>\"\u001b[1;36m, line \u001b[1;32m3\u001b[0m\n\u001b[1;33m    (0.02, -0.3, 0.23, 1.2) 0\u001b[0m\n\u001b[1;37m                            ^\u001b[0m\n\u001b[1;31mSyntaxError\u001b[0m\u001b[1;31m:\u001b[0m invalid syntax\n"
     ]
    }
   ],
   "source": [
    "(0.28, -1.1, 0.23, 2.2)\n",
    "(-0.02, -0.2, 0.22, 1.0)\n",
    "(0.02, -0.3, 0.23, 1.2) 0"
   ]
  },
  {
   "cell_type": "code",
   "execution_count": null,
   "metadata": {},
   "outputs": [],
   "source": []
  },
  {
   "cell_type": "code",
   "execution_count": null,
   "metadata": {},
   "outputs": [],
   "source": []
  }
 ],
 "metadata": {
  "colab": {
   "collapsed_sections": [],
   "name": "seminar_qlearning.ipynb",
   "provenance": []
  },
  "kernelspec": {
   "display_name": "Python 3",
   "language": "python",
   "name": "python3"
  },
  "language_info": {
   "codemirror_mode": {
    "name": "ipython",
    "version": 3
   },
   "file_extension": ".py",
   "mimetype": "text/x-python",
   "name": "python",
   "nbconvert_exporter": "python",
   "pygments_lexer": "ipython3",
   "version": "3.7.7"
  }
 },
 "nbformat": 4,
 "nbformat_minor": 1
}
